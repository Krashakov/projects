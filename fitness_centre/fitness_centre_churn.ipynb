{
 "cells": [
  {
   "cell_type": "markdown",
   "metadata": {},
   "source": [
    "# Анализ оттока клиентов сети фитнес-центров"
   ]
  },
  {
   "cell_type": "markdown",
   "metadata": {},
   "source": [
    "Целями данной работы являются:\n",
    "- прогноз вероятности оттока клиентов сети фитнес-центров на основе имеющихся клиентских анкет;\n",
    "- создание типичных портретов клиентов;\n",
    "- анализ признаков, наиболее сильно влияющих на отток;\n",
    "- разработка рекомендаций по повышению качества работы с клиентами."
   ]
  },
  {
   "cell_type": "markdown",
   "metadata": {
    "toc": true
   },
   "source": [
    "<h1>Содержание<span class=\"tocSkip\"></span></h1>\n",
    "<div class=\"toc\"><ul class=\"toc-item\"><li><span><a href=\"#Знакомство-с-данными\" data-toc-modified-id=\"Знакомство-с-данными-1\"><span class=\"toc-item-num\">1&nbsp;&nbsp;</span>Знакомство с данными</a></span></li><li><span><a href=\"#Предобработка-данных\" data-toc-modified-id=\"Предобработка-данных-2\"><span class=\"toc-item-num\">2&nbsp;&nbsp;</span>Предобработка данных</a></span></li><li><span><a href=\"#Исследовательский-анализ-данных\" data-toc-modified-id=\"Исследовательский-анализ-данных-3\"><span class=\"toc-item-num\">3&nbsp;&nbsp;</span>Исследовательский анализ данных</a></span><ul class=\"toc-item\"><li><span><a href=\"#Распределение-признаков\" data-toc-modified-id=\"Распределение-признаков-3.1\"><span class=\"toc-item-num\">3.1&nbsp;&nbsp;</span>Распределение признаков</a></span></li><li><span><a href=\"#Матрица-корреляций\" data-toc-modified-id=\"Матрица-корреляций-3.2\"><span class=\"toc-item-num\">3.2&nbsp;&nbsp;</span>Матрица корреляций</a></span></li></ul></li><li><span><a href=\"#Модель-прогнозирования-оттока-клиентов\" data-toc-modified-id=\"Модель-прогнозирования-оттока-клиентов-4\"><span class=\"toc-item-num\">4&nbsp;&nbsp;</span>Модель прогнозирования оттока клиентов</a></span></li><li><span><a href=\"#Кластеризация-клиентов\" data-toc-modified-id=\"Кластеризация-клиентов-5\"><span class=\"toc-item-num\">5&nbsp;&nbsp;</span>Кластеризация клиентов</a></span><ul class=\"toc-item\"><li><span><a href=\"#Кластеризация\" data-toc-modified-id=\"Кластеризация-5.1\"><span class=\"toc-item-num\">5.1&nbsp;&nbsp;</span>Кластеризация</a></span></li><li><span><a href=\"#Сравнение-кластеров\" data-toc-modified-id=\"Сравнение-кластеров-5.2\"><span class=\"toc-item-num\">5.2&nbsp;&nbsp;</span>Сравнение кластеров</a></span></li><li><span><a href=\"#Распределения-признаков-для-кластеров\" data-toc-modified-id=\"Распределения-признаков-для-кластеров-5.3\"><span class=\"toc-item-num\">5.3&nbsp;&nbsp;</span>Распределения признаков для кластеров</a></span></li><li><span><a href=\"#Доля-оттока-для-кластеров\" data-toc-modified-id=\"Доля-оттока-для-кластеров-5.4\"><span class=\"toc-item-num\">5.4&nbsp;&nbsp;</span>Доля оттока для кластеров</a></span></li></ul></li><li><span><a href=\"#Выводы-и-рекомендации\" data-toc-modified-id=\"Выводы-и-рекомендации-6\"><span class=\"toc-item-num\">6&nbsp;&nbsp;</span>Выводы и рекомендации</a></span></li></ul></div>"
   ]
  },
  {
   "cell_type": "markdown",
   "metadata": {},
   "source": [
    "## Знакомство с данными"
   ]
  },
  {
   "cell_type": "code",
   "execution_count": 1,
   "metadata": {},
   "outputs": [],
   "source": [
    "# импортируем необходимые библиотеки\n",
    "import pandas as pd\n",
    "import numpy as np\n",
    "import seaborn as sns\n",
    "import matplotlib.pyplot as plt\n",
    "from sklearn.preprocessing import StandardScaler\n",
    "from sklearn.model_selection import train_test_split\n",
    "from sklearn.linear_model import LogisticRegression\n",
    "from sklearn.ensemble import RandomForestRegressor\n",
    "from sklearn.ensemble import RandomForestClassifier\n",
    "from sklearn.metrics import accuracy_score, precision_score, recall_score, f1_score\n",
    "from scipy.cluster.hierarchy import dendrogram, linkage \n",
    "from sklearn.cluster import KMeans"
   ]
  },
  {
   "cell_type": "code",
   "execution_count": 2,
   "metadata": {},
   "outputs": [],
   "source": [
    "gym = pd.read_csv('/datasets/gym_churn.csv')"
   ]
  },
  {
   "cell_type": "code",
   "execution_count": 3,
   "metadata": {},
   "outputs": [
    {
     "data": {
      "text/html": [
       "<div>\n",
       "<style scoped>\n",
       "    .dataframe tbody tr th:only-of-type {\n",
       "        vertical-align: middle;\n",
       "    }\n",
       "\n",
       "    .dataframe tbody tr th {\n",
       "        vertical-align: top;\n",
       "    }\n",
       "\n",
       "    .dataframe thead th {\n",
       "        text-align: right;\n",
       "    }\n",
       "</style>\n",
       "<table border=\"1\" class=\"dataframe\">\n",
       "  <thead>\n",
       "    <tr style=\"text-align: right;\">\n",
       "      <th></th>\n",
       "      <th>gender</th>\n",
       "      <th>Near_Location</th>\n",
       "      <th>Partner</th>\n",
       "      <th>Promo_friends</th>\n",
       "      <th>Phone</th>\n",
       "      <th>Contract_period</th>\n",
       "      <th>Group_visits</th>\n",
       "      <th>Age</th>\n",
       "      <th>Avg_additional_charges_total</th>\n",
       "      <th>Month_to_end_contract</th>\n",
       "      <th>Lifetime</th>\n",
       "      <th>Avg_class_frequency_total</th>\n",
       "      <th>Avg_class_frequency_current_month</th>\n",
       "      <th>Churn</th>\n",
       "    </tr>\n",
       "  </thead>\n",
       "  <tbody>\n",
       "    <tr>\n",
       "      <td>0</td>\n",
       "      <td>1</td>\n",
       "      <td>1</td>\n",
       "      <td>1</td>\n",
       "      <td>1</td>\n",
       "      <td>0</td>\n",
       "      <td>6</td>\n",
       "      <td>1</td>\n",
       "      <td>29</td>\n",
       "      <td>14.227470</td>\n",
       "      <td>5.0</td>\n",
       "      <td>3</td>\n",
       "      <td>0.020398</td>\n",
       "      <td>0.000000</td>\n",
       "      <td>0</td>\n",
       "    </tr>\n",
       "    <tr>\n",
       "      <td>1</td>\n",
       "      <td>0</td>\n",
       "      <td>1</td>\n",
       "      <td>0</td>\n",
       "      <td>0</td>\n",
       "      <td>1</td>\n",
       "      <td>12</td>\n",
       "      <td>1</td>\n",
       "      <td>31</td>\n",
       "      <td>113.202938</td>\n",
       "      <td>12.0</td>\n",
       "      <td>7</td>\n",
       "      <td>1.922936</td>\n",
       "      <td>1.910244</td>\n",
       "      <td>0</td>\n",
       "    </tr>\n",
       "    <tr>\n",
       "      <td>2</td>\n",
       "      <td>0</td>\n",
       "      <td>1</td>\n",
       "      <td>1</td>\n",
       "      <td>0</td>\n",
       "      <td>1</td>\n",
       "      <td>1</td>\n",
       "      <td>0</td>\n",
       "      <td>28</td>\n",
       "      <td>129.448479</td>\n",
       "      <td>1.0</td>\n",
       "      <td>2</td>\n",
       "      <td>1.859098</td>\n",
       "      <td>1.736502</td>\n",
       "      <td>0</td>\n",
       "    </tr>\n",
       "    <tr>\n",
       "      <td>3</td>\n",
       "      <td>0</td>\n",
       "      <td>1</td>\n",
       "      <td>1</td>\n",
       "      <td>1</td>\n",
       "      <td>1</td>\n",
       "      <td>12</td>\n",
       "      <td>1</td>\n",
       "      <td>33</td>\n",
       "      <td>62.669863</td>\n",
       "      <td>12.0</td>\n",
       "      <td>2</td>\n",
       "      <td>3.205633</td>\n",
       "      <td>3.357215</td>\n",
       "      <td>0</td>\n",
       "    </tr>\n",
       "    <tr>\n",
       "      <td>4</td>\n",
       "      <td>1</td>\n",
       "      <td>1</td>\n",
       "      <td>1</td>\n",
       "      <td>1</td>\n",
       "      <td>1</td>\n",
       "      <td>1</td>\n",
       "      <td>0</td>\n",
       "      <td>26</td>\n",
       "      <td>198.362265</td>\n",
       "      <td>1.0</td>\n",
       "      <td>3</td>\n",
       "      <td>1.113884</td>\n",
       "      <td>1.120078</td>\n",
       "      <td>0</td>\n",
       "    </tr>\n",
       "    <tr>\n",
       "      <td>5</td>\n",
       "      <td>1</td>\n",
       "      <td>1</td>\n",
       "      <td>0</td>\n",
       "      <td>0</td>\n",
       "      <td>1</td>\n",
       "      <td>1</td>\n",
       "      <td>1</td>\n",
       "      <td>34</td>\n",
       "      <td>450.743960</td>\n",
       "      <td>1.0</td>\n",
       "      <td>3</td>\n",
       "      <td>2.623477</td>\n",
       "      <td>2.637007</td>\n",
       "      <td>0</td>\n",
       "    </tr>\n",
       "    <tr>\n",
       "      <td>6</td>\n",
       "      <td>1</td>\n",
       "      <td>1</td>\n",
       "      <td>1</td>\n",
       "      <td>1</td>\n",
       "      <td>0</td>\n",
       "      <td>6</td>\n",
       "      <td>1</td>\n",
       "      <td>32</td>\n",
       "      <td>94.266389</td>\n",
       "      <td>6.0</td>\n",
       "      <td>2</td>\n",
       "      <td>1.138941</td>\n",
       "      <td>1.277242</td>\n",
       "      <td>0</td>\n",
       "    </tr>\n",
       "    <tr>\n",
       "      <td>7</td>\n",
       "      <td>0</td>\n",
       "      <td>1</td>\n",
       "      <td>0</td>\n",
       "      <td>0</td>\n",
       "      <td>1</td>\n",
       "      <td>1</td>\n",
       "      <td>0</td>\n",
       "      <td>30</td>\n",
       "      <td>217.786641</td>\n",
       "      <td>1.0</td>\n",
       "      <td>0</td>\n",
       "      <td>1.213502</td>\n",
       "      <td>1.049387</td>\n",
       "      <td>1</td>\n",
       "    </tr>\n",
       "    <tr>\n",
       "      <td>8</td>\n",
       "      <td>1</td>\n",
       "      <td>1</td>\n",
       "      <td>1</td>\n",
       "      <td>1</td>\n",
       "      <td>1</td>\n",
       "      <td>1</td>\n",
       "      <td>1</td>\n",
       "      <td>23</td>\n",
       "      <td>45.409909</td>\n",
       "      <td>1.0</td>\n",
       "      <td>1</td>\n",
       "      <td>1.106239</td>\n",
       "      <td>1.059333</td>\n",
       "      <td>0</td>\n",
       "    </tr>\n",
       "    <tr>\n",
       "      <td>9</td>\n",
       "      <td>0</td>\n",
       "      <td>1</td>\n",
       "      <td>0</td>\n",
       "      <td>0</td>\n",
       "      <td>1</td>\n",
       "      <td>1</td>\n",
       "      <td>0</td>\n",
       "      <td>31</td>\n",
       "      <td>65.310836</td>\n",
       "      <td>1.0</td>\n",
       "      <td>11</td>\n",
       "      <td>1.810852</td>\n",
       "      <td>1.951368</td>\n",
       "      <td>0</td>\n",
       "    </tr>\n",
       "  </tbody>\n",
       "</table>\n",
       "</div>"
      ],
      "text/plain": [
       "   gender  Near_Location  Partner  Promo_friends  Phone  Contract_period  \\\n",
       "0       1              1        1              1      0                6   \n",
       "1       0              1        0              0      1               12   \n",
       "2       0              1        1              0      1                1   \n",
       "3       0              1        1              1      1               12   \n",
       "4       1              1        1              1      1                1   \n",
       "5       1              1        0              0      1                1   \n",
       "6       1              1        1              1      0                6   \n",
       "7       0              1        0              0      1                1   \n",
       "8       1              1        1              1      1                1   \n",
       "9       0              1        0              0      1                1   \n",
       "\n",
       "   Group_visits  Age  Avg_additional_charges_total  Month_to_end_contract  \\\n",
       "0             1   29                     14.227470                    5.0   \n",
       "1             1   31                    113.202938                   12.0   \n",
       "2             0   28                    129.448479                    1.0   \n",
       "3             1   33                     62.669863                   12.0   \n",
       "4             0   26                    198.362265                    1.0   \n",
       "5             1   34                    450.743960                    1.0   \n",
       "6             1   32                     94.266389                    6.0   \n",
       "7             0   30                    217.786641                    1.0   \n",
       "8             1   23                     45.409909                    1.0   \n",
       "9             0   31                     65.310836                    1.0   \n",
       "\n",
       "   Lifetime  Avg_class_frequency_total  Avg_class_frequency_current_month  \\\n",
       "0         3                   0.020398                           0.000000   \n",
       "1         7                   1.922936                           1.910244   \n",
       "2         2                   1.859098                           1.736502   \n",
       "3         2                   3.205633                           3.357215   \n",
       "4         3                   1.113884                           1.120078   \n",
       "5         3                   2.623477                           2.637007   \n",
       "6         2                   1.138941                           1.277242   \n",
       "7         0                   1.213502                           1.049387   \n",
       "8         1                   1.106239                           1.059333   \n",
       "9        11                   1.810852                           1.951368   \n",
       "\n",
       "   Churn  \n",
       "0      0  \n",
       "1      0  \n",
       "2      0  \n",
       "3      0  \n",
       "4      0  \n",
       "5      0  \n",
       "6      0  \n",
       "7      1  \n",
       "8      0  \n",
       "9      0  "
      ]
     },
     "execution_count": 3,
     "metadata": {},
     "output_type": "execute_result"
    }
   ],
   "source": [
    "gym.head(10)"
   ]
  },
  {
   "cell_type": "code",
   "execution_count": 4,
   "metadata": {},
   "outputs": [
    {
     "name": "stdout",
     "output_type": "stream",
     "text": [
      "<class 'pandas.core.frame.DataFrame'>\n",
      "RangeIndex: 4000 entries, 0 to 3999\n",
      "Data columns (total 14 columns):\n",
      "gender                               4000 non-null int64\n",
      "Near_Location                        4000 non-null int64\n",
      "Partner                              4000 non-null int64\n",
      "Promo_friends                        4000 non-null int64\n",
      "Phone                                4000 non-null int64\n",
      "Contract_period                      4000 non-null int64\n",
      "Group_visits                         4000 non-null int64\n",
      "Age                                  4000 non-null int64\n",
      "Avg_additional_charges_total         4000 non-null float64\n",
      "Month_to_end_contract                4000 non-null float64\n",
      "Lifetime                             4000 non-null int64\n",
      "Avg_class_frequency_total            4000 non-null float64\n",
      "Avg_class_frequency_current_month    4000 non-null float64\n",
      "Churn                                4000 non-null int64\n",
      "dtypes: float64(4), int64(10)\n",
      "memory usage: 437.6 KB\n"
     ]
    }
   ],
   "source": [
    "gym.info()"
   ]
  },
  {
   "cell_type": "code",
   "execution_count": 5,
   "metadata": {},
   "outputs": [
    {
     "data": {
      "text/html": [
       "<div>\n",
       "<style scoped>\n",
       "    .dataframe tbody tr th:only-of-type {\n",
       "        vertical-align: middle;\n",
       "    }\n",
       "\n",
       "    .dataframe tbody tr th {\n",
       "        vertical-align: top;\n",
       "    }\n",
       "\n",
       "    .dataframe thead th {\n",
       "        text-align: right;\n",
       "    }\n",
       "</style>\n",
       "<table border=\"1\" class=\"dataframe\">\n",
       "  <thead>\n",
       "    <tr style=\"text-align: right;\">\n",
       "      <th></th>\n",
       "      <th>gender</th>\n",
       "      <th>Near_Location</th>\n",
       "      <th>Partner</th>\n",
       "      <th>Promo_friends</th>\n",
       "      <th>Phone</th>\n",
       "      <th>Contract_period</th>\n",
       "      <th>Group_visits</th>\n",
       "      <th>Age</th>\n",
       "      <th>Avg_additional_charges_total</th>\n",
       "      <th>Month_to_end_contract</th>\n",
       "      <th>Lifetime</th>\n",
       "      <th>Avg_class_frequency_total</th>\n",
       "      <th>Avg_class_frequency_current_month</th>\n",
       "      <th>Churn</th>\n",
       "    </tr>\n",
       "  </thead>\n",
       "  <tbody>\n",
       "    <tr>\n",
       "      <td>count</td>\n",
       "      <td>4000.000000</td>\n",
       "      <td>4000.000000</td>\n",
       "      <td>4000.000000</td>\n",
       "      <td>4000.000000</td>\n",
       "      <td>4000.000000</td>\n",
       "      <td>4000.000000</td>\n",
       "      <td>4000.000000</td>\n",
       "      <td>4000.000000</td>\n",
       "      <td>4000.000000</td>\n",
       "      <td>4000.000000</td>\n",
       "      <td>4000.000000</td>\n",
       "      <td>4000.000000</td>\n",
       "      <td>4000.000000</td>\n",
       "      <td>4000.000000</td>\n",
       "    </tr>\n",
       "    <tr>\n",
       "      <td>mean</td>\n",
       "      <td>0.510250</td>\n",
       "      <td>0.845250</td>\n",
       "      <td>0.486750</td>\n",
       "      <td>0.308500</td>\n",
       "      <td>0.903500</td>\n",
       "      <td>4.681250</td>\n",
       "      <td>0.412250</td>\n",
       "      <td>29.184250</td>\n",
       "      <td>146.943728</td>\n",
       "      <td>4.322750</td>\n",
       "      <td>3.724750</td>\n",
       "      <td>1.879020</td>\n",
       "      <td>1.767052</td>\n",
       "      <td>0.265250</td>\n",
       "    </tr>\n",
       "    <tr>\n",
       "      <td>std</td>\n",
       "      <td>0.499957</td>\n",
       "      <td>0.361711</td>\n",
       "      <td>0.499887</td>\n",
       "      <td>0.461932</td>\n",
       "      <td>0.295313</td>\n",
       "      <td>4.549706</td>\n",
       "      <td>0.492301</td>\n",
       "      <td>3.258367</td>\n",
       "      <td>96.355602</td>\n",
       "      <td>4.191297</td>\n",
       "      <td>3.749267</td>\n",
       "      <td>0.972245</td>\n",
       "      <td>1.052906</td>\n",
       "      <td>0.441521</td>\n",
       "    </tr>\n",
       "    <tr>\n",
       "      <td>min</td>\n",
       "      <td>0.000000</td>\n",
       "      <td>0.000000</td>\n",
       "      <td>0.000000</td>\n",
       "      <td>0.000000</td>\n",
       "      <td>0.000000</td>\n",
       "      <td>1.000000</td>\n",
       "      <td>0.000000</td>\n",
       "      <td>18.000000</td>\n",
       "      <td>0.148205</td>\n",
       "      <td>1.000000</td>\n",
       "      <td>0.000000</td>\n",
       "      <td>0.000000</td>\n",
       "      <td>0.000000</td>\n",
       "      <td>0.000000</td>\n",
       "    </tr>\n",
       "    <tr>\n",
       "      <td>25%</td>\n",
       "      <td>0.000000</td>\n",
       "      <td>1.000000</td>\n",
       "      <td>0.000000</td>\n",
       "      <td>0.000000</td>\n",
       "      <td>1.000000</td>\n",
       "      <td>1.000000</td>\n",
       "      <td>0.000000</td>\n",
       "      <td>27.000000</td>\n",
       "      <td>68.868830</td>\n",
       "      <td>1.000000</td>\n",
       "      <td>1.000000</td>\n",
       "      <td>1.180875</td>\n",
       "      <td>0.963003</td>\n",
       "      <td>0.000000</td>\n",
       "    </tr>\n",
       "    <tr>\n",
       "      <td>50%</td>\n",
       "      <td>1.000000</td>\n",
       "      <td>1.000000</td>\n",
       "      <td>0.000000</td>\n",
       "      <td>0.000000</td>\n",
       "      <td>1.000000</td>\n",
       "      <td>1.000000</td>\n",
       "      <td>0.000000</td>\n",
       "      <td>29.000000</td>\n",
       "      <td>136.220159</td>\n",
       "      <td>1.000000</td>\n",
       "      <td>3.000000</td>\n",
       "      <td>1.832768</td>\n",
       "      <td>1.719574</td>\n",
       "      <td>0.000000</td>\n",
       "    </tr>\n",
       "    <tr>\n",
       "      <td>75%</td>\n",
       "      <td>1.000000</td>\n",
       "      <td>1.000000</td>\n",
       "      <td>1.000000</td>\n",
       "      <td>1.000000</td>\n",
       "      <td>1.000000</td>\n",
       "      <td>6.000000</td>\n",
       "      <td>1.000000</td>\n",
       "      <td>31.000000</td>\n",
       "      <td>210.949625</td>\n",
       "      <td>6.000000</td>\n",
       "      <td>5.000000</td>\n",
       "      <td>2.536078</td>\n",
       "      <td>2.510336</td>\n",
       "      <td>1.000000</td>\n",
       "    </tr>\n",
       "    <tr>\n",
       "      <td>max</td>\n",
       "      <td>1.000000</td>\n",
       "      <td>1.000000</td>\n",
       "      <td>1.000000</td>\n",
       "      <td>1.000000</td>\n",
       "      <td>1.000000</td>\n",
       "      <td>12.000000</td>\n",
       "      <td>1.000000</td>\n",
       "      <td>41.000000</td>\n",
       "      <td>552.590740</td>\n",
       "      <td>12.000000</td>\n",
       "      <td>31.000000</td>\n",
       "      <td>6.023668</td>\n",
       "      <td>6.146783</td>\n",
       "      <td>1.000000</td>\n",
       "    </tr>\n",
       "  </tbody>\n",
       "</table>\n",
       "</div>"
      ],
      "text/plain": [
       "            gender  Near_Location      Partner  Promo_friends        Phone  \\\n",
       "count  4000.000000    4000.000000  4000.000000    4000.000000  4000.000000   \n",
       "mean      0.510250       0.845250     0.486750       0.308500     0.903500   \n",
       "std       0.499957       0.361711     0.499887       0.461932     0.295313   \n",
       "min       0.000000       0.000000     0.000000       0.000000     0.000000   \n",
       "25%       0.000000       1.000000     0.000000       0.000000     1.000000   \n",
       "50%       1.000000       1.000000     0.000000       0.000000     1.000000   \n",
       "75%       1.000000       1.000000     1.000000       1.000000     1.000000   \n",
       "max       1.000000       1.000000     1.000000       1.000000     1.000000   \n",
       "\n",
       "       Contract_period  Group_visits          Age  \\\n",
       "count      4000.000000   4000.000000  4000.000000   \n",
       "mean          4.681250      0.412250    29.184250   \n",
       "std           4.549706      0.492301     3.258367   \n",
       "min           1.000000      0.000000    18.000000   \n",
       "25%           1.000000      0.000000    27.000000   \n",
       "50%           1.000000      0.000000    29.000000   \n",
       "75%           6.000000      1.000000    31.000000   \n",
       "max          12.000000      1.000000    41.000000   \n",
       "\n",
       "       Avg_additional_charges_total  Month_to_end_contract     Lifetime  \\\n",
       "count                   4000.000000            4000.000000  4000.000000   \n",
       "mean                     146.943728               4.322750     3.724750   \n",
       "std                       96.355602               4.191297     3.749267   \n",
       "min                        0.148205               1.000000     0.000000   \n",
       "25%                       68.868830               1.000000     1.000000   \n",
       "50%                      136.220159               1.000000     3.000000   \n",
       "75%                      210.949625               6.000000     5.000000   \n",
       "max                      552.590740              12.000000    31.000000   \n",
       "\n",
       "       Avg_class_frequency_total  Avg_class_frequency_current_month  \\\n",
       "count                4000.000000                        4000.000000   \n",
       "mean                    1.879020                           1.767052   \n",
       "std                     0.972245                           1.052906   \n",
       "min                     0.000000                           0.000000   \n",
       "25%                     1.180875                           0.963003   \n",
       "50%                     1.832768                           1.719574   \n",
       "75%                     2.536078                           2.510336   \n",
       "max                     6.023668                           6.146783   \n",
       "\n",
       "             Churn  \n",
       "count  4000.000000  \n",
       "mean      0.265250  \n",
       "std       0.441521  \n",
       "min       0.000000  \n",
       "25%       0.000000  \n",
       "50%       0.000000  \n",
       "75%       1.000000  \n",
       "max       1.000000  "
      ]
     },
     "execution_count": 5,
     "metadata": {},
     "output_type": "execute_result"
    }
   ],
   "source": [
    "gym.describe()"
   ]
  },
  {
   "cell_type": "markdown",
   "metadata": {},
   "source": [
    "Видим, что пропусков в нашей таблице нет. Типы данных заданы корректно. Единственное, для наглядности вещественные числа можно округлить до 2-х знаков после запятой. Названия столбцов для удобства можно привести к нижнему регистру."
   ]
  },
  {
   "cell_type": "markdown",
   "metadata": {},
   "source": [
    "## Предобработка данных"
   ]
  },
  {
   "cell_type": "markdown",
   "metadata": {},
   "source": [
    "Приведем названия столбцов к нижнему регистру."
   ]
  },
  {
   "cell_type": "code",
   "execution_count": 6,
   "metadata": {
    "scrolled": true
   },
   "outputs": [
    {
     "data": {
      "text/plain": [
       "Index(['gender', 'near_location', 'partner', 'promo_friends', 'phone',\n",
       "       'contract_period', 'group_visits', 'age',\n",
       "       'avg_additional_charges_total', 'month_to_end_contract', 'lifetime',\n",
       "       'avg_class_frequency_total', 'avg_class_frequency_current_month',\n",
       "       'churn'],\n",
       "      dtype='object')"
      ]
     },
     "execution_count": 6,
     "metadata": {},
     "output_type": "execute_result"
    }
   ],
   "source": [
    "gym.columns = gym.columns.str.lower()\n",
    "gym.columns"
   ]
  },
  {
   "cell_type": "markdown",
   "metadata": {},
   "source": [
    "Для удобства отображения сократим названия некоторых столбцов."
   ]
  },
  {
   "cell_type": "code",
   "execution_count": 7,
   "metadata": {},
   "outputs": [],
   "source": [
    "gym = gym.rename(columns={'avg_additional_charges_total':'avg_ad_charges', 'month_to_end_contract':'month_to_end',\n",
    "    'avg_class_frequency_total':'avg_freq_total', 'avg_class_frequency_current_month':'avg_freq_month'})"
   ]
  },
  {
   "cell_type": "markdown",
   "metadata": {},
   "source": [
    "Округлим значения некоторых столбцов (с выручкой и средней частотой посещений) до 2-х знаков после запятой."
   ]
  },
  {
   "cell_type": "code",
   "execution_count": 8,
   "metadata": {},
   "outputs": [],
   "source": [
    "gym['avg_ad_charges'] = gym['avg_ad_charges'].round(2)\n",
    "gym['avg_freq_total'] = gym['avg_freq_total'].round(2)\n",
    "gym['avg_freq_month'] = gym['avg_freq_month'].round(2)"
   ]
  },
  {
   "cell_type": "code",
   "execution_count": 9,
   "metadata": {
    "scrolled": true
   },
   "outputs": [
    {
     "data": {
      "text/html": [
       "<div>\n",
       "<style scoped>\n",
       "    .dataframe tbody tr th:only-of-type {\n",
       "        vertical-align: middle;\n",
       "    }\n",
       "\n",
       "    .dataframe tbody tr th {\n",
       "        vertical-align: top;\n",
       "    }\n",
       "\n",
       "    .dataframe thead th {\n",
       "        text-align: right;\n",
       "    }\n",
       "</style>\n",
       "<table border=\"1\" class=\"dataframe\">\n",
       "  <thead>\n",
       "    <tr style=\"text-align: right;\">\n",
       "      <th></th>\n",
       "      <th>gender</th>\n",
       "      <th>near_location</th>\n",
       "      <th>partner</th>\n",
       "      <th>promo_friends</th>\n",
       "      <th>phone</th>\n",
       "      <th>contract_period</th>\n",
       "      <th>group_visits</th>\n",
       "      <th>age</th>\n",
       "      <th>avg_ad_charges</th>\n",
       "      <th>month_to_end</th>\n",
       "      <th>lifetime</th>\n",
       "      <th>avg_freq_total</th>\n",
       "      <th>avg_freq_month</th>\n",
       "      <th>churn</th>\n",
       "    </tr>\n",
       "  </thead>\n",
       "  <tbody>\n",
       "    <tr>\n",
       "      <td>0</td>\n",
       "      <td>1</td>\n",
       "      <td>1</td>\n",
       "      <td>1</td>\n",
       "      <td>1</td>\n",
       "      <td>0</td>\n",
       "      <td>6</td>\n",
       "      <td>1</td>\n",
       "      <td>29</td>\n",
       "      <td>14.23</td>\n",
       "      <td>5.0</td>\n",
       "      <td>3</td>\n",
       "      <td>0.02</td>\n",
       "      <td>0.00</td>\n",
       "      <td>0</td>\n",
       "    </tr>\n",
       "    <tr>\n",
       "      <td>1</td>\n",
       "      <td>0</td>\n",
       "      <td>1</td>\n",
       "      <td>0</td>\n",
       "      <td>0</td>\n",
       "      <td>1</td>\n",
       "      <td>12</td>\n",
       "      <td>1</td>\n",
       "      <td>31</td>\n",
       "      <td>113.20</td>\n",
       "      <td>12.0</td>\n",
       "      <td>7</td>\n",
       "      <td>1.92</td>\n",
       "      <td>1.91</td>\n",
       "      <td>0</td>\n",
       "    </tr>\n",
       "    <tr>\n",
       "      <td>2</td>\n",
       "      <td>0</td>\n",
       "      <td>1</td>\n",
       "      <td>1</td>\n",
       "      <td>0</td>\n",
       "      <td>1</td>\n",
       "      <td>1</td>\n",
       "      <td>0</td>\n",
       "      <td>28</td>\n",
       "      <td>129.45</td>\n",
       "      <td>1.0</td>\n",
       "      <td>2</td>\n",
       "      <td>1.86</td>\n",
       "      <td>1.74</td>\n",
       "      <td>0</td>\n",
       "    </tr>\n",
       "    <tr>\n",
       "      <td>3</td>\n",
       "      <td>0</td>\n",
       "      <td>1</td>\n",
       "      <td>1</td>\n",
       "      <td>1</td>\n",
       "      <td>1</td>\n",
       "      <td>12</td>\n",
       "      <td>1</td>\n",
       "      <td>33</td>\n",
       "      <td>62.67</td>\n",
       "      <td>12.0</td>\n",
       "      <td>2</td>\n",
       "      <td>3.21</td>\n",
       "      <td>3.36</td>\n",
       "      <td>0</td>\n",
       "    </tr>\n",
       "    <tr>\n",
       "      <td>4</td>\n",
       "      <td>1</td>\n",
       "      <td>1</td>\n",
       "      <td>1</td>\n",
       "      <td>1</td>\n",
       "      <td>1</td>\n",
       "      <td>1</td>\n",
       "      <td>0</td>\n",
       "      <td>26</td>\n",
       "      <td>198.36</td>\n",
       "      <td>1.0</td>\n",
       "      <td>3</td>\n",
       "      <td>1.11</td>\n",
       "      <td>1.12</td>\n",
       "      <td>0</td>\n",
       "    </tr>\n",
       "  </tbody>\n",
       "</table>\n",
       "</div>"
      ],
      "text/plain": [
       "   gender  near_location  partner  promo_friends  phone  contract_period  \\\n",
       "0       1              1        1              1      0                6   \n",
       "1       0              1        0              0      1               12   \n",
       "2       0              1        1              0      1                1   \n",
       "3       0              1        1              1      1               12   \n",
       "4       1              1        1              1      1                1   \n",
       "\n",
       "   group_visits  age  avg_ad_charges  month_to_end  lifetime  avg_freq_total  \\\n",
       "0             1   29           14.23           5.0         3            0.02   \n",
       "1             1   31          113.20          12.0         7            1.92   \n",
       "2             0   28          129.45           1.0         2            1.86   \n",
       "3             1   33           62.67          12.0         2            3.21   \n",
       "4             0   26          198.36           1.0         3            1.11   \n",
       "\n",
       "   avg_freq_month  churn  \n",
       "0            0.00      0  \n",
       "1            1.91      0  \n",
       "2            1.74      0  \n",
       "3            3.36      0  \n",
       "4            1.12      0  "
      ]
     },
     "execution_count": 9,
     "metadata": {},
     "output_type": "execute_result"
    }
   ],
   "source": [
    "gym.head()"
   ]
  },
  {
   "cell_type": "markdown",
   "metadata": {},
   "source": [
    "Проверим наши данные на наличие пропусков и дубликатов."
   ]
  },
  {
   "cell_type": "code",
   "execution_count": 10,
   "metadata": {},
   "outputs": [
    {
     "data": {
      "text/plain": [
       "gender             0\n",
       "near_location      0\n",
       "partner            0\n",
       "promo_friends      0\n",
       "phone              0\n",
       "contract_period    0\n",
       "group_visits       0\n",
       "age                0\n",
       "avg_ad_charges     0\n",
       "month_to_end       0\n",
       "lifetime           0\n",
       "avg_freq_total     0\n",
       "avg_freq_month     0\n",
       "churn              0\n",
       "dtype: int64"
      ]
     },
     "execution_count": 10,
     "metadata": {},
     "output_type": "execute_result"
    }
   ],
   "source": [
    "gym.isna().sum()"
   ]
  },
  {
   "cell_type": "code",
   "execution_count": 11,
   "metadata": {},
   "outputs": [
    {
     "data": {
      "text/plain": [
       "0"
      ]
     },
     "execution_count": 11,
     "metadata": {},
     "output_type": "execute_result"
    }
   ],
   "source": [
    "gym.duplicated().sum()"
   ]
  },
  {
   "cell_type": "markdown",
   "metadata": {},
   "source": [
    "Пропусков и дубликатов в таблице нет."
   ]
  },
  {
   "cell_type": "markdown",
   "metadata": {},
   "source": [
    "## Исследовательский анализ данных "
   ]
  },
  {
   "cell_type": "markdown",
   "metadata": {},
   "source": [
    "### Распределение признаков"
   ]
  },
  {
   "cell_type": "markdown",
   "metadata": {},
   "source": [
    "Изучем распределение значений для каждого столбца."
   ]
  },
  {
   "cell_type": "code",
   "execution_count": 12,
   "metadata": {
    "scrolled": true
   },
   "outputs": [
    {
     "name": "stdout",
     "output_type": "stream",
     "text": [
      "1    2041\n",
      "0    1959\n",
      "Name: gender, dtype: int64\n",
      "1    3381\n",
      "0     619\n",
      "Name: near_location, dtype: int64\n",
      "0    2053\n",
      "1    1947\n",
      "Name: partner, dtype: int64\n",
      "0    2766\n",
      "1    1234\n",
      "Name: promo_friends, dtype: int64\n",
      "1    3614\n",
      "0     386\n",
      "Name: phone, dtype: int64\n",
      "1     2207\n",
      "12     960\n",
      "6      833\n",
      "Name: contract_period, dtype: int64\n",
      "0    2351\n",
      "1    1649\n",
      "Name: group_visits, dtype: int64\n",
      "29    468\n",
      "30    457\n",
      "28    447\n",
      "31    434\n",
      "27    378\n",
      "32    364\n",
      "26    300\n",
      "33    253\n",
      "25    231\n",
      "34    174\n",
      "24    148\n",
      "35     98\n",
      "23     82\n",
      "36     48\n",
      "22     33\n",
      "37     29\n",
      "21     24\n",
      "20     14\n",
      "38     10\n",
      "39      3\n",
      "19      2\n",
      "18      2\n",
      "41      1\n",
      "Name: age, dtype: int64\n",
      "69.47     3\n",
      "5.93      3\n",
      "114.32    3\n",
      "227.77    3\n",
      "110.84    3\n",
      "         ..\n",
      "61.63     1\n",
      "134.94    1\n",
      "117.43    1\n",
      "74.39     1\n",
      "14.25     1\n",
      "Name: avg_ad_charges, Length: 3751, dtype: int64\n",
      "1.0     2207\n",
      "6.0      645\n",
      "12.0     524\n",
      "11.0     181\n",
      "5.0      130\n",
      "10.0      82\n",
      "9.0       73\n",
      "4.0       58\n",
      "8.0       38\n",
      "7.0       25\n",
      "3.0       23\n",
      "2.0       14\n",
      "Name: month_to_end, dtype: int64\n",
      "1     843\n",
      "2     610\n",
      "3     490\n",
      "0     487\n",
      "4     383\n",
      "5     273\n",
      "6     220\n",
      "7     167\n",
      "8     111\n",
      "9     100\n",
      "10     76\n",
      "12     53\n",
      "11     48\n",
      "13     28\n",
      "14     24\n",
      "15     24\n",
      "16     15\n",
      "17     11\n",
      "19      7\n",
      "20      7\n",
      "18      7\n",
      "21      5\n",
      "24      2\n",
      "22      2\n",
      "26      2\n",
      "23      2\n",
      "29      1\n",
      "27      1\n",
      "31      1\n",
      "Name: lifetime, dtype: int64\n",
      "0.00    89\n",
      "2.34    26\n",
      "1.69    25\n",
      "1.70    24\n",
      "1.55    22\n",
      "        ..\n",
      "3.59     1\n",
      "3.67     1\n",
      "4.53     1\n",
      "4.59     1\n",
      "4.84     1\n",
      "Name: avg_freq_total, Length: 444, dtype: int64\n",
      "0.00    184\n",
      "1.62     22\n",
      "0.57     21\n",
      "2.21     21\n",
      "1.65     20\n",
      "       ... \n",
      "4.21      1\n",
      "5.02      1\n",
      "4.18      1\n",
      "4.51      1\n",
      "4.45      1\n",
      "Name: avg_freq_month, Length: 448, dtype: int64\n",
      "0    2939\n",
      "1    1061\n",
      "Name: churn, dtype: int64\n"
     ]
    }
   ],
   "source": [
    "for i in gym.columns:\n",
    "    print(gym[i].value_counts())"
   ]
  },
  {
   "cell_type": "markdown",
   "metadata": {},
   "source": [
    "Есть несколько типов столбцов:\n",
    "- бинарные признаки с равномерным распределением: пол, компания-партнер;\n",
    "- бинарные признаки с доминированием какой-то категории: проживание в районе, где находится фитнес-центр (большинство клиентов живет или работает недалеко от фитнес-центра), запись в рамках акции (только треть клиентов), наличие телефона (подавляющее большинство), групповые занятия (большая часть клиентов не посещала такие занятия), факт оттока (ушла треть клиентов);\n",
    "- столбцы с количественными показателями."
   ]
  },
  {
   "cell_type": "markdown",
   "metadata": {},
   "source": [
    "Посмотрим на средние значения признаков для двух групп: тех, кто ушел, и тех, кто остался."
   ]
  },
  {
   "cell_type": "code",
   "execution_count": 13,
   "metadata": {},
   "outputs": [
    {
     "data": {
      "text/html": [
       "<div>\n",
       "<style scoped>\n",
       "    .dataframe tbody tr th:only-of-type {\n",
       "        vertical-align: middle;\n",
       "    }\n",
       "\n",
       "    .dataframe tbody tr th {\n",
       "        vertical-align: top;\n",
       "    }\n",
       "\n",
       "    .dataframe thead th {\n",
       "        text-align: right;\n",
       "    }\n",
       "</style>\n",
       "<table border=\"1\" class=\"dataframe\">\n",
       "  <thead>\n",
       "    <tr style=\"text-align: right;\">\n",
       "      <th></th>\n",
       "      <th>churn</th>\n",
       "      <th>gender</th>\n",
       "      <th>near_location</th>\n",
       "      <th>partner</th>\n",
       "      <th>promo_friends</th>\n",
       "      <th>phone</th>\n",
       "      <th>contract_period</th>\n",
       "      <th>group_visits</th>\n",
       "      <th>age</th>\n",
       "      <th>avg_ad_charges</th>\n",
       "      <th>month_to_end</th>\n",
       "      <th>lifetime</th>\n",
       "      <th>avg_freq_total</th>\n",
       "      <th>avg_freq_month</th>\n",
       "    </tr>\n",
       "  </thead>\n",
       "  <tbody>\n",
       "    <tr>\n",
       "      <td>0</td>\n",
       "      <td>0</td>\n",
       "      <td>0.510037</td>\n",
       "      <td>0.873086</td>\n",
       "      <td>0.534195</td>\n",
       "      <td>0.353522</td>\n",
       "      <td>0.903709</td>\n",
       "      <td>5.747193</td>\n",
       "      <td>0.464103</td>\n",
       "      <td>29.976523</td>\n",
       "      <td>158.445716</td>\n",
       "      <td>5.283089</td>\n",
       "      <td>4.711807</td>\n",
       "      <td>2.024917</td>\n",
       "      <td>2.027873</td>\n",
       "    </tr>\n",
       "    <tr>\n",
       "      <td>1</td>\n",
       "      <td>1</td>\n",
       "      <td>0.510839</td>\n",
       "      <td>0.768143</td>\n",
       "      <td>0.355325</td>\n",
       "      <td>0.183789</td>\n",
       "      <td>0.902922</td>\n",
       "      <td>1.728558</td>\n",
       "      <td>0.268615</td>\n",
       "      <td>26.989632</td>\n",
       "      <td>115.082903</td>\n",
       "      <td>1.662582</td>\n",
       "      <td>0.990575</td>\n",
       "      <td>1.474939</td>\n",
       "      <td>1.044637</td>\n",
       "    </tr>\n",
       "  </tbody>\n",
       "</table>\n",
       "</div>"
      ],
      "text/plain": [
       "   churn    gender  near_location   partner  promo_friends     phone  \\\n",
       "0      0  0.510037       0.873086  0.534195       0.353522  0.903709   \n",
       "1      1  0.510839       0.768143  0.355325       0.183789  0.902922   \n",
       "\n",
       "   contract_period  group_visits        age  avg_ad_charges  month_to_end  \\\n",
       "0         5.747193      0.464103  29.976523      158.445716      5.283089   \n",
       "1         1.728558      0.268615  26.989632      115.082903      1.662582   \n",
       "\n",
       "   lifetime  avg_freq_total  avg_freq_month  \n",
       "0  4.711807        2.024917        2.027873  \n",
       "1  0.990575        1.474939        1.044637  "
      ]
     },
     "execution_count": 13,
     "metadata": {},
     "output_type": "execute_result"
    }
   ],
   "source": [
    "gym_churn_mean = gym.groupby('churn').mean().reset_index()\n",
    "gym_churn_mean"
   ]
  },
  {
   "cell_type": "markdown",
   "metadata": {},
   "source": [
    "Видим существенные отличия между группами по некоторым показателям. Так, для \"оставшихся\" наблюдаются бОльшие значения по следующим признакам: близость проживания, сотрудник компании-партнера, запись в рамках акции, длительность абонемента, посещение групповых занятий, выручка от других услуг, срок окончания абонемента и средняя частота посещений.        "
   ]
  },
  {
   "cell_type": "code",
   "execution_count": 14,
   "metadata": {},
   "outputs": [],
   "source": [
    "sns.set_style('whitegrid')"
   ]
  },
  {
   "cell_type": "markdown",
   "metadata": {},
   "source": [
    "Рассмотрим распределения признаков для ушедших и оставшихся (для столбцов с количественными показателями)."
   ]
  },
  {
   "cell_type": "code",
   "execution_count": 15,
   "metadata": {},
   "outputs": [],
   "source": [
    "gym_0 = gym.loc[gym['churn'] == 0]\n",
    "gym_1 = gym.loc[gym['churn'] == 1]"
   ]
  },
  {
   "cell_type": "code",
   "execution_count": 16,
   "metadata": {},
   "outputs": [],
   "source": [
    "x_values = pd.Series(range(0, len(gym)))\n",
    "x0_values = pd.Series(range(0, len(gym_0)))\n",
    "x1_values = pd.Series(range(0, len(gym_1)))"
   ]
  },
  {
   "cell_type": "code",
   "execution_count": 17,
   "metadata": {
    "scrolled": true
   },
   "outputs": [
    {
     "data": {
      "image/png": "[encoded data removed]",
      "text/plain": [
       "<Figure size 576x360 with 1 Axes>"
      ]
     },
     "metadata": {},
     "output_type": "display_data"
    }
   ],
   "source": [
    "plt.figure(figsize=(8,5))\n",
    "sns.distplot(gym_0['age'], bins=21, label='оставшиеся')\n",
    "sns.distplot(gym_1['age'], bins=21, label='ушедшие')\n",
    "sns.despine()\n",
    "plt.legend()\n",
    "plt.title('Возраст клиентов', fontsize=13.5)\n",
    "plt.xlabel('Возраст')\n",
    "plt.ylabel('Клиенты')\n",
    "plt.show;"
   ]
  },
  {
   "cell_type": "code",
   "execution_count": 18,
   "metadata": {
    "scrolled": false
   },
   "outputs": [
    {
     "data": {
      "image/png": "[encoded data removed]",
      "text/plain": [
       "<Figure size 576x360 with 1 Axes>"
      ]
     },
     "metadata": {},
     "output_type": "display_data"
    }
   ],
   "source": [
    "plt.figure(figsize=(8,5))\n",
    "plt.hist(gym_0['avg_freq_month'], bins=20, alpha=0.7, range=(0,7), label='оставшиеся')\n",
    "plt.hist(gym_1['avg_freq_month'], bins=20, alpha=0.7, range=(0,7), label='ушедшие')\n",
    "sns.despine()\n",
    "plt.legend()\n",
    "plt.title('Среднаяя частота посещений в неделю (предыдущий месяц)', fontsize=13.5)\n",
    "plt.xlabel('Количество посещений')\n",
    "plt.ylabel('Количество клиентов')\n",
    "plt.show;"
   ]
  },
  {
   "cell_type": "code",
   "execution_count": 19,
   "metadata": {
    "scrolled": true
   },
   "outputs": [
    {
     "data": {
      "image/png": "[encoded data removed]",
      "text/plain": [
       "<Figure size 576x360 with 1 Axes>"
      ]
     },
     "metadata": {},
     "output_type": "display_data"
    }
   ],
   "source": [
    "plt.figure(figsize=(8,5))\n",
    "sns.scatterplot(x0_values, gym_0['avg_ad_charges'], alpha=0.7, label='оставшиеся')\n",
    "sns.scatterplot(x1_values, gym_1['avg_ad_charges'], alpha=0.9, label='ушедшие')\n",
    "sns.despine()\n",
    "plt.legend()\n",
    "plt.title('Прочие услуги', fontsize=13.5)\n",
    "plt.xlabel('Клиенты')\n",
    "plt.ylabel('Суммарная выручка от других услуг')\n",
    "plt.show;"
   ]
  },
  {
   "cell_type": "markdown",
   "metadata": {},
   "source": [
    "По гистограммам количественных признаков можно судить о следующих закономерностях:\n",
    "- средний возраст ушедших чуть ниже: возможно, в этой категории больше студентов, которые не могут позволить себе посещение фитнес-центра по причине отсутствия времени или средств;\n",
    "- средняя частота посещений в неделю за предыдующий месяц отличается по группам в два раза (2 раза против 1): очевидно, что среди оставшихся намного больше людей, \"вовлеченных\" в процесс;\n",
    "- оставшиеся в среднем тратят на дополнительные услуги на треть больше ушедших: это может объясняться как финансовым фактором, так и более активной позицией клиентов, \"подсевших\" на спорт. "
   ]
  },
  {
   "cell_type": "markdown",
   "metadata": {},
   "source": [
    "Подробнее изучим связь оттока с длительностью абонемента. "
   ]
  },
  {
   "cell_type": "code",
   "execution_count": 20,
   "metadata": {
    "scrolled": true
   },
   "outputs": [
    {
     "data": {
      "text/html": [
       "<div>\n",
       "<style scoped>\n",
       "    .dataframe tbody tr th:only-of-type {\n",
       "        vertical-align: middle;\n",
       "    }\n",
       "\n",
       "    .dataframe tbody tr th {\n",
       "        vertical-align: top;\n",
       "    }\n",
       "\n",
       "    .dataframe thead th {\n",
       "        text-align: right;\n",
       "    }\n",
       "</style>\n",
       "<table border=\"1\" class=\"dataframe\">\n",
       "  <thead>\n",
       "    <tr style=\"text-align: right;\">\n",
       "      <th></th>\n",
       "      <th>contract_period</th>\n",
       "      <th>churn</th>\n",
       "      <th>clients</th>\n",
       "    </tr>\n",
       "  </thead>\n",
       "  <tbody>\n",
       "    <tr>\n",
       "      <td>0</td>\n",
       "      <td>1</td>\n",
       "      <td>0</td>\n",
       "      <td>1273</td>\n",
       "    </tr>\n",
       "    <tr>\n",
       "      <td>1</td>\n",
       "      <td>1</td>\n",
       "      <td>1</td>\n",
       "      <td>934</td>\n",
       "    </tr>\n",
       "    <tr>\n",
       "      <td>2</td>\n",
       "      <td>6</td>\n",
       "      <td>0</td>\n",
       "      <td>729</td>\n",
       "    </tr>\n",
       "    <tr>\n",
       "      <td>3</td>\n",
       "      <td>6</td>\n",
       "      <td>1</td>\n",
       "      <td>104</td>\n",
       "    </tr>\n",
       "    <tr>\n",
       "      <td>4</td>\n",
       "      <td>12</td>\n",
       "      <td>0</td>\n",
       "      <td>937</td>\n",
       "    </tr>\n",
       "    <tr>\n",
       "      <td>5</td>\n",
       "      <td>12</td>\n",
       "      <td>1</td>\n",
       "      <td>23</td>\n",
       "    </tr>\n",
       "  </tbody>\n",
       "</table>\n",
       "</div>"
      ],
      "text/plain": [
       "   contract_period  churn  clients\n",
       "0                1      0     1273\n",
       "1                1      1      934\n",
       "2                6      0      729\n",
       "3                6      1      104\n",
       "4               12      0      937\n",
       "5               12      1       23"
      ]
     },
     "execution_count": 20,
     "metadata": {},
     "output_type": "execute_result"
    }
   ],
   "source": [
    "gym_abon = gym.groupby(['contract_period','churn']).agg({'age':'count'}).reset_index()\n",
    "gym_abon = gym_abon.rename(columns={'age': 'clients'})\n",
    "gym_abon"
   ]
  },
  {
   "cell_type": "code",
   "execution_count": 21,
   "metadata": {
    "scrolled": false
   },
   "outputs": [
    {
     "data": {
      "image/png": "[encoded data removed]",
      "text/plain": [
       "<Figure size 576x360 with 1 Axes>"
      ]
     },
     "metadata": {},
     "output_type": "display_data"
    }
   ],
   "source": [
    "plt.figure(figsize=(8,5))\n",
    "plt.title('Длительность абонемента ушедших (1) и оставшихся (0)', fontsize=13.5)\n",
    "sns.barplot(data = gym_abon, x='contract_period' , y='clients', hue='churn')\n",
    "sns.despine()\n",
    "plt.xlabel('Длительность абонемента')\n",
    "plt.ylabel('Клиенты')\n",
    "plt.show;"
   ]
  },
  {
   "cell_type": "code",
   "execution_count": 22,
   "metadata": {},
   "outputs": [
    {
     "data": {
      "text/html": [
       "<div>\n",
       "<style scoped>\n",
       "    .dataframe tbody tr th:only-of-type {\n",
       "        vertical-align: middle;\n",
       "    }\n",
       "\n",
       "    .dataframe tbody tr th {\n",
       "        vertical-align: top;\n",
       "    }\n",
       "\n",
       "    .dataframe thead th {\n",
       "        text-align: right;\n",
       "    }\n",
       "</style>\n",
       "<table border=\"1\" class=\"dataframe\">\n",
       "  <thead>\n",
       "    <tr style=\"text-align: right;\">\n",
       "      <th></th>\n",
       "      <th>contract_period</th>\n",
       "      <th>churn</th>\n",
       "      <th>clients</th>\n",
       "      <th>total</th>\n",
       "      <th>part</th>\n",
       "    </tr>\n",
       "  </thead>\n",
       "  <tbody>\n",
       "    <tr>\n",
       "      <td>0</td>\n",
       "      <td>1</td>\n",
       "      <td>0</td>\n",
       "      <td>1273</td>\n",
       "      <td>2939</td>\n",
       "      <td>0.43</td>\n",
       "    </tr>\n",
       "    <tr>\n",
       "      <td>1</td>\n",
       "      <td>1</td>\n",
       "      <td>1</td>\n",
       "      <td>934</td>\n",
       "      <td>1061</td>\n",
       "      <td>0.88</td>\n",
       "    </tr>\n",
       "    <tr>\n",
       "      <td>2</td>\n",
       "      <td>6</td>\n",
       "      <td>0</td>\n",
       "      <td>729</td>\n",
       "      <td>2939</td>\n",
       "      <td>0.25</td>\n",
       "    </tr>\n",
       "    <tr>\n",
       "      <td>3</td>\n",
       "      <td>6</td>\n",
       "      <td>1</td>\n",
       "      <td>104</td>\n",
       "      <td>1061</td>\n",
       "      <td>0.10</td>\n",
       "    </tr>\n",
       "    <tr>\n",
       "      <td>4</td>\n",
       "      <td>12</td>\n",
       "      <td>0</td>\n",
       "      <td>937</td>\n",
       "      <td>2939</td>\n",
       "      <td>0.32</td>\n",
       "    </tr>\n",
       "    <tr>\n",
       "      <td>5</td>\n",
       "      <td>12</td>\n",
       "      <td>1</td>\n",
       "      <td>23</td>\n",
       "      <td>1061</td>\n",
       "      <td>0.02</td>\n",
       "    </tr>\n",
       "  </tbody>\n",
       "</table>\n",
       "</div>"
      ],
      "text/plain": [
       "   contract_period  churn  clients  total  part\n",
       "0                1      0     1273   2939  0.43\n",
       "1                1      1      934   1061  0.88\n",
       "2                6      0      729   2939  0.25\n",
       "3                6      1      104   1061  0.10\n",
       "4               12      0      937   2939  0.32\n",
       "5               12      1       23   1061  0.02"
      ]
     },
     "execution_count": 22,
     "metadata": {},
     "output_type": "execute_result"
    }
   ],
   "source": [
    "gym_abon['total'] = gym_abon.groupby('churn')['clients'].transform('sum')\n",
    "gym_abon['part'] = round(gym_abon['clients'] / gym_abon['total'], 2)\n",
    "gym_abon"
   ]
  },
  {
   "cell_type": "markdown",
   "metadata": {},
   "source": [
    "Видно, что среди ушедших подавляющее большинство клиентов (88%) владело месячным абонементом, среди оставшихся же этот процент составляет всего 43%. Еще более заметна разница между группами (ушедшие и оставшиеся) по годичному абонементу - 2% и 32%. Это выглядит довольно логичным. Люди, купившие абонемент на длительный срок (полгода, год), настроены более серьезно и реже бросают занятия. С другой стороны, такая покупка добавляет ответственности: раз услуга оплачена, надо ей воспользоваться.    "
   ]
  },
  {
   "cell_type": "markdown",
   "metadata": {},
   "source": [
    "### Матрица корреляций"
   ]
  },
  {
   "cell_type": "markdown",
   "metadata": {},
   "source": [
    "Построим матрицу корреляций и визуализируем ее."
   ]
  },
  {
   "cell_type": "code",
   "execution_count": 23,
   "metadata": {
    "scrolled": false
   },
   "outputs": [
    {
     "data": {
      "image/png": "[encoded data removed]",
      "text/plain": [
       "<Figure size 936x576 with 2 Axes>"
      ]
     },
     "metadata": {},
     "output_type": "display_data"
    }
   ],
   "source": [
    "plt.figure(figsize=(13, 8))\n",
    "sns.heatmap(gym.corr(), cmap='Blues', annot=True)\n",
    "plt.title('Матрица корреляций', fontsize=13.5)\n",
    "plt.show;"
   ]
  },
  {
   "cell_type": "code",
   "execution_count": 24,
   "metadata": {},
   "outputs": [
    {
     "data": {
      "text/plain": [
       "3362"
      ]
     },
     "execution_count": 24,
     "metadata": {},
     "output_type": "execute_result"
    }
   ],
   "source": [
    "len(gym.loc[gym['month_to_end'] == gym['contract_period']])"
   ]
  },
  {
   "cell_type": "code",
   "execution_count": 25,
   "metadata": {
    "scrolled": false
   },
   "outputs": [
    {
     "data": {
      "text/html": [
       "<div>\n",
       "<style scoped>\n",
       "    .dataframe tbody tr th:only-of-type {\n",
       "        vertical-align: middle;\n",
       "    }\n",
       "\n",
       "    .dataframe tbody tr th {\n",
       "        vertical-align: top;\n",
       "    }\n",
       "\n",
       "    .dataframe thead th {\n",
       "        text-align: right;\n",
       "    }\n",
       "</style>\n",
       "<table border=\"1\" class=\"dataframe\">\n",
       "  <thead>\n",
       "    <tr style=\"text-align: right;\">\n",
       "      <th></th>\n",
       "      <th>index</th>\n",
       "      <th>month_to_end</th>\n",
       "    </tr>\n",
       "  </thead>\n",
       "  <tbody>\n",
       "    <tr>\n",
       "      <td>0</td>\n",
       "      <td>1.0</td>\n",
       "      <td>2207</td>\n",
       "    </tr>\n",
       "    <tr>\n",
       "      <td>1</td>\n",
       "      <td>6.0</td>\n",
       "      <td>645</td>\n",
       "    </tr>\n",
       "    <tr>\n",
       "      <td>2</td>\n",
       "      <td>12.0</td>\n",
       "      <td>524</td>\n",
       "    </tr>\n",
       "    <tr>\n",
       "      <td>3</td>\n",
       "      <td>11.0</td>\n",
       "      <td>181</td>\n",
       "    </tr>\n",
       "    <tr>\n",
       "      <td>4</td>\n",
       "      <td>5.0</td>\n",
       "      <td>130</td>\n",
       "    </tr>\n",
       "  </tbody>\n",
       "</table>\n",
       "</div>"
      ],
      "text/plain": [
       "   index  month_to_end\n",
       "0    1.0          2207\n",
       "1    6.0           645\n",
       "2   12.0           524\n",
       "3   11.0           181\n",
       "4    5.0           130"
      ]
     },
     "execution_count": 25,
     "metadata": {},
     "output_type": "execute_result"
    }
   ],
   "source": [
    "gym_mc = gym['month_to_end'].value_counts().reset_index()\n",
    "gym_mc.head()"
   ]
  },
  {
   "cell_type": "code",
   "execution_count": 26,
   "metadata": {
    "scrolled": true
   },
   "outputs": [
    {
     "data": {
      "text/plain": [
       "0.8405"
      ]
     },
     "execution_count": 26,
     "metadata": {},
     "output_type": "execute_result"
    }
   ],
   "source": [
    "len(gym.loc[gym['month_to_end'] == gym['contract_period']]) / len(gym)"
   ]
  },
  {
   "cell_type": "markdown",
   "metadata": {},
   "source": [
    "Сразу бросаются в глаза очень сильные корреляционные связи между:\n",
    "- длительностью абонемента и сроком до окончания абонемента (0.97): это логично, т.к. в подавляющем большинстве случаев (84%) эти показатели совпадают; \n",
    "- средней частотой посещений в неделю за предыдущий месяц и за все время (0.95): это также объясняется большим количеством совпадений этих показателей (в случае месячного абонемента).\n",
    "\n",
    "Из факторов, влияющих непосредственно на отток, выделяются следующие:\n",
    "- длительность абонемента - средняя отрицательная связь (-0.39);\n",
    "- срок до окончания абонемента (-0.38);\n",
    "- возраст (-0.4);\n",
    "- время с момента первого обращения (-0.44);\n",
    "- средняя частота посещений за предыдущий месяц (-0.41)."
   ]
  },
  {
   "cell_type": "markdown",
   "metadata": {},
   "source": [
    "## Модель прогнозирования оттока клиентов"
   ]
  },
  {
   "cell_type": "markdown",
   "metadata": {},
   "source": [
    "Анализируя матрицу корреляций, мы обнаружили 2 пары признаков с сильной корреляционной связью. Чтобы избавиться от мультиколлинеарности, удалим из датафрейма парные признаки: срок до окончания абонемента и среднюю частоту посещений за все время.  "
   ]
  },
  {
   "cell_type": "code",
   "execution_count": 27,
   "metadata": {},
   "outputs": [
    {
     "data": {
      "text/plain": [
       "(4000, 12)"
      ]
     },
     "execution_count": 27,
     "metadata": {},
     "output_type": "execute_result"
    }
   ],
   "source": [
    "gym_f = gym.drop(columns={'month_to_end','avg_freq_total'})\n",
    "gym_f.shape"
   ]
  },
  {
   "cell_type": "markdown",
   "metadata": {},
   "source": [
    "Построим модель бинарной классификации клиентов, где целевой признак - факт оттока клиента в следующем месяце.\n",
    "\n",
    "Разобьем данные на обучающую и валидационную выборки."
   ]
  },
  {
   "cell_type": "code",
   "execution_count": 28,
   "metadata": {},
   "outputs": [],
   "source": [
    "X = gym_f.drop('churn', axis=1)\n",
    "y = gym_f['churn']"
   ]
  },
  {
   "cell_type": "code",
   "execution_count": 29,
   "metadata": {},
   "outputs": [],
   "source": [
    "X_train, X_test, y_train, y_test = train_test_split(X, y, test_size=0.2, random_state=0, stratify=y) "
   ]
  },
  {
   "cell_type": "markdown",
   "metadata": {},
   "source": [
    "Зададим алгоритмы: логистическую регрессию и случайный лес. "
   ]
  },
  {
   "cell_type": "code",
   "execution_count": 30,
   "metadata": {},
   "outputs": [],
   "source": [
    "lr_model = LogisticRegression(solver='liblinear', random_state=0)\n",
    "rf_model = RandomForestClassifier(n_estimators=100, random_state=0)"
   ]
  },
  {
   "cell_type": "markdown",
   "metadata": {},
   "source": [
    "Обучим модели."
   ]
  },
  {
   "cell_type": "code",
   "execution_count": 31,
   "metadata": {},
   "outputs": [
    {
     "data": {
      "text/plain": [
       "LogisticRegression(C=1.0, class_weight=None, dual=False, fit_intercept=True,\n",
       "                   intercept_scaling=1, l1_ratio=None, max_iter=100,\n",
       "                   multi_class='warn', n_jobs=None, penalty='l2',\n",
       "                   random_state=0, solver='liblinear', tol=0.0001, verbose=0,\n",
       "                   warm_start=False)"
      ]
     },
     "execution_count": 31,
     "metadata": {},
     "output_type": "execute_result"
    }
   ],
   "source": [
    "lr_model.fit(X_train, y_train)"
   ]
  },
  {
   "cell_type": "code",
   "execution_count": 32,
   "metadata": {},
   "outputs": [
    {
     "data": {
      "text/plain": [
       "RandomForestClassifier(bootstrap=True, class_weight=None, criterion='gini',\n",
       "                       max_depth=None, max_features='auto', max_leaf_nodes=None,\n",
       "                       min_impurity_decrease=0.0, min_impurity_split=None,\n",
       "                       min_samples_leaf=1, min_samples_split=2,\n",
       "                       min_weight_fraction_leaf=0.0, n_estimators=100,\n",
       "                       n_jobs=None, oob_score=False, random_state=0, verbose=0,\n",
       "                       warm_start=False)"
      ]
     },
     "execution_count": 32,
     "metadata": {},
     "output_type": "execute_result"
    }
   ],
   "source": [
    "rf_model.fit(X_train, y_train)"
   ]
  },
  {
   "cell_type": "markdown",
   "metadata": {},
   "source": [
    "Сделаем прогнозы."
   ]
  },
  {
   "cell_type": "code",
   "execution_count": 33,
   "metadata": {},
   "outputs": [],
   "source": [
    "lr_pred = lr_model.predict(X_test)\n",
    "lr_prob = lr_model.predict_proba(X_test)"
   ]
  },
  {
   "cell_type": "code",
   "execution_count": 34,
   "metadata": {},
   "outputs": [],
   "source": [
    "rf_pred = rf_model.predict(X_test)\n",
    "rf_prob = rf_model.predict_proba(X_test)[:,1]"
   ]
  },
  {
   "cell_type": "markdown",
   "metadata": {},
   "source": [
    "Рассчитаем метрики Accuracy, Precision и Recall для двух моделей на валидационной выборке."
   ]
  },
  {
   "cell_type": "code",
   "execution_count": 35,
   "metadata": {},
   "outputs": [
    {
     "name": "stdout",
     "output_type": "stream",
     "text": [
      "Логистическая регрессия\n",
      "Accuracy: 0.91\n",
      "Precision: 0.85\n",
      "Recall: 0.82\n"
     ]
    }
   ],
   "source": [
    "print('Логистическая регрессия')\n",
    "print('Accuracy: {:.2f}'.format(accuracy_score(y_test, lr_pred)))\n",
    "print('Precision: {:.2f}'.format(precision_score(y_test, lr_pred)))\n",
    "print('Recall: {:.2f}'.format(recall_score(y_test, lr_pred)))"
   ]
  },
  {
   "cell_type": "code",
   "execution_count": 36,
   "metadata": {},
   "outputs": [
    {
     "name": "stdout",
     "output_type": "stream",
     "text": [
      "Случайный лес\n",
      "Accuracy: 0.91\n",
      "Precision: 0.86\n",
      "Recall: 0.79\n"
     ]
    }
   ],
   "source": [
    "print('Случайный лес')\n",
    "print('Accuracy: {:.2f}'.format(accuracy_score(y_test, rf_pred)))\n",
    "print('Precision: {:.2f}'.format(precision_score(y_test, rf_pred)))\n",
    "print('Recall: {:.2f}'.format(recall_score(y_test, rf_pred)))"
   ]
  },
  {
   "cell_type": "markdown",
   "metadata": {},
   "source": [
    "Модели получили схожие оценки по метрикам. Едиственное, Логистическая регрессия показала более высокие результаты по метрике Recall (+3%). Вообще, Recall не самая сильная сторона наших моделей - они делают большое количество ложно отрицательных прогнозов.  "
   ]
  },
  {
   "cell_type": "markdown",
   "metadata": {},
   "source": [
    "## Кластеризация клиентов"
   ]
  },
  {
   "cell_type": "markdown",
   "metadata": {},
   "source": [
    "### Кластеризация"
   ]
  },
  {
   "cell_type": "markdown",
   "metadata": {},
   "source": [
    "Для начала проведем стандартизацию данных. Обучим \"стандартизатор\" и применим его на выборке."
   ]
  },
  {
   "cell_type": "code",
   "execution_count": 37,
   "metadata": {},
   "outputs": [],
   "source": [
    "scaler = StandardScaler()\n",
    "X_st = scaler.fit_transform(X)"
   ]
  },
  {
   "cell_type": "markdown",
   "metadata": {},
   "source": [
    "Построим матрицу расстояний функцией linkage() и нарисуем дендрограмму."
   ]
  },
  {
   "cell_type": "code",
   "execution_count": 38,
   "metadata": {},
   "outputs": [],
   "source": [
    "linked = linkage(X_st, method='ward')"
   ]
  },
  {
   "cell_type": "code",
   "execution_count": 39,
   "metadata": {},
   "outputs": [
    {
     "data": {
      "image/png": "[encoded data removed]",
      "text/plain": [
       "<Figure size 1080x720 with 1 Axes>"
      ]
     },
     "metadata": {},
     "output_type": "display_data"
    }
   ],
   "source": [
    "plt.figure(figsize=(15,10))\n",
    "dendrogram(linked, orientation='top')\n",
    "plt.show;"
   ]
  },
  {
   "cell_type": "markdown",
   "metadata": {},
   "source": [
    "По дендрограмме можно определить опитмальное количество кластеров. В нашем случае это 4 или 5 кластеров.\n",
    "\n",
    "Теперь обучим модель кластеризации на основании алгоритма K-means."
   ]
  },
  {
   "cell_type": "code",
   "execution_count": 40,
   "metadata": {},
   "outputs": [],
   "source": [
    "km = KMeans(n_clusters=5, random_state=0)"
   ]
  },
  {
   "cell_type": "markdown",
   "metadata": {},
   "source": [
    "Сформируем вектор кластеров и добавим данные в таблицу."
   ]
  },
  {
   "cell_type": "code",
   "execution_count": 41,
   "metadata": {},
   "outputs": [],
   "source": [
    "labels = km.fit_predict(X_st)"
   ]
  },
  {
   "cell_type": "code",
   "execution_count": 42,
   "metadata": {},
   "outputs": [],
   "source": [
    "gym_f['cluster'] = labels"
   ]
  },
  {
   "cell_type": "markdown",
   "metadata": {},
   "source": [
    "### Сравнение кластеров"
   ]
  },
  {
   "cell_type": "markdown",
   "metadata": {},
   "source": [
    "Посмотрим на средние значения признаков по кластерам."
   ]
  },
  {
   "cell_type": "code",
   "execution_count": 43,
   "metadata": {
    "scrolled": false
   },
   "outputs": [
    {
     "data": {
      "text/plain": [
       "2    1064\n",
       "3    1007\n",
       "0     985\n",
       "1     558\n",
       "4     386\n",
       "Name: cluster, dtype: int64"
      ]
     },
     "execution_count": 43,
     "metadata": {},
     "output_type": "execute_result"
    }
   ],
   "source": [
    "gym_f['cluster'].value_counts()"
   ]
  },
  {
   "cell_type": "code",
   "execution_count": 44,
   "metadata": {},
   "outputs": [
    {
     "data": {
      "text/html": [
       "<div>\n",
       "<style scoped>\n",
       "    .dataframe tbody tr th:only-of-type {\n",
       "        vertical-align: middle;\n",
       "    }\n",
       "\n",
       "    .dataframe tbody tr th {\n",
       "        vertical-align: top;\n",
       "    }\n",
       "\n",
       "    .dataframe thead th {\n",
       "        text-align: right;\n",
       "    }\n",
       "</style>\n",
       "<table border=\"1\" class=\"dataframe\">\n",
       "  <thead>\n",
       "    <tr style=\"text-align: right;\">\n",
       "      <th></th>\n",
       "      <th>gender</th>\n",
       "      <th>near_location</th>\n",
       "      <th>partner</th>\n",
       "      <th>promo_friends</th>\n",
       "      <th>phone</th>\n",
       "      <th>contract_period</th>\n",
       "      <th>group_visits</th>\n",
       "      <th>age</th>\n",
       "      <th>avg_ad_charges</th>\n",
       "      <th>lifetime</th>\n",
       "      <th>avg_freq_month</th>\n",
       "      <th>churn</th>\n",
       "    </tr>\n",
       "    <tr>\n",
       "      <th>cluster</th>\n",
       "      <th></th>\n",
       "      <th></th>\n",
       "      <th></th>\n",
       "      <th></th>\n",
       "      <th></th>\n",
       "      <th></th>\n",
       "      <th></th>\n",
       "      <th></th>\n",
       "      <th></th>\n",
       "      <th></th>\n",
       "      <th></th>\n",
       "      <th></th>\n",
       "    </tr>\n",
       "  </thead>\n",
       "  <tbody>\n",
       "    <tr>\n",
       "      <td>0</td>\n",
       "      <td>0.496447</td>\n",
       "      <td>0.995939</td>\n",
       "      <td>0.892386</td>\n",
       "      <td>1.000000</td>\n",
       "      <td>1.0</td>\n",
       "      <td>6.922843</td>\n",
       "      <td>0.524873</td>\n",
       "      <td>29.606091</td>\n",
       "      <td>153.424802</td>\n",
       "      <td>4.283249</td>\n",
       "      <td>1.919411</td>\n",
       "      <td>0.119797</td>\n",
       "    </tr>\n",
       "    <tr>\n",
       "      <td>1</td>\n",
       "      <td>0.500000</td>\n",
       "      <td>0.000000</td>\n",
       "      <td>0.489247</td>\n",
       "      <td>0.078853</td>\n",
       "      <td>1.0</td>\n",
       "      <td>2.994624</td>\n",
       "      <td>0.232975</td>\n",
       "      <td>28.679211</td>\n",
       "      <td>137.125556</td>\n",
       "      <td>2.974910</td>\n",
       "      <td>1.596918</td>\n",
       "      <td>0.403226</td>\n",
       "    </tr>\n",
       "    <tr>\n",
       "      <td>2</td>\n",
       "      <td>0.500940</td>\n",
       "      <td>1.000000</td>\n",
       "      <td>0.217105</td>\n",
       "      <td>0.072368</td>\n",
       "      <td>1.0</td>\n",
       "      <td>2.010338</td>\n",
       "      <td>0.277256</td>\n",
       "      <td>27.583647</td>\n",
       "      <td>119.339915</td>\n",
       "      <td>1.922932</td>\n",
       "      <td>1.203383</td>\n",
       "      <td>0.563910</td>\n",
       "    </tr>\n",
       "    <tr>\n",
       "      <td>3</td>\n",
       "      <td>0.534260</td>\n",
       "      <td>0.996028</td>\n",
       "      <td>0.379345</td>\n",
       "      <td>0.009930</td>\n",
       "      <td>1.0</td>\n",
       "      <td>6.208540</td>\n",
       "      <td>0.538232</td>\n",
       "      <td>30.699106</td>\n",
       "      <td>176.259573</td>\n",
       "      <td>5.415094</td>\n",
       "      <td>2.324459</td>\n",
       "      <td>0.014896</td>\n",
       "    </tr>\n",
       "    <tr>\n",
       "      <td>4</td>\n",
       "      <td>0.523316</td>\n",
       "      <td>0.862694</td>\n",
       "      <td>0.471503</td>\n",
       "      <td>0.305699</td>\n",
       "      <td>0.0</td>\n",
       "      <td>4.777202</td>\n",
       "      <td>0.427461</td>\n",
       "      <td>29.297927</td>\n",
       "      <td>144.208212</td>\n",
       "      <td>3.940415</td>\n",
       "      <td>1.723964</td>\n",
       "      <td>0.266839</td>\n",
       "    </tr>\n",
       "  </tbody>\n",
       "</table>\n",
       "</div>"
      ],
      "text/plain": [
       "           gender  near_location   partner  promo_friends  phone  \\\n",
       "cluster                                                            \n",
       "0        0.496447       0.995939  0.892386       1.000000    1.0   \n",
       "1        0.500000       0.000000  0.489247       0.078853    1.0   \n",
       "2        0.500940       1.000000  0.217105       0.072368    1.0   \n",
       "3        0.534260       0.996028  0.379345       0.009930    1.0   \n",
       "4        0.523316       0.862694  0.471503       0.305699    0.0   \n",
       "\n",
       "         contract_period  group_visits        age  avg_ad_charges  lifetime  \\\n",
       "cluster                                                                       \n",
       "0               6.922843      0.524873  29.606091      153.424802  4.283249   \n",
       "1               2.994624      0.232975  28.679211      137.125556  2.974910   \n",
       "2               2.010338      0.277256  27.583647      119.339915  1.922932   \n",
       "3               6.208540      0.538232  30.699106      176.259573  5.415094   \n",
       "4               4.777202      0.427461  29.297927      144.208212  3.940415   \n",
       "\n",
       "         avg_freq_month     churn  \n",
       "cluster                            \n",
       "0              1.919411  0.119797  \n",
       "1              1.596918  0.403226  \n",
       "2              1.203383  0.563910  \n",
       "3              2.324459  0.014896  \n",
       "4              1.723964  0.266839  "
      ]
     },
     "execution_count": 44,
     "metadata": {},
     "output_type": "execute_result"
    }
   ],
   "source": [
    "gym_f.groupby('cluster').mean()"
   ]
  },
  {
   "cell_type": "markdown",
   "metadata": {},
   "source": [
    "Видим, что сильнее всего кластеры различаются по следующим признакам: проживание в районе, сотрудник компании-партнера, запись в рамках акции, длительность абонемента, доп. услуги, групповые занятие и частота посещения.\n",
    "\n",
    "По полу и возрасту отличия не столь существенны.  "
   ]
  },
  {
   "cell_type": "markdown",
   "metadata": {},
   "source": [
    "### Распределения признаков для кластеров"
   ]
  },
  {
   "cell_type": "markdown",
   "metadata": {},
   "source": [
    "Изучим распределения признаков по кластерам."
   ]
  },
  {
   "cell_type": "code",
   "execution_count": 45,
   "metadata": {
    "scrolled": false
   },
   "outputs": [
    {
     "data": {
      "text/html": [
       "<div>\n",
       "<style scoped>\n",
       "    .dataframe tbody tr th:only-of-type {\n",
       "        vertical-align: middle;\n",
       "    }\n",
       "\n",
       "    .dataframe tbody tr th {\n",
       "        vertical-align: top;\n",
       "    }\n",
       "\n",
       "    .dataframe thead th {\n",
       "        text-align: right;\n",
       "    }\n",
       "</style>\n",
       "<table border=\"1\" class=\"dataframe\">\n",
       "  <thead>\n",
       "    <tr style=\"text-align: right;\">\n",
       "      <th></th>\n",
       "      <th>cluster</th>\n",
       "      <th>contract_period</th>\n",
       "      <th>clients</th>\n",
       "    </tr>\n",
       "  </thead>\n",
       "  <tbody>\n",
       "    <tr>\n",
       "      <td>0</td>\n",
       "      <td>0</td>\n",
       "      <td>1</td>\n",
       "      <td>315</td>\n",
       "    </tr>\n",
       "    <tr>\n",
       "      <td>1</td>\n",
       "      <td>0</td>\n",
       "      <td>6</td>\n",
       "      <td>256</td>\n",
       "    </tr>\n",
       "    <tr>\n",
       "      <td>2</td>\n",
       "      <td>0</td>\n",
       "      <td>12</td>\n",
       "      <td>414</td>\n",
       "    </tr>\n",
       "    <tr>\n",
       "      <td>3</td>\n",
       "      <td>1</td>\n",
       "      <td>1</td>\n",
       "      <td>399</td>\n",
       "    </tr>\n",
       "    <tr>\n",
       "      <td>4</td>\n",
       "      <td>1</td>\n",
       "      <td>6</td>\n",
       "      <td>106</td>\n",
       "    </tr>\n",
       "  </tbody>\n",
       "</table>\n",
       "</div>"
      ],
      "text/plain": [
       "   cluster  contract_period  clients\n",
       "0        0                1      315\n",
       "1        0                6      256\n",
       "2        0               12      414\n",
       "3        1                1      399\n",
       "4        1                6      106"
      ]
     },
     "execution_count": 45,
     "metadata": {},
     "output_type": "execute_result"
    }
   ],
   "source": [
    "gym_cl_per = gym_f.groupby(['cluster', 'contract_period'])['age'].count().reset_index()\n",
    "gym_cl_per = gym_cl_per.rename(columns={'age':'clients'})\n",
    "gym_cl_per.head()"
   ]
  },
  {
   "cell_type": "markdown",
   "metadata": {},
   "source": [
    "Рассчитаем долю каждого кластера для месячных, полугодовых и годовых абонементов."
   ]
  },
  {
   "cell_type": "code",
   "execution_count": 46,
   "metadata": {
    "scrolled": false
   },
   "outputs": [
    {
     "data": {
      "text/html": [
       "<div>\n",
       "<style scoped>\n",
       "    .dataframe tbody tr th:only-of-type {\n",
       "        vertical-align: middle;\n",
       "    }\n",
       "\n",
       "    .dataframe tbody tr th {\n",
       "        vertical-align: top;\n",
       "    }\n",
       "\n",
       "    .dataframe thead th {\n",
       "        text-align: right;\n",
       "    }\n",
       "</style>\n",
       "<table border=\"1\" class=\"dataframe\">\n",
       "  <thead>\n",
       "    <tr style=\"text-align: right;\">\n",
       "      <th></th>\n",
       "      <th>cluster</th>\n",
       "      <th>contract_period</th>\n",
       "      <th>clients</th>\n",
       "      <th>total</th>\n",
       "      <th>part</th>\n",
       "    </tr>\n",
       "  </thead>\n",
       "  <tbody>\n",
       "    <tr>\n",
       "      <td>0</td>\n",
       "      <td>0</td>\n",
       "      <td>1</td>\n",
       "      <td>315</td>\n",
       "      <td>2207</td>\n",
       "      <td>14.0</td>\n",
       "    </tr>\n",
       "    <tr>\n",
       "      <td>3</td>\n",
       "      <td>1</td>\n",
       "      <td>1</td>\n",
       "      <td>399</td>\n",
       "      <td>2207</td>\n",
       "      <td>18.0</td>\n",
       "    </tr>\n",
       "    <tr>\n",
       "      <td>6</td>\n",
       "      <td>2</td>\n",
       "      <td>1</td>\n",
       "      <td>891</td>\n",
       "      <td>2207</td>\n",
       "      <td>40.0</td>\n",
       "    </tr>\n",
       "    <tr>\n",
       "      <td>9</td>\n",
       "      <td>3</td>\n",
       "      <td>1</td>\n",
       "      <td>396</td>\n",
       "      <td>2207</td>\n",
       "      <td>18.0</td>\n",
       "    </tr>\n",
       "    <tr>\n",
       "      <td>12</td>\n",
       "      <td>4</td>\n",
       "      <td>1</td>\n",
       "      <td>206</td>\n",
       "      <td>2207</td>\n",
       "      <td>9.0</td>\n",
       "    </tr>\n",
       "    <tr>\n",
       "      <td>1</td>\n",
       "      <td>0</td>\n",
       "      <td>6</td>\n",
       "      <td>256</td>\n",
       "      <td>833</td>\n",
       "      <td>31.0</td>\n",
       "    </tr>\n",
       "    <tr>\n",
       "      <td>4</td>\n",
       "      <td>1</td>\n",
       "      <td>6</td>\n",
       "      <td>106</td>\n",
       "      <td>833</td>\n",
       "      <td>13.0</td>\n",
       "    </tr>\n",
       "    <tr>\n",
       "      <td>7</td>\n",
       "      <td>2</td>\n",
       "      <td>6</td>\n",
       "      <td>138</td>\n",
       "      <td>833</td>\n",
       "      <td>17.0</td>\n",
       "    </tr>\n",
       "    <tr>\n",
       "      <td>10</td>\n",
       "      <td>3</td>\n",
       "      <td>6</td>\n",
       "      <td>246</td>\n",
       "      <td>833</td>\n",
       "      <td>30.0</td>\n",
       "    </tr>\n",
       "    <tr>\n",
       "      <td>13</td>\n",
       "      <td>4</td>\n",
       "      <td>6</td>\n",
       "      <td>87</td>\n",
       "      <td>833</td>\n",
       "      <td>10.0</td>\n",
       "    </tr>\n",
       "    <tr>\n",
       "      <td>2</td>\n",
       "      <td>0</td>\n",
       "      <td>12</td>\n",
       "      <td>414</td>\n",
       "      <td>960</td>\n",
       "      <td>43.0</td>\n",
       "    </tr>\n",
       "    <tr>\n",
       "      <td>5</td>\n",
       "      <td>1</td>\n",
       "      <td>12</td>\n",
       "      <td>53</td>\n",
       "      <td>960</td>\n",
       "      <td>6.0</td>\n",
       "    </tr>\n",
       "    <tr>\n",
       "      <td>8</td>\n",
       "      <td>2</td>\n",
       "      <td>12</td>\n",
       "      <td>35</td>\n",
       "      <td>960</td>\n",
       "      <td>4.0</td>\n",
       "    </tr>\n",
       "    <tr>\n",
       "      <td>11</td>\n",
       "      <td>3</td>\n",
       "      <td>12</td>\n",
       "      <td>365</td>\n",
       "      <td>960</td>\n",
       "      <td>38.0</td>\n",
       "    </tr>\n",
       "    <tr>\n",
       "      <td>14</td>\n",
       "      <td>4</td>\n",
       "      <td>12</td>\n",
       "      <td>93</td>\n",
       "      <td>960</td>\n",
       "      <td>10.0</td>\n",
       "    </tr>\n",
       "  </tbody>\n",
       "</table>\n",
       "</div>"
      ],
      "text/plain": [
       "    cluster  contract_period  clients  total  part\n",
       "0         0                1      315   2207  14.0\n",
       "3         1                1      399   2207  18.0\n",
       "6         2                1      891   2207  40.0\n",
       "9         3                1      396   2207  18.0\n",
       "12        4                1      206   2207   9.0\n",
       "1         0                6      256    833  31.0\n",
       "4         1                6      106    833  13.0\n",
       "7         2                6      138    833  17.0\n",
       "10        3                6      246    833  30.0\n",
       "13        4                6       87    833  10.0\n",
       "2         0               12      414    960  43.0\n",
       "5         1               12       53    960   6.0\n",
       "8         2               12       35    960   4.0\n",
       "11        3               12      365    960  38.0\n",
       "14        4               12       93    960  10.0"
      ]
     },
     "execution_count": 46,
     "metadata": {},
     "output_type": "execute_result"
    }
   ],
   "source": [
    "gym_cl_per['total'] = gym_cl_per.groupby('contract_period')['clients'].transform('sum')\n",
    "gym_cl_per['part'] = round(gym_cl_per['clients'] / gym_cl_per['total'] * 100)\n",
    "gym_cl_per.sort_values(by='contract_period')"
   ]
  },
  {
   "cell_type": "code",
   "execution_count": 47,
   "metadata": {
    "scrolled": false
   },
   "outputs": [
    {
     "data": {
      "image/png": "[encoded data removed]",
      "text/plain": [
       "<Figure size 720x432 with 1 Axes>"
      ]
     },
     "metadata": {},
     "output_type": "display_data"
    }
   ],
   "source": [
    "plt.figure(figsize=(10,6))\n",
    "sns.barplot(data=gym_cl_per, x='contract_period', y='part',\n",
    "                palette='tab20', hue='cluster', alpha=0.8)\n",
    "sns.despine()\n",
    "plt.title('Длительность абонемента по кластерам', fontsize=13.5)\n",
    "plt.xlabel('Длительность абонемента')\n",
    "plt.ylabel('Доля клиентов, %')\n",
    "plt.show;"
   ]
  },
  {
   "cell_type": "markdown",
   "metadata": {},
   "source": [
    "Среди владельцев месячных абонементов резко выделяются представители 2-го кластера (40% от общего количества). Полугодовые и годовые абонементы приобретают в основном клиенты из 0-го и 3-го кластеров (в сумме 61% и 81% от общего количества)."
   ]
  },
  {
   "cell_type": "code",
   "execution_count": 48,
   "metadata": {},
   "outputs": [
    {
     "data": {
      "text/html": [
       "<div>\n",
       "<style scoped>\n",
       "    .dataframe tbody tr th:only-of-type {\n",
       "        vertical-align: middle;\n",
       "    }\n",
       "\n",
       "    .dataframe tbody tr th {\n",
       "        vertical-align: top;\n",
       "    }\n",
       "\n",
       "    .dataframe thead th {\n",
       "        text-align: right;\n",
       "    }\n",
       "</style>\n",
       "<table border=\"1\" class=\"dataframe\">\n",
       "  <thead>\n",
       "    <tr style=\"text-align: right;\">\n",
       "      <th></th>\n",
       "      <th>gender</th>\n",
       "      <th>near_location</th>\n",
       "      <th>partner</th>\n",
       "      <th>promo_friends</th>\n",
       "      <th>phone</th>\n",
       "      <th>contract_period</th>\n",
       "      <th>group_visits</th>\n",
       "      <th>age</th>\n",
       "      <th>avg_ad_charges</th>\n",
       "      <th>lifetime</th>\n",
       "      <th>avg_freq_month</th>\n",
       "      <th>churn</th>\n",
       "      <th>cluster</th>\n",
       "    </tr>\n",
       "  </thead>\n",
       "  <tbody>\n",
       "    <tr>\n",
       "      <td>0</td>\n",
       "      <td>1</td>\n",
       "      <td>1</td>\n",
       "      <td>1</td>\n",
       "      <td>1</td>\n",
       "      <td>0</td>\n",
       "      <td>6</td>\n",
       "      <td>1</td>\n",
       "      <td>29</td>\n",
       "      <td>14.23</td>\n",
       "      <td>3</td>\n",
       "      <td>0.00</td>\n",
       "      <td>0</td>\n",
       "      <td>4</td>\n",
       "    </tr>\n",
       "    <tr>\n",
       "      <td>1</td>\n",
       "      <td>0</td>\n",
       "      <td>1</td>\n",
       "      <td>0</td>\n",
       "      <td>0</td>\n",
       "      <td>1</td>\n",
       "      <td>12</td>\n",
       "      <td>1</td>\n",
       "      <td>31</td>\n",
       "      <td>113.20</td>\n",
       "      <td>7</td>\n",
       "      <td>1.91</td>\n",
       "      <td>0</td>\n",
       "      <td>3</td>\n",
       "    </tr>\n",
       "    <tr>\n",
       "      <td>2</td>\n",
       "      <td>0</td>\n",
       "      <td>1</td>\n",
       "      <td>1</td>\n",
       "      <td>0</td>\n",
       "      <td>1</td>\n",
       "      <td>1</td>\n",
       "      <td>0</td>\n",
       "      <td>28</td>\n",
       "      <td>129.45</td>\n",
       "      <td>2</td>\n",
       "      <td>1.74</td>\n",
       "      <td>0</td>\n",
       "      <td>2</td>\n",
       "    </tr>\n",
       "    <tr>\n",
       "      <td>3</td>\n",
       "      <td>0</td>\n",
       "      <td>1</td>\n",
       "      <td>1</td>\n",
       "      <td>1</td>\n",
       "      <td>1</td>\n",
       "      <td>12</td>\n",
       "      <td>1</td>\n",
       "      <td>33</td>\n",
       "      <td>62.67</td>\n",
       "      <td>2</td>\n",
       "      <td>3.36</td>\n",
       "      <td>0</td>\n",
       "      <td>0</td>\n",
       "    </tr>\n",
       "    <tr>\n",
       "      <td>4</td>\n",
       "      <td>1</td>\n",
       "      <td>1</td>\n",
       "      <td>1</td>\n",
       "      <td>1</td>\n",
       "      <td>1</td>\n",
       "      <td>1</td>\n",
       "      <td>0</td>\n",
       "      <td>26</td>\n",
       "      <td>198.36</td>\n",
       "      <td>3</td>\n",
       "      <td>1.12</td>\n",
       "      <td>0</td>\n",
       "      <td>0</td>\n",
       "    </tr>\n",
       "  </tbody>\n",
       "</table>\n",
       "</div>"
      ],
      "text/plain": [
       "   gender  near_location  partner  promo_friends  phone  contract_period  \\\n",
       "0       1              1        1              1      0                6   \n",
       "1       0              1        0              0      1               12   \n",
       "2       0              1        1              0      1                1   \n",
       "3       0              1        1              1      1               12   \n",
       "4       1              1        1              1      1                1   \n",
       "\n",
       "   group_visits  age  avg_ad_charges  lifetime  avg_freq_month  churn  cluster  \n",
       "0             1   29           14.23         3            0.00      0        4  \n",
       "1             1   31          113.20         7            1.91      0        3  \n",
       "2             0   28          129.45         2            1.74      0        2  \n",
       "3             1   33           62.67         2            3.36      0        0  \n",
       "4             0   26          198.36         3            1.12      0        0  "
      ]
     },
     "execution_count": 48,
     "metadata": {},
     "output_type": "execute_result"
    }
   ],
   "source": [
    "gym_f.head()"
   ]
  },
  {
   "cell_type": "code",
   "execution_count": 49,
   "metadata": {},
   "outputs": [
    {
     "data": {
      "image/png": "[encoded data removed]",
      "text/plain": [
       "<Figure size 720x432 with 1 Axes>"
      ]
     },
     "metadata": {},
     "output_type": "display_data"
    }
   ],
   "source": [
    "plt.figure(figsize=(10,6))\n",
    "sns.barplot(data=gym_f, x='contract_period', y='avg_freq_month',\n",
    "                palette='tab20', hue='cluster', alpha=0.8)\n",
    "sns.despine()\n",
    "plt.title('Частота посещений', fontsize=13.5)\n",
    "plt.xlabel('Длительность абонемента')\n",
    "plt.ylabel('Частота посещений (в неделю)')\n",
    "plt.show;"
   ]
  },
  {
   "cell_type": "code",
   "execution_count": 50,
   "metadata": {
    "scrolled": false
   },
   "outputs": [
    {
     "data": {
      "image/png": "[encoded data removed]",
      "text/plain": [
       "<Figure size 720x432 with 1 Axes>"
      ]
     },
     "metadata": {},
     "output_type": "display_data"
    }
   ],
   "source": [
    "plt.figure(figsize=(10,6))\n",
    "sns.barplot(data=gym_f, x='contract_period', y='avg_ad_charges',\n",
    "                palette='tab20', hue='cluster', alpha=0.8)\n",
    "sns.despine()\n",
    "plt.title('Прочие услуги', fontsize=13.5)\n",
    "plt.xlabel('Длительность абонемента')\n",
    "plt.ylabel('Выручка от прочих услуг')\n",
    "plt.show;"
   ]
  },
  {
   "cell_type": "markdown",
   "metadata": {},
   "source": [
    "По частоте посещений и затратам на другие услуги наблюдается похожая картина: лидируют представители 3-го и 0-го кластеров, представители 1-го и 2-го кластеров - среди аутсайдеров."
   ]
  },
  {
   "cell_type": "markdown",
   "metadata": {},
   "source": [
    "### Доля оттока для кластеров"
   ]
  },
  {
   "cell_type": "markdown",
   "metadata": {},
   "source": [
    "Изучим зависимость доли оттока от ключевых показателей для каждого кластера."
   ]
  },
  {
   "cell_type": "code",
   "execution_count": 51,
   "metadata": {},
   "outputs": [
    {
     "data": {
      "text/html": [
       "<div>\n",
       "<style scoped>\n",
       "    .dataframe tbody tr th:only-of-type {\n",
       "        vertical-align: middle;\n",
       "    }\n",
       "\n",
       "    .dataframe tbody tr th {\n",
       "        vertical-align: top;\n",
       "    }\n",
       "\n",
       "    .dataframe thead th {\n",
       "        text-align: right;\n",
       "    }\n",
       "</style>\n",
       "<table border=\"1\" class=\"dataframe\">\n",
       "  <thead>\n",
       "    <tr style=\"text-align: right;\">\n",
       "      <th></th>\n",
       "      <th>gender</th>\n",
       "      <th>near_location</th>\n",
       "      <th>partner</th>\n",
       "      <th>promo_friends</th>\n",
       "      <th>phone</th>\n",
       "      <th>contract_period</th>\n",
       "      <th>group_visits</th>\n",
       "      <th>age</th>\n",
       "      <th>avg_ad_charges</th>\n",
       "      <th>lifetime</th>\n",
       "      <th>avg_freq_month</th>\n",
       "      <th>churn</th>\n",
       "    </tr>\n",
       "    <tr>\n",
       "      <th>cluster</th>\n",
       "      <th></th>\n",
       "      <th></th>\n",
       "      <th></th>\n",
       "      <th></th>\n",
       "      <th></th>\n",
       "      <th></th>\n",
       "      <th></th>\n",
       "      <th></th>\n",
       "      <th></th>\n",
       "      <th></th>\n",
       "      <th></th>\n",
       "      <th></th>\n",
       "    </tr>\n",
       "  </thead>\n",
       "  <tbody>\n",
       "    <tr>\n",
       "      <td>3</td>\n",
       "      <td>0.534</td>\n",
       "      <td>0.996</td>\n",
       "      <td>0.379</td>\n",
       "      <td>0.010</td>\n",
       "      <td>1.0</td>\n",
       "      <td>6.209</td>\n",
       "      <td>0.538</td>\n",
       "      <td>30.699</td>\n",
       "      <td>176.260</td>\n",
       "      <td>5.415</td>\n",
       "      <td>2.324</td>\n",
       "      <td>0.015</td>\n",
       "    </tr>\n",
       "    <tr>\n",
       "      <td>0</td>\n",
       "      <td>0.496</td>\n",
       "      <td>0.996</td>\n",
       "      <td>0.892</td>\n",
       "      <td>1.000</td>\n",
       "      <td>1.0</td>\n",
       "      <td>6.923</td>\n",
       "      <td>0.525</td>\n",
       "      <td>29.606</td>\n",
       "      <td>153.425</td>\n",
       "      <td>4.283</td>\n",
       "      <td>1.919</td>\n",
       "      <td>0.120</td>\n",
       "    </tr>\n",
       "    <tr>\n",
       "      <td>4</td>\n",
       "      <td>0.523</td>\n",
       "      <td>0.863</td>\n",
       "      <td>0.472</td>\n",
       "      <td>0.306</td>\n",
       "      <td>0.0</td>\n",
       "      <td>4.777</td>\n",
       "      <td>0.427</td>\n",
       "      <td>29.298</td>\n",
       "      <td>144.208</td>\n",
       "      <td>3.940</td>\n",
       "      <td>1.724</td>\n",
       "      <td>0.267</td>\n",
       "    </tr>\n",
       "    <tr>\n",
       "      <td>1</td>\n",
       "      <td>0.500</td>\n",
       "      <td>0.000</td>\n",
       "      <td>0.489</td>\n",
       "      <td>0.079</td>\n",
       "      <td>1.0</td>\n",
       "      <td>2.995</td>\n",
       "      <td>0.233</td>\n",
       "      <td>28.679</td>\n",
       "      <td>137.126</td>\n",
       "      <td>2.975</td>\n",
       "      <td>1.597</td>\n",
       "      <td>0.403</td>\n",
       "    </tr>\n",
       "    <tr>\n",
       "      <td>2</td>\n",
       "      <td>0.501</td>\n",
       "      <td>1.000</td>\n",
       "      <td>0.217</td>\n",
       "      <td>0.072</td>\n",
       "      <td>1.0</td>\n",
       "      <td>2.010</td>\n",
       "      <td>0.277</td>\n",
       "      <td>27.584</td>\n",
       "      <td>119.340</td>\n",
       "      <td>1.923</td>\n",
       "      <td>1.203</td>\n",
       "      <td>0.564</td>\n",
       "    </tr>\n",
       "  </tbody>\n",
       "</table>\n",
       "</div>"
      ],
      "text/plain": [
       "         gender  near_location  partner  promo_friends  phone  \\\n",
       "cluster                                                         \n",
       "3         0.534          0.996    0.379          0.010    1.0   \n",
       "0         0.496          0.996    0.892          1.000    1.0   \n",
       "4         0.523          0.863    0.472          0.306    0.0   \n",
       "1         0.500          0.000    0.489          0.079    1.0   \n",
       "2         0.501          1.000    0.217          0.072    1.0   \n",
       "\n",
       "         contract_period  group_visits     age  avg_ad_charges  lifetime  \\\n",
       "cluster                                                                    \n",
       "3                  6.209         0.538  30.699         176.260     5.415   \n",
       "0                  6.923         0.525  29.606         153.425     4.283   \n",
       "4                  4.777         0.427  29.298         144.208     3.940   \n",
       "1                  2.995         0.233  28.679         137.126     2.975   \n",
       "2                  2.010         0.277  27.584         119.340     1.923   \n",
       "\n",
       "         avg_freq_month  churn  \n",
       "cluster                         \n",
       "3                 2.324  0.015  \n",
       "0                 1.919  0.120  \n",
       "4                 1.724  0.267  \n",
       "1                 1.597  0.403  \n",
       "2                 1.203  0.564  "
      ]
     },
     "execution_count": 51,
     "metadata": {},
     "output_type": "execute_result"
    }
   ],
   "source": [
    "gym_f_mean = gym_f.groupby('cluster').mean().sort_values(by='churn').round(3)\n",
    "gym_f_mean"
   ]
  },
  {
   "cell_type": "code",
   "execution_count": 52,
   "metadata": {},
   "outputs": [
    {
     "data": {
      "text/plain": [
       "2    1064\n",
       "3    1007\n",
       "0     985\n",
       "1     558\n",
       "4     386\n",
       "Name: cluster, dtype: int64"
      ]
     },
     "execution_count": 52,
     "metadata": {},
     "output_type": "execute_result"
    }
   ],
   "source": [
    "gym_f['cluster'].value_counts()"
   ]
  },
  {
   "cell_type": "markdown",
   "metadata": {},
   "source": [
    "По доле оттока кластеры распределились следующим образом:\n",
    "- самые надежные клиенты (с наименьшей долей оттока) представляют 3-й и 0-ый кластеры; клиентов из 3-го кластера можно назвать сверхнадежными (для них показатель оттока составляет всего лишь 1%);\n",
    "- клиенты, наиболее сколнные к оттоку, находятся во 1-м и 2-м кластерах (доля оттока 40% и 56% соответственно);\n",
    "- 4-й кластер является середнячком (27% оттока)."
   ]
  },
  {
   "cell_type": "markdown",
   "metadata": {},
   "source": [
    "## Выводы и рекомендации"
   ]
  },
  {
   "cell_type": "markdown",
   "metadata": {},
   "source": [
    "I. На этапе предобработки мы проверили данные на наличие пропусков и дубликатов (обнаружить их не удалось). Изучив типы столбцов, мы убедились, что категориальные признаки уже были приведены к множеству бинарных полей и что типы столбцов заданы корректно.\n",
    "\n",
    "В рамках EDA мы проанализировали распределения как бинарных, так и количественных признаков, убедившись в достоверности и правдоподобности данных (об этом говорит вид распределения и отсутствие аномальных значений). \n",
    "\n",
    "С помощью матрицы корреляций были найдены две пары признаков с сильной корреляционной связью (более 95%). Для решения проблемы мультиколлинеарности парные столбцы (срок до окончания абонемента и средняя частота посещения за все время) были удалены.\n",
    "\n",
    "II. Используя алгоритмы Логистическая регрессия и Случайный лес, мы построили модель бинарной классификации клиентов, где целевой признак - факт оттока клиента в следующем месяце. Предварительно разбив выборку на тестовую и валидационную, мы обучили наши модели на тестовой выборке и сделали прогноз на валидационной. Для оценки эффективности двух моделей были рассчитаны метрики Accuracy, Precision и Recall: показатели Логистической регрессии оказались выше аналогичных показателей модели Случайный лес на 2-3%.  \n",
    "\n",
    "III. После предварительной стандартизации данных мы построили матрицу расстояний функцией linkage() и нарисовали дендрограмму. Таким образом удалось найти оптимальное число кластеров - 5. Затем с помощью алгоритма K-means мы обучили модель кластеризации и спрогнозировали кластеры клиентов. Анализ получившихся кластеров позволяет сделать следующие выводы:\n",
    "- в кластер с наименьшей долей оттока (1%) - 3-й - судя по всему, попали клиенты, максимально вовлеченные в процесс занятий; об этом говорят высокие показатели по частоте посещений (2-3 раза в неделю), по тратам на другие услуги фитнес-центра и по посещению групповых занятий (54% занимающихся); для клиентов этой категории характерны: длительные абонементы (полугодовые и годовые), проживание или работа в районе фитнес-центра, невысокий процент записи в рамках акции;\n",
    "- 0-й кластер (доля оттока 12%) составляют клиенты, попавшие в клуб по партнерской программе и/или по акции \"Приведи друга\" (показатели по этим признакам 89% и 100%); они также проживают (работают) в непросредственной близости от фитнес-центра, регулярно посещают тренировки (около 2 раз в неделю) и довольно активны в клубе (другие услуги и групповые занятия);\n",
    "- главной особенностью представителей 4-го кластера (около 400 человек, отток 27%) является отсутствие контактного телефона, что выглядит довольно странным; все показатели у клиентов из этой категории находятся на среднем уровне, уступая показателям лидеров (3-й и 0-й кластеры);\n",
    "- клиентов из 1-го кластера (отток 40%) объединяет факт проживания (работы) в удаленных от фитнес-центра районах;\n",
    "- аутсайдером по доле оттока (56%) является 2-й кластер (самая многочисленная группа); здесь мы видим низкие значения ключевых показателей: частота посещений - около 1 раза в неделю, длительность абонемента - 2 месяца, небольшие затраты на другие услуги центра; также обращает на себя внимание средний возраст этой категории: представители этого кластера в среднем моложе остальных клиентов на 2-3 года.\n",
    "\n",
    "IV. На основе проведенного анализа можно сформулировать некоторые рекомендации по повышению качества работы с клиентами:\n",
    "- одной из главных задач в работе с посетителями представляется вовлечение клиентов в жизнь фитнес-клуба: активное посещение занятий (самостоятельных и групповых), кафе, магазина при клубе, массажного салона; клиенты, пользующиеся разными услугами, намного реже попадают в отток; добиться такой вовлеченности можно попробовать с помощью различных акций (скидок) на доп. услуги, бесплатных групповых занятий, системы поощрений наиболее активных членов клуба и т.д.;\n",
    "- серьезной проблемой является большой отток клиентов с месячным абонементом (2-й кластер); очевидно, люди просто не успевают втянуться, почувствовать вкус занятий; решить эту проблему может индивидуальный подход к таким клиентам: персональные предложения (студентам), скидки на длительные абонементы, введение трехмесячного абонемента (компромиссный вариант);\n",
    "- странным кажется отсутствие в базе контактных телефонов 400 человек; необходимо \"установить контакт\" с этими клиентами, используя телефон, мессенджеры или эл. почту;\n",
    "- перспективной выглядит стратегия привлечения клиентов через партнерскую программу (скидка сотрудникам компании-партнера) и акцию \"Приведи друга\": 0-й кластер, полностью состоящий из людей, попавших в клуб через эти каналы, демонстрирует высокий уровень лояльности (всего 12% оттока)."
   ]
  }
 ],
 "metadata": {
  "ExecuteTimeLog": [
   {
    "duration": 745,
    "start_time": "2022-02-05T05:39:53.267Z"
   },
   {
    "duration": 26,
    "start_time": "2022-02-05T05:39:54.574Z"
   },
   {
    "duration": 28,
    "start_time": "2022-02-05T05:40:08.279Z"
   },
   {
    "duration": 11,
    "start_time": "2022-02-05T05:40:30.566Z"
   },
   {
    "duration": 72,
    "start_time": "2022-02-05T05:41:21.726Z"
   },
   {
    "duration": 695,
    "start_time": "2022-02-05T06:00:41.564Z"
   },
   {
    "duration": 5,
    "start_time": "2022-02-05T06:04:30.451Z"
   },
   {
    "duration": 24,
    "start_time": "2022-02-05T06:04:51.866Z"
   },
   {
    "duration": 37,
    "start_time": "2022-02-05T06:05:08.378Z"
   },
   {
    "duration": 6,
    "start_time": "2022-02-05T06:36:31.912Z"
   },
   {
    "duration": 4,
    "start_time": "2022-02-05T06:36:45.947Z"
   },
   {
    "duration": 7,
    "start_time": "2022-02-05T06:36:53.800Z"
   },
   {
    "duration": 18,
    "start_time": "2022-02-05T06:39:37.487Z"
   },
   {
    "duration": 5,
    "start_time": "2022-02-05T06:40:11.399Z"
   },
   {
    "duration": 17,
    "start_time": "2022-02-05T06:40:17.815Z"
   },
   {
    "duration": 6,
    "start_time": "2022-02-05T06:41:08.065Z"
   },
   {
    "duration": 17,
    "start_time": "2022-02-05T06:41:08.728Z"
   },
   {
    "duration": 8,
    "start_time": "2022-02-05T06:47:13.253Z"
   },
   {
    "duration": 14,
    "start_time": "2022-02-05T06:47:25.517Z"
   },
   {
    "duration": 16,
    "start_time": "2022-02-05T06:47:28.245Z"
   },
   {
    "duration": 11,
    "start_time": "2022-02-05T06:47:37.772Z"
   },
   {
    "duration": 406,
    "start_time": "2022-02-05T06:47:40.917Z"
   },
   {
    "duration": 12,
    "start_time": "2022-02-05T06:47:47.940Z"
   },
   {
    "duration": 11,
    "start_time": "2022-02-05T06:47:51.724Z"
   },
   {
    "duration": 22,
    "start_time": "2022-02-05T07:03:07.931Z"
   },
   {
    "duration": 3,
    "start_time": "2022-02-05T07:06:06.091Z"
   },
   {
    "duration": 393,
    "start_time": "2022-02-05T07:06:58.042Z"
   },
   {
    "duration": 375,
    "start_time": "2022-02-05T07:07:23.617Z"
   },
   {
    "duration": 374,
    "start_time": "2022-02-05T07:07:37.945Z"
   },
   {
    "duration": 278,
    "start_time": "2022-02-05T07:08:06.465Z"
   },
   {
    "duration": 485,
    "start_time": "2022-02-05T07:08:25.146Z"
   },
   {
    "duration": 264,
    "start_time": "2022-02-05T07:08:48.041Z"
   },
   {
    "duration": 11,
    "start_time": "2022-02-05T07:09:07.537Z"
   },
   {
    "duration": 25,
    "start_time": "2022-02-05T07:09:13.585Z"
   },
   {
    "duration": 249,
    "start_time": "2022-02-05T07:09:25.121Z"
   },
   {
    "duration": 380,
    "start_time": "2022-02-05T07:09:56.050Z"
   },
   {
    "duration": 366,
    "start_time": "2022-02-05T07:10:17.489Z"
   },
   {
    "duration": 391,
    "start_time": "2022-02-05T07:12:03.312Z"
   },
   {
    "duration": 512,
    "start_time": "2022-02-05T07:15:04.398Z"
   },
   {
    "duration": 714,
    "start_time": "2022-02-05T07:15:29.358Z"
   },
   {
    "duration": 483,
    "start_time": "2022-02-05T07:15:40.719Z"
   },
   {
    "duration": 678,
    "start_time": "2022-02-05T07:19:06.362Z"
   },
   {
    "duration": 18,
    "start_time": "2022-02-05T12:50:33.975Z"
   },
   {
    "duration": 595,
    "start_time": "2022-02-05T12:54:39.444Z"
   },
   {
    "duration": 592,
    "start_time": "2022-02-05T12:54:45.221Z"
   },
   {
    "duration": 588,
    "start_time": "2022-02-05T12:55:00.004Z"
   },
   {
    "duration": 563,
    "start_time": "2022-02-05T12:55:04.860Z"
   },
   {
    "duration": 565,
    "start_time": "2022-02-05T12:55:12.588Z"
   },
   {
    "duration": 594,
    "start_time": "2022-02-05T12:55:20.947Z"
   },
   {
    "duration": 535,
    "start_time": "2022-02-05T12:55:25.459Z"
   },
   {
    "duration": 606,
    "start_time": "2022-02-05T12:56:47.291Z"
   },
   {
    "duration": 519,
    "start_time": "2022-02-05T12:57:03.435Z"
   },
   {
    "duration": 787,
    "start_time": "2022-02-05T12:57:39.378Z"
   },
   {
    "duration": 259,
    "start_time": "2022-02-05T12:58:02.371Z"
   },
   {
    "duration": 794,
    "start_time": "2022-02-05T12:58:08.674Z"
   },
   {
    "duration": 285,
    "start_time": "2022-02-05T12:58:14.387Z"
   },
   {
    "duration": 511,
    "start_time": "2022-02-05T12:58:26.778Z"
   },
   {
    "duration": 253,
    "start_time": "2022-02-05T13:00:43.481Z"
   },
   {
    "duration": 268,
    "start_time": "2022-02-05T13:00:49.585Z"
   },
   {
    "duration": 340,
    "start_time": "2022-02-05T13:01:01.458Z"
   },
   {
    "duration": 475,
    "start_time": "2022-02-05T13:01:12.377Z"
   },
   {
    "duration": 778,
    "start_time": "2022-02-05T13:01:25.744Z"
   },
   {
    "duration": 517,
    "start_time": "2022-02-05T13:01:36.315Z"
   },
   {
    "duration": 515,
    "start_time": "2022-02-05T13:02:06.009Z"
   },
   {
    "duration": 8,
    "start_time": "2022-02-05T13:02:54.608Z"
   },
   {
    "duration": 10,
    "start_time": "2022-02-05T13:03:03.551Z"
   },
   {
    "duration": 300,
    "start_time": "2022-02-05T13:03:14.456Z"
   },
   {
    "duration": 12,
    "start_time": "2022-02-05T13:03:22.781Z"
   },
   {
    "duration": 9,
    "start_time": "2022-02-05T13:03:27.029Z"
   },
   {
    "duration": 8,
    "start_time": "2022-02-05T13:03:53.848Z"
   },
   {
    "duration": 592,
    "start_time": "2022-02-05T13:03:54.311Z"
   },
   {
    "duration": 809,
    "start_time": "2022-02-05T13:05:01.503Z"
   },
   {
    "duration": 647,
    "start_time": "2022-02-05T13:06:15.822Z"
   },
   {
    "duration": 92,
    "start_time": "2022-02-05T13:06:23.774Z"
   },
   {
    "duration": 604,
    "start_time": "2022-02-05T13:06:28.702Z"
   },
   {
    "duration": 646,
    "start_time": "2022-02-05T13:06:31.998Z"
   },
   {
    "duration": 643,
    "start_time": "2022-02-05T13:07:52.838Z"
   },
   {
    "duration": 609,
    "start_time": "2022-02-05T13:08:08.597Z"
   },
   {
    "duration": 621,
    "start_time": "2022-02-05T13:08:51.765Z"
   },
   {
    "duration": 638,
    "start_time": "2022-02-05T13:09:08.053Z"
   },
   {
    "duration": 702,
    "start_time": "2022-02-05T13:09:18.237Z"
   },
   {
    "duration": 749,
    "start_time": "2022-02-05T13:09:36.333Z"
   },
   {
    "duration": 721,
    "start_time": "2022-02-05T13:09:44.606Z"
   },
   {
    "duration": 782,
    "start_time": "2022-02-05T13:09:49.157Z"
   },
   {
    "duration": 648,
    "start_time": "2022-02-05T13:09:54.756Z"
   },
   {
    "duration": 663,
    "start_time": "2022-02-05T13:10:00.869Z"
   },
   {
    "duration": 596,
    "start_time": "2022-02-05T13:10:24.293Z"
   },
   {
    "duration": 708,
    "start_time": "2022-02-05T13:10:32.765Z"
   },
   {
    "duration": 605,
    "start_time": "2022-02-05T13:11:16.517Z"
   },
   {
    "duration": 612,
    "start_time": "2022-02-05T13:16:21.435Z"
   },
   {
    "duration": 637,
    "start_time": "2022-02-05T13:16:28.235Z"
   },
   {
    "duration": 642,
    "start_time": "2022-02-05T13:17:19.930Z"
   },
   {
    "duration": 660,
    "start_time": "2022-02-05T13:18:31.161Z"
   },
   {
    "duration": 273,
    "start_time": "2022-02-05T13:18:54.993Z"
   },
   {
    "duration": 642,
    "start_time": "2022-02-05T13:19:59.751Z"
   },
   {
    "duration": 742,
    "start_time": "2022-02-05T13:20:44.777Z"
   },
   {
    "duration": 617,
    "start_time": "2022-02-05T13:20:56.975Z"
   },
   {
    "duration": 645,
    "start_time": "2022-02-05T13:22:10.343Z"
   },
   {
    "duration": 30,
    "start_time": "2022-02-05T13:28:30.323Z"
   },
   {
    "duration": 1837,
    "start_time": "2022-02-05T13:31:12.939Z"
   },
   {
    "duration": 1968,
    "start_time": "2022-02-05T13:31:23.131Z"
   },
   {
    "duration": 1764,
    "start_time": "2022-02-05T13:31:35.083Z"
   },
   {
    "duration": 1898,
    "start_time": "2022-02-05T13:32:59.097Z"
   },
   {
    "duration": 1800,
    "start_time": "2022-02-05T13:35:49.431Z"
   },
   {
    "duration": 2154,
    "start_time": "2022-02-05T13:36:47.824Z"
   },
   {
    "duration": 1839,
    "start_time": "2022-02-05T13:37:10.759Z"
   },
   {
    "duration": 1892,
    "start_time": "2022-02-05T13:37:36.592Z"
   },
   {
    "duration": 2011,
    "start_time": "2022-02-05T13:38:03.095Z"
   },
   {
    "duration": 1502,
    "start_time": "2022-02-06T12:54:19.957Z"
   },
   {
    "duration": 24,
    "start_time": "2022-02-06T12:54:21.462Z"
   },
   {
    "duration": 24,
    "start_time": "2022-02-06T12:54:21.489Z"
   },
   {
    "duration": 11,
    "start_time": "2022-02-06T12:54:21.516Z"
   },
   {
    "duration": 100,
    "start_time": "2022-02-06T12:54:21.529Z"
   },
   {
    "duration": 6,
    "start_time": "2022-02-06T12:54:21.632Z"
   },
   {
    "duration": 8,
    "start_time": "2022-02-06T12:54:21.640Z"
   },
   {
    "duration": 17,
    "start_time": "2022-02-06T12:54:21.670Z"
   },
   {
    "duration": 7,
    "start_time": "2022-02-06T12:54:21.690Z"
   },
   {
    "duration": 12,
    "start_time": "2022-02-06T12:54:21.699Z"
   },
   {
    "duration": 79,
    "start_time": "2022-02-06T12:54:21.713Z"
   },
   {
    "duration": 25,
    "start_time": "2022-02-06T12:54:21.794Z"
   },
   {
    "duration": 3,
    "start_time": "2022-02-06T12:54:21.821Z"
   },
   {
    "duration": 45,
    "start_time": "2022-02-06T12:54:21.826Z"
   },
   {
    "duration": 16,
    "start_time": "2022-02-06T12:54:21.874Z"
   },
   {
    "duration": 659,
    "start_time": "2022-02-06T12:54:21.893Z"
   },
   {
    "duration": 666,
    "start_time": "2022-02-06T12:54:22.554Z"
   },
   {
    "duration": 612,
    "start_time": "2022-02-06T12:54:23.223Z"
   },
   {
    "duration": 1901,
    "start_time": "2022-02-06T12:54:23.837Z"
   },
   {
    "duration": 91,
    "start_time": "2022-02-06T12:54:25.740Z"
   },
   {
    "duration": 625,
    "start_time": "2022-02-06T12:54:36.274Z"
   },
   {
    "duration": 713,
    "start_time": "2022-02-06T12:54:44.402Z"
   },
   {
    "duration": 4,
    "start_time": "2022-02-06T12:55:19.202Z"
   },
   {
    "duration": 1357,
    "start_time": "2022-02-06T12:56:47.401Z"
   },
   {
    "duration": 4,
    "start_time": "2022-02-06T12:57:18.289Z"
   },
   {
    "duration": 1059,
    "start_time": "2022-02-06T12:57:26.546Z"
   },
   {
    "duration": 1268,
    "start_time": "2022-02-06T12:57:38.441Z"
   },
   {
    "duration": 1453,
    "start_time": "2022-02-06T12:58:29.193Z"
   },
   {
    "duration": 5,
    "start_time": "2022-02-06T12:58:35.096Z"
   },
   {
    "duration": 1297,
    "start_time": "2022-02-06T12:58:35.760Z"
   },
   {
    "duration": 663,
    "start_time": "2022-02-06T12:59:21.961Z"
   },
   {
    "duration": 653,
    "start_time": "2022-02-06T12:59:40.757Z"
   },
   {
    "duration": 1108,
    "start_time": "2022-02-06T12:59:48.848Z"
   },
   {
    "duration": 1383,
    "start_time": "2022-02-06T12:59:57.912Z"
   },
   {
    "duration": 668,
    "start_time": "2022-02-06T13:00:27.704Z"
   },
   {
    "duration": 11,
    "start_time": "2022-02-06T13:02:05.223Z"
   },
   {
    "duration": 8,
    "start_time": "2022-02-06T13:02:09.783Z"
   },
   {
    "duration": 18,
    "start_time": "2022-02-06T13:09:30.363Z"
   },
   {
    "duration": 11,
    "start_time": "2022-02-06T13:11:23.186Z"
   },
   {
    "duration": 13,
    "start_time": "2022-02-06T13:11:34.529Z"
   },
   {
    "duration": 16,
    "start_time": "2022-02-06T13:12:16.946Z"
   },
   {
    "duration": 17,
    "start_time": "2022-02-06T13:13:05.234Z"
   },
   {
    "duration": 403,
    "start_time": "2022-02-06T13:13:32.201Z"
   },
   {
    "duration": 338,
    "start_time": "2022-02-06T13:14:42.089Z"
   },
   {
    "duration": 435,
    "start_time": "2022-02-06T13:16:50.879Z"
   },
   {
    "duration": 357,
    "start_time": "2022-02-06T13:17:05.935Z"
   },
   {
    "duration": 338,
    "start_time": "2022-02-06T13:17:09.679Z"
   },
   {
    "duration": 116,
    "start_time": "2022-02-06T13:19:47.287Z"
   },
   {
    "duration": 18,
    "start_time": "2022-02-06T13:19:54.902Z"
   },
   {
    "duration": 17,
    "start_time": "2022-02-06T13:20:04.998Z"
   },
   {
    "duration": 22,
    "start_time": "2022-02-06T13:20:16.023Z"
   },
   {
    "duration": 17,
    "start_time": "2022-02-06T13:20:35.398Z"
   },
   {
    "duration": 88,
    "start_time": "2022-02-06T13:20:51.589Z"
   },
   {
    "duration": 19,
    "start_time": "2022-02-06T13:21:00.998Z"
   },
   {
    "duration": 336,
    "start_time": "2022-02-06T13:21:02.685Z"
   },
   {
    "duration": 18,
    "start_time": "2022-02-06T13:21:06.054Z"
   },
   {
    "duration": 17,
    "start_time": "2022-02-06T13:21:13.421Z"
   },
   {
    "duration": 17,
    "start_time": "2022-02-06T13:21:16.252Z"
   },
   {
    "duration": 765,
    "start_time": "2022-02-06T13:21:19.757Z"
   },
   {
    "duration": 376,
    "start_time": "2022-02-06T13:21:25.710Z"
   },
   {
    "duration": 447,
    "start_time": "2022-02-06T13:21:35.485Z"
   },
   {
    "duration": 9,
    "start_time": "2022-02-06T13:23:50.604Z"
   },
   {
    "duration": 11,
    "start_time": "2022-02-06T13:25:12.260Z"
   },
   {
    "duration": 9,
    "start_time": "2022-02-06T13:26:02.843Z"
   },
   {
    "duration": 10,
    "start_time": "2022-02-06T13:26:15.482Z"
   },
   {
    "duration": 9,
    "start_time": "2022-02-06T13:26:39.050Z"
   },
   {
    "duration": 15,
    "start_time": "2022-02-06T13:26:45.066Z"
   },
   {
    "duration": 16,
    "start_time": "2022-02-06T13:27:26.147Z"
   },
   {
    "duration": 17,
    "start_time": "2022-02-06T13:27:42.587Z"
   },
   {
    "duration": 16,
    "start_time": "2022-02-06T13:27:47.187Z"
   },
   {
    "duration": 337,
    "start_time": "2022-02-06T14:12:31.581Z"
   },
   {
    "duration": 334,
    "start_time": "2022-02-06T14:12:38.083Z"
   },
   {
    "duration": 19,
    "start_time": "2022-02-06T14:20:28.168Z"
   },
   {
    "duration": 9,
    "start_time": "2022-02-06T14:20:46.567Z"
   },
   {
    "duration": 14,
    "start_time": "2022-02-06T14:21:40.160Z"
   },
   {
    "duration": 16,
    "start_time": "2022-02-06T14:22:25.336Z"
   },
   {
    "duration": 257,
    "start_time": "2022-02-06T14:23:04.846Z"
   },
   {
    "duration": 11,
    "start_time": "2022-02-06T14:23:21.096Z"
   },
   {
    "duration": 12,
    "start_time": "2022-02-06T14:23:27.359Z"
   },
   {
    "duration": 10,
    "start_time": "2022-02-06T14:23:45.319Z"
   },
   {
    "duration": 88,
    "start_time": "2022-02-06T14:23:59.886Z"
   },
   {
    "duration": 82,
    "start_time": "2022-02-06T14:24:04.014Z"
   },
   {
    "duration": 11,
    "start_time": "2022-02-06T14:24:11.279Z"
   },
   {
    "duration": 692,
    "start_time": "2022-02-06T14:24:20.639Z"
   },
   {
    "duration": 11,
    "start_time": "2022-02-06T14:24:50.838Z"
   },
   {
    "duration": 8,
    "start_time": "2022-02-06T14:25:25.406Z"
   },
   {
    "duration": 6,
    "start_time": "2022-02-06T14:26:27.581Z"
   },
   {
    "duration": 7,
    "start_time": "2022-02-06T14:26:47.902Z"
   },
   {
    "duration": 9,
    "start_time": "2022-02-06T14:26:55.661Z"
   },
   {
    "duration": 13,
    "start_time": "2022-02-06T14:42:06.662Z"
   },
   {
    "duration": 19,
    "start_time": "2022-02-06T14:42:24.581Z"
   },
   {
    "duration": 734,
    "start_time": "2022-02-06T14:44:10.141Z"
   },
   {
    "duration": 731,
    "start_time": "2022-02-06T14:44:48.881Z"
   },
   {
    "duration": 727,
    "start_time": "2022-02-06T14:45:24.869Z"
   },
   {
    "duration": 292,
    "start_time": "2022-02-06T14:46:29.244Z"
   },
   {
    "duration": 246,
    "start_time": "2022-02-06T14:46:39.069Z"
   },
   {
    "duration": 626,
    "start_time": "2022-02-06T14:46:49.405Z"
   },
   {
    "duration": 631,
    "start_time": "2022-02-06T14:47:50.203Z"
   },
   {
    "duration": 626,
    "start_time": "2022-02-06T14:47:54.666Z"
   },
   {
    "duration": 766,
    "start_time": "2022-02-06T14:47:58.795Z"
   },
   {
    "duration": 624,
    "start_time": "2022-02-06T14:48:04.355Z"
   },
   {
    "duration": 367,
    "start_time": "2022-02-06T14:48:37.730Z"
   },
   {
    "duration": 704,
    "start_time": "2022-02-06T14:48:58.738Z"
   },
   {
    "duration": 756,
    "start_time": "2022-02-06T14:49:04.774Z"
   },
   {
    "duration": 636,
    "start_time": "2022-02-06T14:49:12.179Z"
   },
   {
    "duration": 671,
    "start_time": "2022-02-06T14:49:21.091Z"
   },
   {
    "duration": 816,
    "start_time": "2022-02-06T14:49:27.732Z"
   },
   {
    "duration": 610,
    "start_time": "2022-02-06T14:49:34.778Z"
   },
   {
    "duration": 623,
    "start_time": "2022-02-06T14:49:39.234Z"
   },
   {
    "duration": 608,
    "start_time": "2022-02-06T14:49:43.442Z"
   },
   {
    "duration": 598,
    "start_time": "2022-02-06T14:49:47.690Z"
   },
   {
    "duration": 564,
    "start_time": "2022-02-06T14:49:52.226Z"
   },
   {
    "duration": 602,
    "start_time": "2022-02-06T14:49:56.587Z"
   },
   {
    "duration": 659,
    "start_time": "2022-02-06T14:50:07.666Z"
   },
   {
    "duration": 653,
    "start_time": "2022-02-06T14:50:14.114Z"
   },
   {
    "duration": 738,
    "start_time": "2022-02-06T14:50:21.028Z"
   },
   {
    "duration": 645,
    "start_time": "2022-02-06T14:50:25.617Z"
   },
   {
    "duration": 329,
    "start_time": "2022-02-06T14:51:38.738Z"
   },
   {
    "duration": 649,
    "start_time": "2022-02-06T14:51:48.522Z"
   },
   {
    "duration": 815,
    "start_time": "2022-02-06T14:52:18.225Z"
   },
   {
    "duration": 706,
    "start_time": "2022-02-06T14:52:29.003Z"
   },
   {
    "duration": 761,
    "start_time": "2022-02-06T14:52:39.145Z"
   },
   {
    "duration": 731,
    "start_time": "2022-02-06T14:52:50.073Z"
   },
   {
    "duration": 270,
    "start_time": "2022-02-06T14:54:35.217Z"
   },
   {
    "duration": 273,
    "start_time": "2022-02-06T14:54:40.768Z"
   },
   {
    "duration": 782,
    "start_time": "2022-02-06T14:55:49.169Z"
   },
   {
    "duration": 790,
    "start_time": "2022-02-06T14:56:08.759Z"
   },
   {
    "duration": 771,
    "start_time": "2022-02-06T14:56:17.895Z"
   },
   {
    "duration": 751,
    "start_time": "2022-02-06T14:56:23.455Z"
   },
   {
    "duration": 762,
    "start_time": "2022-02-06T14:57:30.921Z"
   },
   {
    "duration": 930,
    "start_time": "2022-02-06T14:57:35.622Z"
   },
   {
    "duration": 668,
    "start_time": "2022-02-06T14:58:20.094Z"
   },
   {
    "duration": 692,
    "start_time": "2022-02-06T14:58:29.566Z"
   },
   {
    "duration": 259,
    "start_time": "2022-02-06T14:58:38.734Z"
   },
   {
    "duration": 718,
    "start_time": "2022-02-06T14:59:01.735Z"
   },
   {
    "duration": 269,
    "start_time": "2022-02-06T14:59:15.293Z"
   },
   {
    "duration": 257,
    "start_time": "2022-02-06T14:59:24.767Z"
   },
   {
    "duration": 11,
    "start_time": "2022-02-06T15:00:21.279Z"
   },
   {
    "duration": 948,
    "start_time": "2022-02-06T15:00:32.134Z"
   },
   {
    "duration": 1055,
    "start_time": "2022-02-06T15:00:58.693Z"
   },
   {
    "duration": 866,
    "start_time": "2022-02-06T15:02:37.093Z"
   },
   {
    "duration": 793,
    "start_time": "2022-02-06T15:02:41.884Z"
   },
   {
    "duration": 758,
    "start_time": "2022-02-06T15:02:47.492Z"
   },
   {
    "duration": 854,
    "start_time": "2022-02-06T15:02:56.836Z"
   },
   {
    "duration": 797,
    "start_time": "2022-02-06T15:02:59.307Z"
   },
   {
    "duration": 763,
    "start_time": "2022-02-06T15:03:05.012Z"
   },
   {
    "duration": 832,
    "start_time": "2022-02-06T15:03:09.427Z"
   },
   {
    "duration": 805,
    "start_time": "2022-02-06T15:04:02.764Z"
   },
   {
    "duration": 1608,
    "start_time": "2022-02-06T15:04:51.144Z"
   },
   {
    "duration": 26,
    "start_time": "2022-02-06T15:04:52.755Z"
   },
   {
    "duration": 24,
    "start_time": "2022-02-06T15:04:52.783Z"
   },
   {
    "duration": 10,
    "start_time": "2022-02-06T15:04:52.810Z"
   },
   {
    "duration": 99,
    "start_time": "2022-02-06T15:04:52.823Z"
   },
   {
    "duration": 6,
    "start_time": "2022-02-06T15:04:52.925Z"
   },
   {
    "duration": 6,
    "start_time": "2022-02-06T15:04:52.934Z"
   },
   {
    "duration": 17,
    "start_time": "2022-02-06T15:04:52.969Z"
   },
   {
    "duration": 9,
    "start_time": "2022-02-06T15:04:52.989Z"
   },
   {
    "duration": 12,
    "start_time": "2022-02-06T15:04:53.000Z"
   },
   {
    "duration": 74,
    "start_time": "2022-02-06T15:04:53.015Z"
   },
   {
    "duration": 25,
    "start_time": "2022-02-06T15:04:53.091Z"
   },
   {
    "duration": 3,
    "start_time": "2022-02-06T15:04:53.118Z"
   },
   {
    "duration": 49,
    "start_time": "2022-02-06T15:04:53.124Z"
   },
   {
    "duration": 8,
    "start_time": "2022-02-06T15:04:53.175Z"
   },
   {
    "duration": 6,
    "start_time": "2022-02-06T15:04:53.185Z"
   },
   {
    "duration": 695,
    "start_time": "2022-02-06T15:04:53.193Z"
   },
   {
    "duration": 764,
    "start_time": "2022-02-06T15:04:53.891Z"
   },
   {
    "duration": 804,
    "start_time": "2022-02-06T15:04:54.658Z"
   },
   {
    "duration": 19,
    "start_time": "2022-02-06T15:04:55.470Z"
   },
   {
    "duration": 364,
    "start_time": "2022-02-06T15:04:55.491Z"
   },
   {
    "duration": 25,
    "start_time": "2022-02-06T15:04:55.858Z"
   },
   {
    "duration": 1937,
    "start_time": "2022-02-06T15:04:55.888Z"
   },
   {
    "duration": 14,
    "start_time": "2022-02-06T15:04:57.828Z"
   },
   {
    "duration": 25,
    "start_time": "2022-02-06T15:04:57.845Z"
   },
   {
    "duration": 17,
    "start_time": "2022-02-06T19:14:49.070Z"
   },
   {
    "duration": 6,
    "start_time": "2022-02-06T19:16:15.061Z"
   },
   {
    "duration": 403,
    "start_time": "2022-02-06T19:16:24.472Z"
   },
   {
    "duration": 7,
    "start_time": "2022-02-06T19:16:27.896Z"
   },
   {
    "duration": 5,
    "start_time": "2022-02-06T19:16:34.073Z"
   },
   {
    "duration": 22,
    "start_time": "2022-02-06T19:16:44.471Z"
   },
   {
    "duration": 15,
    "start_time": "2022-02-06T19:19:56.287Z"
   },
   {
    "duration": 6,
    "start_time": "2022-02-06T19:20:00.880Z"
   },
   {
    "duration": 17,
    "start_time": "2022-02-06T19:25:53.419Z"
   },
   {
    "duration": 6,
    "start_time": "2022-02-06T19:25:53.891Z"
   },
   {
    "duration": 7,
    "start_time": "2022-02-06T19:26:17.699Z"
   },
   {
    "duration": 15,
    "start_time": "2022-02-06T19:26:18.880Z"
   },
   {
    "duration": 5,
    "start_time": "2022-02-06T19:26:19.403Z"
   },
   {
    "duration": 27,
    "start_time": "2022-02-06T19:26:23.900Z"
   },
   {
    "duration": 266,
    "start_time": "2022-02-06T19:26:27.780Z"
   },
   {
    "duration": 17,
    "start_time": "2022-02-06T19:26:32.035Z"
   },
   {
    "duration": 89,
    "start_time": "2022-02-06T19:31:23.745Z"
   },
   {
    "duration": 16,
    "start_time": "2022-02-06T19:32:48.288Z"
   },
   {
    "duration": 283,
    "start_time": "2022-02-06T19:33:41.798Z"
   },
   {
    "duration": 26,
    "start_time": "2022-02-06T19:33:57.944Z"
   },
   {
    "duration": 6,
    "start_time": "2022-02-06T19:34:25.992Z"
   },
   {
    "duration": 7,
    "start_time": "2022-02-06T19:34:29.367Z"
   },
   {
    "duration": 7,
    "start_time": "2022-02-06T19:36:07.615Z"
   },
   {
    "duration": 4,
    "start_time": "2022-02-06T19:36:50.454Z"
   },
   {
    "duration": 4,
    "start_time": "2022-02-06T19:37:37.052Z"
   },
   {
    "duration": 8,
    "start_time": "2022-02-06T19:39:14.670Z"
   },
   {
    "duration": 4,
    "start_time": "2022-02-06T19:39:15.364Z"
   },
   {
    "duration": 68,
    "start_time": "2022-02-06T19:40:00.861Z"
   },
   {
    "duration": 4,
    "start_time": "2022-02-06T19:40:31.629Z"
   },
   {
    "duration": 47,
    "start_time": "2022-02-06T19:40:33.037Z"
   },
   {
    "duration": 4,
    "start_time": "2022-02-06T19:43:26.846Z"
   },
   {
    "duration": 47,
    "start_time": "2022-02-06T19:43:31.748Z"
   },
   {
    "duration": 7,
    "start_time": "2022-02-06T19:45:52.483Z"
   },
   {
    "duration": 7,
    "start_time": "2022-02-06T19:46:49.650Z"
   },
   {
    "duration": 7,
    "start_time": "2022-02-06T19:47:58.314Z"
   },
   {
    "duration": 18,
    "start_time": "2022-02-06T19:48:10.870Z"
   },
   {
    "duration": 5,
    "start_time": "2022-02-06T19:48:21.546Z"
   },
   {
    "duration": 7,
    "start_time": "2022-02-06T19:48:39.587Z"
   },
   {
    "duration": 15,
    "start_time": "2022-02-06T19:48:53.264Z"
   },
   {
    "duration": 322,
    "start_time": "2022-02-06T19:49:14.886Z"
   },
   {
    "duration": 16,
    "start_time": "2022-02-06T19:49:19.834Z"
   },
   {
    "duration": 5,
    "start_time": "2022-02-06T19:54:32.551Z"
   },
   {
    "duration": 4,
    "start_time": "2022-02-06T20:00:23.164Z"
   },
   {
    "duration": 5,
    "start_time": "2022-02-06T20:01:01.891Z"
   },
   {
    "duration": 743,
    "start_time": "2022-02-06T20:01:06.207Z"
   },
   {
    "duration": 48,
    "start_time": "2022-02-06T20:01:21.300Z"
   },
   {
    "duration": 708,
    "start_time": "2022-02-06T20:01:24.723Z"
   },
   {
    "duration": 277,
    "start_time": "2022-02-06T20:02:28.907Z"
   },
   {
    "duration": 37,
    "start_time": "2022-02-06T20:02:40.636Z"
   },
   {
    "duration": 17,
    "start_time": "2022-02-06T20:02:45.059Z"
   },
   {
    "duration": 9,
    "start_time": "2022-02-06T20:03:00.427Z"
   },
   {
    "duration": 24,
    "start_time": "2022-02-06T20:03:24.227Z"
   },
   {
    "duration": 16,
    "start_time": "2022-02-06T20:03:25.201Z"
   },
   {
    "duration": 273,
    "start_time": "2022-02-06T20:03:39.465Z"
   },
   {
    "duration": 16,
    "start_time": "2022-02-06T20:03:48.619Z"
   },
   {
    "duration": 5,
    "start_time": "2022-02-06T20:04:08.439Z"
   },
   {
    "duration": 4,
    "start_time": "2022-02-06T20:11:54.359Z"
   },
   {
    "duration": 57,
    "start_time": "2022-02-06T20:11:59.653Z"
   },
   {
    "duration": 6,
    "start_time": "2022-02-06T20:12:08.725Z"
   },
   {
    "duration": 251,
    "start_time": "2022-02-06T20:12:10.638Z"
   },
   {
    "duration": 695,
    "start_time": "2022-02-06T20:12:25.215Z"
   },
   {
    "duration": 39,
    "start_time": "2022-02-06T20:12:29.414Z"
   },
   {
    "duration": 7,
    "start_time": "2022-02-06T20:13:39.589Z"
   },
   {
    "duration": 24,
    "start_time": "2022-02-06T20:13:40.866Z"
   },
   {
    "duration": 304,
    "start_time": "2022-02-06T20:15:14.341Z"
   },
   {
    "duration": 5,
    "start_time": "2022-02-06T20:16:18.718Z"
   },
   {
    "duration": 275,
    "start_time": "2022-02-06T20:16:24.763Z"
   },
   {
    "duration": 4,
    "start_time": "2022-02-06T20:17:09.888Z"
   },
   {
    "duration": 50,
    "start_time": "2022-02-06T20:17:11.426Z"
   },
   {
    "duration": 438,
    "start_time": "2022-02-06T20:17:12.255Z"
   },
   {
    "duration": 7,
    "start_time": "2022-02-06T20:17:14.203Z"
   },
   {
    "duration": 60,
    "start_time": "2022-02-06T20:17:14.778Z"
   },
   {
    "duration": 59,
    "start_time": "2022-02-06T20:17:45.527Z"
   },
   {
    "duration": 7,
    "start_time": "2022-02-06T20:17:49.507Z"
   },
   {
    "duration": 16,
    "start_time": "2022-02-06T20:17:54.506Z"
   },
   {
    "duration": 6,
    "start_time": "2022-02-06T20:17:59.490Z"
   },
   {
    "duration": 264,
    "start_time": "2022-02-06T20:23:33.853Z"
   },
   {
    "duration": 12,
    "start_time": "2022-02-06T20:23:47.065Z"
   },
   {
    "duration": 15,
    "start_time": "2022-02-06T20:24:59.201Z"
   },
   {
    "duration": 8,
    "start_time": "2022-02-06T20:25:30.360Z"
   },
   {
    "duration": 4,
    "start_time": "2022-02-06T20:25:31.455Z"
   },
   {
    "duration": 57,
    "start_time": "2022-02-06T20:25:32.263Z"
   },
   {
    "duration": 665,
    "start_time": "2022-02-06T20:25:32.855Z"
   },
   {
    "duration": 7,
    "start_time": "2022-02-06T20:25:34.567Z"
   },
   {
    "duration": 98,
    "start_time": "2022-02-06T20:25:35.171Z"
   },
   {
    "duration": 17,
    "start_time": "2022-02-06T20:25:36.161Z"
   },
   {
    "duration": 16,
    "start_time": "2022-02-06T20:25:37.095Z"
   },
   {
    "duration": 253,
    "start_time": "2022-02-06T20:28:44.028Z"
   },
   {
    "duration": 7,
    "start_time": "2022-02-06T20:28:59.687Z"
   },
   {
    "duration": 9,
    "start_time": "2022-02-06T20:29:03.383Z"
   },
   {
    "duration": 10,
    "start_time": "2022-02-06T20:29:13.094Z"
   },
   {
    "duration": 9,
    "start_time": "2022-02-06T20:31:14.316Z"
   },
   {
    "duration": 4,
    "start_time": "2022-02-06T20:31:15.400Z"
   },
   {
    "duration": 56,
    "start_time": "2022-02-06T20:31:16.044Z"
   },
   {
    "duration": 457,
    "start_time": "2022-02-06T20:31:16.364Z"
   },
   {
    "duration": 6,
    "start_time": "2022-02-06T20:31:17.164Z"
   },
   {
    "duration": 63,
    "start_time": "2022-02-06T20:31:17.852Z"
   },
   {
    "duration": 12,
    "start_time": "2022-02-06T20:31:20.589Z"
   },
   {
    "duration": 12,
    "start_time": "2022-02-06T20:31:21.637Z"
   },
   {
    "duration": 9,
    "start_time": "2022-02-06T20:31:37.084Z"
   },
   {
    "duration": 4,
    "start_time": "2022-02-06T20:31:42.573Z"
   },
   {
    "duration": 59,
    "start_time": "2022-02-06T20:31:43.284Z"
   },
   {
    "duration": 465,
    "start_time": "2022-02-06T20:31:43.499Z"
   },
   {
    "duration": 7,
    "start_time": "2022-02-06T20:31:46.692Z"
   },
   {
    "duration": 61,
    "start_time": "2022-02-06T20:31:47.036Z"
   },
   {
    "duration": 12,
    "start_time": "2022-02-06T20:31:47.964Z"
   },
   {
    "duration": 11,
    "start_time": "2022-02-06T20:31:48.660Z"
   },
   {
    "duration": 2110,
    "start_time": "2022-02-06T20:34:39.157Z"
   },
   {
    "duration": 30,
    "start_time": "2022-02-06T20:34:41.271Z"
   },
   {
    "duration": 34,
    "start_time": "2022-02-06T20:34:41.305Z"
   },
   {
    "duration": 34,
    "start_time": "2022-02-06T20:34:41.342Z"
   },
   {
    "duration": 115,
    "start_time": "2022-02-06T20:34:41.379Z"
   },
   {
    "duration": 7,
    "start_time": "2022-02-06T20:34:41.497Z"
   },
   {
    "duration": 8,
    "start_time": "2022-02-06T20:34:41.507Z"
   },
   {
    "duration": 20,
    "start_time": "2022-02-06T20:34:41.520Z"
   },
   {
    "duration": 8,
    "start_time": "2022-02-06T20:34:41.571Z"
   },
   {
    "duration": 15,
    "start_time": "2022-02-06T20:34:41.582Z"
   },
   {
    "duration": 73,
    "start_time": "2022-02-06T20:34:41.600Z"
   },
   {
    "duration": 26,
    "start_time": "2022-02-06T20:34:41.675Z"
   },
   {
    "duration": 4,
    "start_time": "2022-02-06T20:34:41.703Z"
   },
   {
    "duration": 10,
    "start_time": "2022-02-06T20:34:41.710Z"
   },
   {
    "duration": 7,
    "start_time": "2022-02-06T20:34:41.723Z"
   },
   {
    "duration": 990,
    "start_time": "2022-02-06T20:34:41.771Z"
   },
   {
    "duration": 963,
    "start_time": "2022-02-06T20:34:42.768Z"
   },
   {
    "duration": 1101,
    "start_time": "2022-02-06T20:34:43.734Z"
   },
   {
    "duration": 34,
    "start_time": "2022-02-06T20:34:44.838Z"
   },
   {
    "duration": 452,
    "start_time": "2022-02-06T20:34:44.874Z"
   },
   {
    "duration": 42,
    "start_time": "2022-02-06T20:34:45.329Z"
   },
   {
    "duration": 2468,
    "start_time": "2022-02-06T20:34:45.373Z"
   },
   {
    "duration": 30,
    "start_time": "2022-02-06T20:34:47.848Z"
   },
   {
    "duration": 11,
    "start_time": "2022-02-06T20:34:47.881Z"
   },
   {
    "duration": 7,
    "start_time": "2022-02-06T20:34:47.894Z"
   },
   {
    "duration": 9,
    "start_time": "2022-02-06T20:34:47.904Z"
   },
   {
    "duration": 12,
    "start_time": "2022-02-06T20:34:47.915Z"
   },
   {
    "duration": 42,
    "start_time": "2022-02-06T20:34:47.929Z"
   },
   {
    "duration": 76,
    "start_time": "2022-02-06T20:34:47.974Z"
   },
   {
    "duration": 765,
    "start_time": "2022-02-06T20:34:48.053Z"
   },
   {
    "duration": 8,
    "start_time": "2022-02-06T20:34:48.821Z"
   },
   {
    "duration": 109,
    "start_time": "2022-02-06T20:34:48.832Z"
   },
   {
    "duration": 11,
    "start_time": "2022-02-06T20:34:48.944Z"
   },
   {
    "duration": 13,
    "start_time": "2022-02-06T20:34:48.969Z"
   },
   {
    "duration": 6,
    "start_time": "2022-02-06T20:39:37.242Z"
   },
   {
    "duration": 8,
    "start_time": "2022-02-06T20:39:40.290Z"
   },
   {
    "duration": 3,
    "start_time": "2022-02-06T20:39:41.946Z"
   },
   {
    "duration": 51,
    "start_time": "2022-02-06T20:39:43.337Z"
   },
   {
    "duration": 457,
    "start_time": "2022-02-06T20:39:43.991Z"
   },
   {
    "duration": 9,
    "start_time": "2022-02-06T20:39:47.625Z"
   },
   {
    "duration": 62,
    "start_time": "2022-02-06T20:39:48.080Z"
   },
   {
    "duration": 18,
    "start_time": "2022-02-06T20:39:49.045Z"
   },
   {
    "duration": 12,
    "start_time": "2022-02-06T20:39:49.832Z"
   },
   {
    "duration": 5,
    "start_time": "2022-02-06T20:40:13.737Z"
   },
   {
    "duration": 9,
    "start_time": "2022-02-06T20:40:14.409Z"
   },
   {
    "duration": 4,
    "start_time": "2022-02-06T20:40:15.392Z"
   },
   {
    "duration": 50,
    "start_time": "2022-02-06T20:40:16.173Z"
   },
   {
    "duration": 458,
    "start_time": "2022-02-06T20:40:16.737Z"
   },
   {
    "duration": 7,
    "start_time": "2022-02-06T20:40:19.216Z"
   },
   {
    "duration": 60,
    "start_time": "2022-02-06T20:40:19.661Z"
   },
   {
    "duration": 11,
    "start_time": "2022-02-06T20:40:20.729Z"
   },
   {
    "duration": 13,
    "start_time": "2022-02-06T20:40:21.296Z"
   },
   {
    "duration": 8,
    "start_time": "2022-02-06T20:40:44.432Z"
   },
   {
    "duration": 9,
    "start_time": "2022-02-06T20:40:44.991Z"
   },
   {
    "duration": 5,
    "start_time": "2022-02-06T20:40:46.040Z"
   },
   {
    "duration": 52,
    "start_time": "2022-02-06T20:40:46.888Z"
   },
   {
    "duration": 438,
    "start_time": "2022-02-06T20:40:47.320Z"
   },
   {
    "duration": 7,
    "start_time": "2022-02-06T20:40:49.785Z"
   },
   {
    "duration": 61,
    "start_time": "2022-02-06T20:40:50.145Z"
   },
   {
    "duration": 16,
    "start_time": "2022-02-06T20:40:51.137Z"
   },
   {
    "duration": 14,
    "start_time": "2022-02-06T20:40:51.864Z"
   },
   {
    "duration": 8,
    "start_time": "2022-02-06T21:54:00.205Z"
   },
   {
    "duration": 6,
    "start_time": "2022-02-06T21:58:01.615Z"
   },
   {
    "duration": 6,
    "start_time": "2022-02-06T22:00:37.225Z"
   },
   {
    "duration": 23,
    "start_time": "2022-02-06T22:04:05.011Z"
   },
   {
    "duration": 9,
    "start_time": "2022-02-06T22:06:17.550Z"
   },
   {
    "duration": 790,
    "start_time": "2022-02-06T22:07:50.717Z"
   },
   {
    "duration": 150018,
    "start_time": "2022-02-06T22:09:05.987Z"
   },
   {
    "duration": 4,
    "start_time": "2022-02-06T22:22:05.750Z"
   },
   {
    "duration": 2004,
    "start_time": "2022-02-06T22:23:37.478Z"
   },
   {
    "duration": 19,
    "start_time": "2022-02-06T22:27:16.732Z"
   },
   {
    "duration": 5,
    "start_time": "2022-02-06T22:27:40.647Z"
   },
   {
    "duration": 27,
    "start_time": "2022-02-06T22:29:53.187Z"
   },
   {
    "duration": 8,
    "start_time": "2022-02-06T22:30:19.909Z"
   },
   {
    "duration": 25,
    "start_time": "2022-02-06T22:30:51.811Z"
   },
   {
    "duration": 5,
    "start_time": "2022-02-06T23:34:19.970Z"
   },
   {
    "duration": 9,
    "start_time": "2022-02-06T23:34:27.642Z"
   },
   {
    "duration": 4,
    "start_time": "2022-02-06T23:34:39.098Z"
   },
   {
    "duration": 1845,
    "start_time": "2022-02-06T23:34:41.226Z"
   },
   {
    "duration": 5,
    "start_time": "2022-02-06T23:35:19.882Z"
   },
   {
    "duration": 10,
    "start_time": "2022-02-06T23:35:28.033Z"
   },
   {
    "duration": 27,
    "start_time": "2022-02-06T23:35:49.914Z"
   },
   {
    "duration": 1542,
    "start_time": "2022-02-06T23:37:54.395Z"
   },
   {
    "duration": 26,
    "start_time": "2022-02-06T23:37:55.940Z"
   },
   {
    "duration": 24,
    "start_time": "2022-02-06T23:37:55.970Z"
   },
   {
    "duration": 11,
    "start_time": "2022-02-06T23:37:55.997Z"
   },
   {
    "duration": 103,
    "start_time": "2022-02-06T23:37:56.010Z"
   },
   {
    "duration": 6,
    "start_time": "2022-02-06T23:37:56.115Z"
   },
   {
    "duration": 7,
    "start_time": "2022-02-06T23:37:56.123Z"
   },
   {
    "duration": 44,
    "start_time": "2022-02-06T23:37:56.134Z"
   },
   {
    "duration": 7,
    "start_time": "2022-02-06T23:37:56.182Z"
   },
   {
    "duration": 14,
    "start_time": "2022-02-06T23:37:56.191Z"
   },
   {
    "duration": 75,
    "start_time": "2022-02-06T23:37:56.208Z"
   },
   {
    "duration": 24,
    "start_time": "2022-02-06T23:37:56.286Z"
   },
   {
    "duration": 4,
    "start_time": "2022-02-06T23:37:56.313Z"
   },
   {
    "duration": 11,
    "start_time": "2022-02-06T23:37:56.319Z"
   },
   {
    "duration": 37,
    "start_time": "2022-02-06T23:37:56.332Z"
   },
   {
    "duration": 755,
    "start_time": "2022-02-06T23:37:56.372Z"
   },
   {
    "duration": 762,
    "start_time": "2022-02-06T23:37:57.130Z"
   },
   {
    "duration": 768,
    "start_time": "2022-02-06T23:37:57.894Z"
   },
   {
    "duration": 19,
    "start_time": "2022-02-06T23:37:58.664Z"
   },
   {
    "duration": 446,
    "start_time": "2022-02-06T23:37:58.686Z"
   },
   {
    "duration": 35,
    "start_time": "2022-02-06T23:37:59.135Z"
   },
   {
    "duration": 1842,
    "start_time": "2022-02-06T23:37:59.173Z"
   },
   {
    "duration": 14,
    "start_time": "2022-02-06T23:38:01.023Z"
   },
   {
    "duration": 32,
    "start_time": "2022-02-06T23:38:01.041Z"
   },
   {
    "duration": 16,
    "start_time": "2022-02-06T23:38:01.076Z"
   },
   {
    "duration": 13,
    "start_time": "2022-02-06T23:38:01.095Z"
   },
   {
    "duration": 19,
    "start_time": "2022-02-06T23:38:01.110Z"
   },
   {
    "duration": 16,
    "start_time": "2022-02-06T23:38:01.131Z"
   },
   {
    "duration": 61,
    "start_time": "2022-02-06T23:38:01.150Z"
   },
   {
    "duration": 444,
    "start_time": "2022-02-06T23:38:01.213Z"
   },
   {
    "duration": 10,
    "start_time": "2022-02-06T23:38:01.659Z"
   },
   {
    "duration": 63,
    "start_time": "2022-02-06T23:38:01.672Z"
   },
   {
    "duration": 32,
    "start_time": "2022-02-06T23:38:01.737Z"
   },
   {
    "duration": 14,
    "start_time": "2022-02-06T23:38:01.771Z"
   },
   {
    "duration": 8,
    "start_time": "2022-02-06T23:38:01.787Z"
   },
   {
    "duration": 947,
    "start_time": "2022-02-06T23:38:01.797Z"
   },
   {
    "duration": 3,
    "start_time": "2022-02-06T23:38:02.747Z"
   },
   {
    "duration": 17,
    "start_time": "2022-02-06T23:38:02.752Z"
   },
   {
    "duration": 1901,
    "start_time": "2022-02-06T23:38:02.771Z"
   },
   {
    "duration": 4,
    "start_time": "2022-02-06T23:38:04.675Z"
   },
   {
    "duration": 11,
    "start_time": "2022-02-06T23:38:04.681Z"
   },
   {
    "duration": 25,
    "start_time": "2022-02-06T23:38:04.695Z"
   },
   {
    "duration": 16,
    "start_time": "2022-02-06T23:46:43.478Z"
   },
   {
    "duration": 10,
    "start_time": "2022-02-06T23:46:52.333Z"
   },
   {
    "duration": 478,
    "start_time": "2022-02-06T23:53:01.203Z"
   },
   {
    "duration": 898,
    "start_time": "2022-02-06T23:53:36.756Z"
   },
   {
    "duration": 1161,
    "start_time": "2022-02-06T23:54:15.315Z"
   },
   {
    "duration": 16,
    "start_time": "2022-02-06T23:54:35.147Z"
   },
   {
    "duration": 857,
    "start_time": "2022-02-06T23:55:01.011Z"
   },
   {
    "duration": 951,
    "start_time": "2022-02-06T23:55:52.107Z"
   },
   {
    "duration": 267,
    "start_time": "2022-02-06T23:56:09.922Z"
   },
   {
    "duration": 261,
    "start_time": "2022-02-06T23:56:23.698Z"
   },
   {
    "duration": 658,
    "start_time": "2022-02-06T23:56:35.641Z"
   },
   {
    "duration": 516,
    "start_time": "2022-02-06T23:56:41.545Z"
   },
   {
    "duration": 784,
    "start_time": "2022-02-06T23:57:23.601Z"
   },
   {
    "duration": 475,
    "start_time": "2022-02-06T23:57:33.002Z"
   },
   {
    "duration": 602,
    "start_time": "2022-02-06T23:57:57.832Z"
   },
   {
    "duration": 807,
    "start_time": "2022-02-06T23:58:29.034Z"
   },
   {
    "duration": 610,
    "start_time": "2022-02-06T23:58:39.152Z"
   },
   {
    "duration": 1041,
    "start_time": "2022-02-07T00:02:30.256Z"
   },
   {
    "duration": 1011,
    "start_time": "2022-02-07T00:03:29.630Z"
   },
   {
    "duration": 913,
    "start_time": "2022-02-07T00:03:48.006Z"
   },
   {
    "duration": 286,
    "start_time": "2022-02-07T00:04:19.221Z"
   },
   {
    "duration": 910,
    "start_time": "2022-02-07T00:04:29.590Z"
   },
   {
    "duration": 314,
    "start_time": "2022-02-07T00:04:35.248Z"
   },
   {
    "duration": 1054,
    "start_time": "2022-02-07T00:04:46.415Z"
   },
   {
    "duration": 928,
    "start_time": "2022-02-07T00:04:53.389Z"
   },
   {
    "duration": 915,
    "start_time": "2022-02-07T00:04:58.484Z"
   },
   {
    "duration": 932,
    "start_time": "2022-02-07T00:05:07.021Z"
   },
   {
    "duration": 944,
    "start_time": "2022-02-07T00:05:17.981Z"
   },
   {
    "duration": 31983,
    "start_time": "2022-02-07T00:06:27.862Z"
   },
   {
    "duration": 31590,
    "start_time": "2022-02-07T00:06:59.848Z"
   },
   {
    "duration": 73141,
    "start_time": "2022-02-07T00:07:31.441Z"
   },
   {
    "duration": 965,
    "start_time": "2022-02-07T00:09:05.262Z"
   },
   {
    "duration": 996,
    "start_time": "2022-02-07T00:09:24.715Z"
   },
   {
    "duration": 1051,
    "start_time": "2022-02-07T00:09:30.691Z"
   },
   {
    "duration": 1094,
    "start_time": "2022-02-07T00:10:26.330Z"
   },
   {
    "duration": 1761,
    "start_time": "2022-02-07T00:10:43.890Z"
   },
   {
    "duration": 1080,
    "start_time": "2022-02-07T00:10:56.594Z"
   },
   {
    "duration": 1195,
    "start_time": "2022-02-07T00:11:18.547Z"
   },
   {
    "duration": 1120,
    "start_time": "2022-02-07T00:11:29.050Z"
   },
   {
    "duration": 295,
    "start_time": "2022-02-07T00:12:04.506Z"
   },
   {
    "duration": 327,
    "start_time": "2022-02-07T00:12:26.667Z"
   },
   {
    "duration": 1183,
    "start_time": "2022-02-07T00:12:35.666Z"
   },
   {
    "duration": 1091,
    "start_time": "2022-02-07T00:12:46.761Z"
   },
   {
    "duration": 285,
    "start_time": "2022-02-07T00:12:53.952Z"
   },
   {
    "duration": 304,
    "start_time": "2022-02-07T00:13:09.010Z"
   },
   {
    "duration": 1087,
    "start_time": "2022-02-07T00:13:12.514Z"
   },
   {
    "duration": 273,
    "start_time": "2022-02-07T00:13:16.928Z"
   },
   {
    "duration": 1275,
    "start_time": "2022-02-07T00:13:39.381Z"
   },
   {
    "duration": 271,
    "start_time": "2022-02-07T00:13:43.936Z"
   },
   {
    "duration": 1094,
    "start_time": "2022-02-07T00:14:01.017Z"
   },
   {
    "duration": 314,
    "start_time": "2022-02-07T00:14:05.320Z"
   },
   {
    "duration": 1095,
    "start_time": "2022-02-07T00:14:12.650Z"
   },
   {
    "duration": 289,
    "start_time": "2022-02-07T00:14:16.145Z"
   },
   {
    "duration": 1090,
    "start_time": "2022-02-07T00:14:41.953Z"
   },
   {
    "duration": 627,
    "start_time": "2022-02-07T00:14:49.957Z"
   },
   {
    "duration": 1134,
    "start_time": "2022-02-07T00:14:59.345Z"
   },
   {
    "duration": 277,
    "start_time": "2022-02-07T00:15:05.654Z"
   },
   {
    "duration": 1069,
    "start_time": "2022-02-07T00:15:22.592Z"
   },
   {
    "duration": 301,
    "start_time": "2022-02-07T00:15:29.799Z"
   },
   {
    "duration": 1087,
    "start_time": "2022-02-07T00:15:43.344Z"
   },
   {
    "duration": 270,
    "start_time": "2022-02-07T00:15:50.681Z"
   },
   {
    "duration": 1258,
    "start_time": "2022-02-07T00:16:08.840Z"
   },
   {
    "duration": 276,
    "start_time": "2022-02-07T00:16:13.240Z"
   },
   {
    "duration": 1090,
    "start_time": "2022-02-07T00:16:45.208Z"
   },
   {
    "duration": 288,
    "start_time": "2022-02-07T00:16:50.607Z"
   },
   {
    "duration": 1177,
    "start_time": "2022-02-07T00:17:05.819Z"
   },
   {
    "duration": 299,
    "start_time": "2022-02-07T00:17:14.768Z"
   },
   {
    "duration": 1095,
    "start_time": "2022-02-07T00:17:37.945Z"
   },
   {
    "duration": 292,
    "start_time": "2022-02-07T00:17:41.496Z"
   },
   {
    "duration": 1191,
    "start_time": "2022-02-07T00:17:49.872Z"
   },
   {
    "duration": 377,
    "start_time": "2022-02-07T00:17:55.118Z"
   },
   {
    "duration": 1092,
    "start_time": "2022-02-07T00:18:08.607Z"
   },
   {
    "duration": 307,
    "start_time": "2022-02-07T00:18:12.143Z"
   },
   {
    "duration": 1074,
    "start_time": "2022-02-07T00:18:19.400Z"
   },
   {
    "duration": 313,
    "start_time": "2022-02-07T00:18:22.599Z"
   },
   {
    "duration": 1269,
    "start_time": "2022-02-07T00:18:36.184Z"
   },
   {
    "duration": 301,
    "start_time": "2022-02-07T00:18:39.446Z"
   },
   {
    "duration": 1139,
    "start_time": "2022-02-07T00:18:44.439Z"
   },
   {
    "duration": 285,
    "start_time": "2022-02-07T00:18:47.887Z"
   },
   {
    "duration": 1089,
    "start_time": "2022-02-07T00:18:54.983Z"
   },
   {
    "duration": 275,
    "start_time": "2022-02-07T00:18:58.343Z"
   },
   {
    "duration": 1097,
    "start_time": "2022-02-07T00:19:07.903Z"
   },
   {
    "duration": 283,
    "start_time": "2022-02-07T00:19:12.533Z"
   },
   {
    "duration": 1085,
    "start_time": "2022-02-07T00:19:21.695Z"
   },
   {
    "duration": 294,
    "start_time": "2022-02-07T00:19:24.726Z"
   },
   {
    "duration": 1077,
    "start_time": "2022-02-07T00:19:31.431Z"
   },
   {
    "duration": 627,
    "start_time": "2022-02-07T00:19:34.854Z"
   },
   {
    "duration": 1197,
    "start_time": "2022-02-07T00:19:40.655Z"
   },
   {
    "duration": 293,
    "start_time": "2022-02-07T00:19:44.903Z"
   },
   {
    "duration": 1197,
    "start_time": "2022-02-07T00:19:52.526Z"
   },
   {
    "duration": 301,
    "start_time": "2022-02-07T00:20:02.054Z"
   },
   {
    "duration": 1105,
    "start_time": "2022-02-07T00:20:14.134Z"
   },
   {
    "duration": 1086,
    "start_time": "2022-02-07T00:20:34.221Z"
   },
   {
    "duration": 1097,
    "start_time": "2022-02-07T00:20:38.741Z"
   },
   {
    "duration": 296,
    "start_time": "2022-02-07T00:20:48.502Z"
   },
   {
    "duration": 1150,
    "start_time": "2022-02-07T00:21:02.878Z"
   },
   {
    "duration": 263,
    "start_time": "2022-02-07T00:21:07.718Z"
   },
   {
    "duration": 1103,
    "start_time": "2022-02-07T00:21:12.991Z"
   },
   {
    "duration": 293,
    "start_time": "2022-02-07T00:21:16.268Z"
   },
   {
    "duration": 1096,
    "start_time": "2022-02-07T00:21:21.886Z"
   },
   {
    "duration": 285,
    "start_time": "2022-02-07T00:21:25.045Z"
   },
   {
    "duration": 1295,
    "start_time": "2022-02-07T00:21:30.062Z"
   },
   {
    "duration": 287,
    "start_time": "2022-02-07T00:21:34.756Z"
   },
   {
    "duration": 1107,
    "start_time": "2022-02-07T00:21:38.926Z"
   },
   {
    "duration": 288,
    "start_time": "2022-02-07T00:21:43.061Z"
   },
   {
    "duration": 1114,
    "start_time": "2022-02-07T00:21:52.806Z"
   },
   {
    "duration": 1097,
    "start_time": "2022-02-07T00:21:57.148Z"
   },
   {
    "duration": 1277,
    "start_time": "2022-02-07T00:22:04.621Z"
   },
   {
    "duration": 1097,
    "start_time": "2022-02-07T00:22:11.732Z"
   },
   {
    "duration": 1083,
    "start_time": "2022-02-07T00:22:17.053Z"
   },
   {
    "duration": 1194,
    "start_time": "2022-02-07T00:22:21.012Z"
   },
   {
    "duration": 1082,
    "start_time": "2022-02-07T00:22:25.956Z"
   },
   {
    "duration": 1166,
    "start_time": "2022-02-07T00:22:35.980Z"
   },
   {
    "duration": 1065,
    "start_time": "2022-02-07T00:22:40.371Z"
   },
   {
    "duration": 1143,
    "start_time": "2022-02-07T00:22:44.076Z"
   },
   {
    "duration": 1113,
    "start_time": "2022-02-07T00:22:48.756Z"
   },
   {
    "duration": 1115,
    "start_time": "2022-02-07T00:25:47.307Z"
   },
   {
    "duration": 1076,
    "start_time": "2022-02-07T00:25:52.771Z"
   },
   {
    "duration": 1237,
    "start_time": "2022-02-07T00:27:36.562Z"
   },
   {
    "duration": 1190,
    "start_time": "2022-02-07T00:28:33.218Z"
   },
   {
    "duration": 1090,
    "start_time": "2022-02-07T00:28:36.201Z"
   },
   {
    "duration": 3,
    "start_time": "2022-02-07T00:37:48.141Z"
   },
   {
    "duration": 24,
    "start_time": "2022-02-07T00:37:49.459Z"
   },
   {
    "duration": 3,
    "start_time": "2022-02-07T00:37:55.677Z"
   },
   {
    "duration": 24,
    "start_time": "2022-02-07T00:37:56.228Z"
   },
   {
    "duration": 4,
    "start_time": "2022-02-07T00:38:04.869Z"
   },
   {
    "duration": 28,
    "start_time": "2022-02-07T00:38:05.725Z"
   },
   {
    "duration": 4,
    "start_time": "2022-02-07T00:42:26.362Z"
   },
   {
    "duration": 24,
    "start_time": "2022-02-07T00:42:27.379Z"
   },
   {
    "duration": 4,
    "start_time": "2022-02-07T00:42:32.250Z"
   },
   {
    "duration": 23,
    "start_time": "2022-02-07T00:42:32.828Z"
   },
   {
    "duration": 3,
    "start_time": "2022-02-07T00:42:39.796Z"
   },
   {
    "duration": 24,
    "start_time": "2022-02-07T00:42:40.298Z"
   },
   {
    "duration": 4,
    "start_time": "2022-02-07T00:43:02.402Z"
   },
   {
    "duration": 24,
    "start_time": "2022-02-07T00:43:02.962Z"
   },
   {
    "duration": 3,
    "start_time": "2022-02-07T00:43:12.027Z"
   },
   {
    "duration": 23,
    "start_time": "2022-02-07T00:43:12.658Z"
   },
   {
    "duration": 4,
    "start_time": "2022-02-07T00:43:25.074Z"
   },
   {
    "duration": 25,
    "start_time": "2022-02-07T00:43:25.754Z"
   },
   {
    "duration": 4,
    "start_time": "2022-02-07T00:43:30.858Z"
   },
   {
    "duration": 23,
    "start_time": "2022-02-07T00:43:31.290Z"
   },
   {
    "duration": 4,
    "start_time": "2022-02-07T00:43:39.601Z"
   },
   {
    "duration": 24,
    "start_time": "2022-02-07T00:43:40.002Z"
   },
   {
    "duration": 4,
    "start_time": "2022-02-07T00:43:45.025Z"
   },
   {
    "duration": 23,
    "start_time": "2022-02-07T00:43:45.402Z"
   },
   {
    "duration": 4,
    "start_time": "2022-02-07T00:47:13.848Z"
   },
   {
    "duration": 24,
    "start_time": "2022-02-07T00:47:14.215Z"
   },
   {
    "duration": 4,
    "start_time": "2022-02-07T00:47:29.016Z"
   },
   {
    "duration": 33,
    "start_time": "2022-02-07T00:47:29.494Z"
   },
   {
    "duration": 4,
    "start_time": "2022-02-07T00:47:33.152Z"
   },
   {
    "duration": 24,
    "start_time": "2022-02-07T00:47:33.568Z"
   },
   {
    "duration": 4,
    "start_time": "2022-02-07T00:47:40.039Z"
   },
   {
    "duration": 24,
    "start_time": "2022-02-07T00:47:40.504Z"
   },
   {
    "duration": 3,
    "start_time": "2022-02-07T00:49:42.439Z"
   },
   {
    "duration": 24,
    "start_time": "2022-02-07T00:49:42.871Z"
   },
   {
    "duration": 4,
    "start_time": "2022-02-07T00:49:47.128Z"
   },
   {
    "duration": 23,
    "start_time": "2022-02-07T00:49:47.622Z"
   },
   {
    "duration": 3,
    "start_time": "2022-02-07T00:49:54.055Z"
   },
   {
    "duration": 23,
    "start_time": "2022-02-07T00:49:54.495Z"
   },
   {
    "duration": 248,
    "start_time": "2022-02-07T00:51:10.278Z"
   },
   {
    "duration": 22,
    "start_time": "2022-02-07T00:51:10.678Z"
   },
   {
    "duration": 252,
    "start_time": "2022-02-07T00:51:32.758Z"
   },
   {
    "duration": 268,
    "start_time": "2022-02-07T00:51:41.270Z"
   },
   {
    "duration": 264,
    "start_time": "2022-02-07T00:51:53.549Z"
   },
   {
    "duration": 4,
    "start_time": "2022-02-07T00:52:10.605Z"
   },
   {
    "duration": 18,
    "start_time": "2022-02-07T00:52:11.445Z"
   },
   {
    "duration": 4,
    "start_time": "2022-02-07T00:52:18.221Z"
   },
   {
    "duration": 24,
    "start_time": "2022-02-07T00:52:19.173Z"
   },
   {
    "duration": 4,
    "start_time": "2022-02-07T00:52:25.005Z"
   },
   {
    "duration": 21,
    "start_time": "2022-02-07T00:52:25.470Z"
   },
   {
    "duration": 4,
    "start_time": "2022-02-07T00:52:29.756Z"
   },
   {
    "duration": 23,
    "start_time": "2022-02-07T00:52:30.253Z"
   },
   {
    "duration": 4,
    "start_time": "2022-02-07T00:53:22.717Z"
   },
   {
    "duration": 24,
    "start_time": "2022-02-07T00:53:24.004Z"
   },
   {
    "duration": 4,
    "start_time": "2022-02-07T00:53:29.301Z"
   },
   {
    "duration": 24,
    "start_time": "2022-02-07T00:53:29.805Z"
   },
   {
    "duration": 4,
    "start_time": "2022-02-07T00:53:39.844Z"
   },
   {
    "duration": 24,
    "start_time": "2022-02-07T00:53:40.421Z"
   },
   {
    "duration": 255,
    "start_time": "2022-02-07T00:59:28.154Z"
   },
   {
    "duration": 28,
    "start_time": "2022-02-07T00:59:33.675Z"
   },
   {
    "duration": 6,
    "start_time": "2022-02-07T00:59:52.155Z"
   },
   {
    "duration": 17,
    "start_time": "2022-02-07T00:59:57.675Z"
   },
   {
    "duration": 25,
    "start_time": "2022-02-07T01:00:37.915Z"
   },
   {
    "duration": 6,
    "start_time": "2022-02-07T01:02:23.345Z"
   },
   {
    "duration": 6755,
    "start_time": "2022-02-07T01:02:24.681Z"
   },
   {
    "duration": -61,
    "start_time": "2022-02-07T01:02:31.499Z"
   },
   {
    "duration": 7,
    "start_time": "2022-02-07T01:03:02.850Z"
   },
   {
    "duration": 17,
    "start_time": "2022-02-07T01:03:05.273Z"
   },
   {
    "duration": 1637,
    "start_time": "2022-02-07T01:03:14.944Z"
   },
   {
    "duration": 25,
    "start_time": "2022-02-07T01:03:16.584Z"
   },
   {
    "duration": 23,
    "start_time": "2022-02-07T01:03:16.611Z"
   },
   {
    "duration": 13,
    "start_time": "2022-02-07T01:03:16.637Z"
   },
   {
    "duration": 81,
    "start_time": "2022-02-07T01:03:16.652Z"
   },
   {
    "duration": 5,
    "start_time": "2022-02-07T01:03:16.735Z"
   },
   {
    "duration": 26,
    "start_time": "2022-02-07T01:03:16.743Z"
   },
   {
    "duration": 21,
    "start_time": "2022-02-07T01:03:16.773Z"
   },
   {
    "duration": 23,
    "start_time": "2022-02-07T01:03:16.797Z"
   },
   {
    "duration": 13,
    "start_time": "2022-02-07T01:03:16.822Z"
   },
   {
    "duration": 19,
    "start_time": "2022-02-07T01:03:16.837Z"
   },
   {
    "duration": 45,
    "start_time": "2022-02-07T01:03:16.859Z"
   },
   {
    "duration": 24,
    "start_time": "2022-02-07T01:03:16.907Z"
   },
   {
    "duration": 13,
    "start_time": "2022-02-07T01:03:16.933Z"
   },
   {
    "duration": 7,
    "start_time": "2022-02-07T01:03:16.969Z"
   },
   {
    "duration": 8,
    "start_time": "2022-02-07T01:03:16.979Z"
   },
   {
    "duration": 654,
    "start_time": "2022-02-07T01:03:16.989Z"
   },
   {
    "duration": 6570,
    "start_time": "2022-02-07T01:03:17.646Z"
   },
   {
    "duration": -33,
    "start_time": "2022-02-07T01:03:24.253Z"
   },
   {
    "duration": -35,
    "start_time": "2022-02-07T01:03:24.257Z"
   },
   {
    "duration": -36,
    "start_time": "2022-02-07T01:03:24.259Z"
   },
   {
    "duration": -38,
    "start_time": "2022-02-07T01:03:24.263Z"
   },
   {
    "duration": -39,
    "start_time": "2022-02-07T01:03:24.265Z"
   },
   {
    "duration": -41,
    "start_time": "2022-02-07T01:03:24.268Z"
   },
   {
    "duration": -66,
    "start_time": "2022-02-07T01:03:24.295Z"
   },
   {
    "duration": -69,
    "start_time": "2022-02-07T01:03:24.299Z"
   },
   {
    "duration": -71,
    "start_time": "2022-02-07T01:03:24.302Z"
   },
   {
    "duration": -72,
    "start_time": "2022-02-07T01:03:24.305Z"
   },
   {
    "duration": -75,
    "start_time": "2022-02-07T01:03:24.309Z"
   },
   {
    "duration": -109,
    "start_time": "2022-02-07T01:03:24.344Z"
   },
   {
    "duration": -110,
    "start_time": "2022-02-07T01:03:24.347Z"
   },
   {
    "duration": -111,
    "start_time": "2022-02-07T01:03:24.349Z"
   },
   {
    "duration": -114,
    "start_time": "2022-02-07T01:03:24.353Z"
   },
   {
    "duration": -115,
    "start_time": "2022-02-07T01:03:24.356Z"
   },
   {
    "duration": -118,
    "start_time": "2022-02-07T01:03:24.360Z"
   },
   {
    "duration": -125,
    "start_time": "2022-02-07T01:03:24.369Z"
   },
   {
    "duration": -127,
    "start_time": "2022-02-07T01:03:24.372Z"
   },
   {
    "duration": -128,
    "start_time": "2022-02-07T01:03:24.374Z"
   },
   {
    "duration": -137,
    "start_time": "2022-02-07T01:03:24.384Z"
   },
   {
    "duration": -138,
    "start_time": "2022-02-07T01:03:24.387Z"
   },
   {
    "duration": -139,
    "start_time": "2022-02-07T01:03:24.389Z"
   },
   {
    "duration": -140,
    "start_time": "2022-02-07T01:03:24.392Z"
   },
   {
    "duration": -148,
    "start_time": "2022-02-07T01:03:24.401Z"
   },
   {
    "duration": -150,
    "start_time": "2022-02-07T01:03:24.404Z"
   },
   {
    "duration": -145,
    "start_time": "2022-02-07T01:03:24.415Z"
   },
   {
    "duration": -147,
    "start_time": "2022-02-07T01:03:24.418Z"
   },
   {
    "duration": -148,
    "start_time": "2022-02-07T01:03:24.421Z"
   },
   {
    "duration": -150,
    "start_time": "2022-02-07T01:03:24.424Z"
   },
   {
    "duration": 642,
    "start_time": "2022-02-07T01:03:59.776Z"
   },
   {
    "duration": 18,
    "start_time": "2022-02-07T01:04:10.023Z"
   },
   {
    "duration": 815,
    "start_time": "2022-02-07T01:04:20.662Z"
   },
   {
    "duration": 18,
    "start_time": "2022-02-07T01:04:54.758Z"
   },
   {
    "duration": 18,
    "start_time": "2022-02-07T01:05:23.877Z"
   },
   {
    "duration": 1527,
    "start_time": "2022-02-07T01:05:47.401Z"
   },
   {
    "duration": 25,
    "start_time": "2022-02-07T01:05:48.930Z"
   },
   {
    "duration": 27,
    "start_time": "2022-02-07T01:05:48.958Z"
   },
   {
    "duration": 10,
    "start_time": "2022-02-07T01:05:48.988Z"
   },
   {
    "duration": 117,
    "start_time": "2022-02-07T01:05:49.001Z"
   },
   {
    "duration": 5,
    "start_time": "2022-02-07T01:05:49.121Z"
   },
   {
    "duration": 16,
    "start_time": "2022-02-07T01:05:49.129Z"
   },
   {
    "duration": 21,
    "start_time": "2022-02-07T01:05:49.148Z"
   },
   {
    "duration": 18,
    "start_time": "2022-02-07T01:05:49.172Z"
   },
   {
    "duration": 9,
    "start_time": "2022-02-07T01:05:49.192Z"
   },
   {
    "duration": 13,
    "start_time": "2022-02-07T01:05:49.204Z"
   },
   {
    "duration": 72,
    "start_time": "2022-02-07T01:05:49.220Z"
   },
   {
    "duration": 23,
    "start_time": "2022-02-07T01:05:49.295Z"
   },
   {
    "duration": 4,
    "start_time": "2022-02-07T01:05:49.320Z"
   },
   {
    "duration": 10,
    "start_time": "2022-02-07T01:05:49.326Z"
   },
   {
    "duration": 33,
    "start_time": "2022-02-07T01:05:49.339Z"
   },
   {
    "duration": 646,
    "start_time": "2022-02-07T01:05:49.375Z"
   },
   {
    "duration": 638,
    "start_time": "2022-02-07T01:05:50.023Z"
   },
   {
    "duration": 774,
    "start_time": "2022-02-07T01:05:50.663Z"
   },
   {
    "duration": 36,
    "start_time": "2022-02-07T01:05:51.439Z"
   },
   {
    "duration": 407,
    "start_time": "2022-02-07T01:05:51.477Z"
   },
   {
    "duration": 21,
    "start_time": "2022-02-07T01:05:51.887Z"
   },
   {
    "duration": 1851,
    "start_time": "2022-02-07T01:05:51.913Z"
   },
   {
    "duration": 6965,
    "start_time": "2022-02-07T01:05:53.771Z"
   },
   {
    "duration": -43,
    "start_time": "2022-02-07T01:06:00.782Z"
   },
   {
    "duration": -45,
    "start_time": "2022-02-07T01:06:00.785Z"
   },
   {
    "duration": -47,
    "start_time": "2022-02-07T01:06:00.789Z"
   },
   {
    "duration": -49,
    "start_time": "2022-02-07T01:06:00.792Z"
   },
   {
    "duration": -52,
    "start_time": "2022-02-07T01:06:00.796Z"
   },
   {
    "duration": -53,
    "start_time": "2022-02-07T01:06:00.799Z"
   },
   {
    "duration": -54,
    "start_time": "2022-02-07T01:06:00.802Z"
   },
   {
    "duration": -56,
    "start_time": "2022-02-07T01:06:00.805Z"
   },
   {
    "duration": -58,
    "start_time": "2022-02-07T01:06:00.808Z"
   },
   {
    "duration": -60,
    "start_time": "2022-02-07T01:06:00.811Z"
   },
   {
    "duration": -62,
    "start_time": "2022-02-07T01:06:00.815Z"
   },
   {
    "duration": -64,
    "start_time": "2022-02-07T01:06:00.818Z"
   },
   {
    "duration": -66,
    "start_time": "2022-02-07T01:06:00.821Z"
   },
   {
    "duration": -68,
    "start_time": "2022-02-07T01:06:00.824Z"
   },
   {
    "duration": -77,
    "start_time": "2022-02-07T01:06:00.835Z"
   },
   {
    "duration": -79,
    "start_time": "2022-02-07T01:06:00.838Z"
   },
   {
    "duration": -81,
    "start_time": "2022-02-07T01:06:00.841Z"
   },
   {
    "duration": -82,
    "start_time": "2022-02-07T01:06:00.843Z"
   },
   {
    "duration": -92,
    "start_time": "2022-02-07T01:06:00.855Z"
   },
   {
    "duration": -100,
    "start_time": "2022-02-07T01:06:00.864Z"
   },
   {
    "duration": -104,
    "start_time": "2022-02-07T01:06:00.869Z"
   },
   {
    "duration": -114,
    "start_time": "2022-02-07T01:06:00.880Z"
   },
   {
    "duration": -115,
    "start_time": "2022-02-07T01:06:00.883Z"
   },
   {
    "duration": -119,
    "start_time": "2022-02-07T01:06:00.888Z"
   },
   {
    "duration": 15,
    "start_time": "2022-02-07T01:06:13.083Z"
   },
   {
    "duration": 1657,
    "start_time": "2022-02-07T01:06:29.502Z"
   },
   {
    "duration": 25,
    "start_time": "2022-02-07T01:06:31.162Z"
   },
   {
    "duration": 24,
    "start_time": "2022-02-07T01:06:31.191Z"
   },
   {
    "duration": 11,
    "start_time": "2022-02-07T01:06:31.218Z"
   },
   {
    "duration": 98,
    "start_time": "2022-02-07T01:06:31.232Z"
   },
   {
    "duration": 6,
    "start_time": "2022-02-07T01:06:31.333Z"
   },
   {
    "duration": 30,
    "start_time": "2022-02-07T01:06:31.341Z"
   },
   {
    "duration": 13,
    "start_time": "2022-02-07T01:06:31.375Z"
   },
   {
    "duration": 20,
    "start_time": "2022-02-07T01:06:31.391Z"
   },
   {
    "duration": 12,
    "start_time": "2022-02-07T01:06:31.413Z"
   },
   {
    "duration": 13,
    "start_time": "2022-02-07T01:06:31.427Z"
   },
   {
    "duration": 61,
    "start_time": "2022-02-07T01:06:31.442Z"
   },
   {
    "duration": 25,
    "start_time": "2022-02-07T01:06:31.506Z"
   },
   {
    "duration": 4,
    "start_time": "2022-02-07T01:06:31.533Z"
   },
   {
    "duration": 36,
    "start_time": "2022-02-07T01:06:31.539Z"
   },
   {
    "duration": 8,
    "start_time": "2022-02-07T01:06:31.577Z"
   },
   {
    "duration": 662,
    "start_time": "2022-02-07T01:06:31.587Z"
   },
   {
    "duration": 650,
    "start_time": "2022-02-07T01:06:32.251Z"
   },
   {
    "duration": 757,
    "start_time": "2022-02-07T01:06:32.904Z"
   },
   {
    "duration": 16,
    "start_time": "2022-02-07T01:06:33.669Z"
   },
   {
    "duration": 442,
    "start_time": "2022-02-07T01:06:33.687Z"
   },
   {
    "duration": 21,
    "start_time": "2022-02-07T01:06:34.131Z"
   },
   {
    "duration": 1704,
    "start_time": "2022-02-07T01:06:34.169Z"
   },
   {
    "duration": 14,
    "start_time": "2022-02-07T01:06:35.875Z"
   },
   {
    "duration": 14,
    "start_time": "2022-02-07T01:06:35.892Z"
   },
   {
    "duration": 15,
    "start_time": "2022-02-07T01:06:35.908Z"
   },
   {
    "duration": 8,
    "start_time": "2022-02-07T01:06:35.926Z"
   },
   {
    "duration": 39,
    "start_time": "2022-02-07T01:06:35.936Z"
   },
   {
    "duration": 22,
    "start_time": "2022-02-07T01:06:35.977Z"
   },
   {
    "duration": 69,
    "start_time": "2022-02-07T01:06:36.001Z"
   },
   {
    "duration": 439,
    "start_time": "2022-02-07T01:06:36.072Z"
   },
   {
    "duration": 7,
    "start_time": "2022-02-07T01:06:36.514Z"
   },
   {
    "duration": 78,
    "start_time": "2022-02-07T01:06:36.523Z"
   },
   {
    "duration": 11,
    "start_time": "2022-02-07T01:06:36.604Z"
   },
   {
    "duration": 11,
    "start_time": "2022-02-07T01:06:36.617Z"
   },
   {
    "duration": 8,
    "start_time": "2022-02-07T01:06:36.631Z"
   },
   {
    "duration": 802,
    "start_time": "2022-02-07T01:06:36.671Z"
   },
   {
    "duration": 3,
    "start_time": "2022-02-07T01:06:37.475Z"
   },
   {
    "duration": 6,
    "start_time": "2022-02-07T01:06:37.480Z"
   },
   {
    "duration": 1899,
    "start_time": "2022-02-07T01:06:37.489Z"
   },
   {
    "duration": 5,
    "start_time": "2022-02-07T01:06:39.391Z"
   },
   {
    "duration": 13,
    "start_time": "2022-02-07T01:06:39.398Z"
   },
   {
    "duration": 4,
    "start_time": "2022-02-07T01:06:39.413Z"
   },
   {
    "duration": 7,
    "start_time": "2022-02-07T01:06:39.419Z"
   },
   {
    "duration": 60,
    "start_time": "2022-02-07T01:06:39.428Z"
   },
   {
    "duration": 15,
    "start_time": "2022-02-07T01:06:39.490Z"
   },
   {
    "duration": 1061,
    "start_time": "2022-02-07T01:06:39.508Z"
   },
   {
    "duration": 1092,
    "start_time": "2022-02-07T01:06:40.571Z"
   },
   {
    "duration": 17,
    "start_time": "2022-02-07T01:10:45.135Z"
   },
   {
    "duration": 24,
    "start_time": "2022-02-07T01:11:17.400Z"
   },
   {
    "duration": 25,
    "start_time": "2022-02-07T01:11:43.607Z"
   },
   {
    "duration": 26,
    "start_time": "2022-02-07T01:15:33.165Z"
   },
   {
    "duration": 28,
    "start_time": "2022-02-07T01:18:08.155Z"
   },
   {
    "duration": 29,
    "start_time": "2022-02-07T01:18:32.499Z"
   },
   {
    "duration": 29,
    "start_time": "2022-02-07T01:18:37.491Z"
   },
   {
    "duration": 29,
    "start_time": "2022-02-07T01:18:41.874Z"
   },
   {
    "duration": 30,
    "start_time": "2022-02-07T01:18:45.019Z"
   },
   {
    "duration": 764,
    "start_time": "2022-02-07T01:22:29.513Z"
   },
   {
    "duration": 1006,
    "start_time": "2022-02-07T01:23:22.163Z"
   },
   {
    "duration": 681,
    "start_time": "2022-02-07T01:24:01.504Z"
   },
   {
    "duration": 620,
    "start_time": "2022-02-07T01:24:21.818Z"
   },
   {
    "duration": 781,
    "start_time": "2022-02-07T01:24:45.673Z"
   },
   {
    "duration": 9,
    "start_time": "2022-02-07T01:26:06.918Z"
   },
   {
    "duration": 8,
    "start_time": "2022-02-07T01:26:15.439Z"
   },
   {
    "duration": 954,
    "start_time": "2022-02-07T01:30:13.125Z"
   },
   {
    "duration": 1224,
    "start_time": "2022-02-07T01:31:22.957Z"
   },
   {
    "duration": 11,
    "start_time": "2022-02-07T01:33:14.371Z"
   },
   {
    "duration": 16,
    "start_time": "2022-02-07T01:33:20.644Z"
   },
   {
    "duration": 36,
    "start_time": "2022-02-07T01:33:52.492Z"
   },
   {
    "duration": 11,
    "start_time": "2022-02-07T01:34:34.060Z"
   },
   {
    "duration": 17,
    "start_time": "2022-02-07T01:34:39.443Z"
   },
   {
    "duration": 87,
    "start_time": "2022-02-07T01:34:45.252Z"
   },
   {
    "duration": 17,
    "start_time": "2022-02-07T01:35:00.603Z"
   },
   {
    "duration": 439,
    "start_time": "2022-02-07T01:35:35.300Z"
   },
   {
    "duration": 18,
    "start_time": "2022-02-07T01:37:37.538Z"
   },
   {
    "duration": 18,
    "start_time": "2022-02-07T01:37:56.442Z"
   },
   {
    "duration": 11,
    "start_time": "2022-02-07T01:40:10.505Z"
   },
   {
    "duration": 8,
    "start_time": "2022-02-07T01:40:30.545Z"
   },
   {
    "duration": 15,
    "start_time": "2022-02-07T01:40:36.296Z"
   },
   {
    "duration": 19,
    "start_time": "2022-02-07T01:42:14.472Z"
   },
   {
    "duration": 19,
    "start_time": "2022-02-07T01:42:28.072Z"
   },
   {
    "duration": 440,
    "start_time": "2022-02-07T01:43:54.903Z"
   },
   {
    "duration": 18,
    "start_time": "2022-02-07T01:44:14.015Z"
   },
   {
    "duration": 20,
    "start_time": "2022-02-07T01:44:42.815Z"
   },
   {
    "duration": 449,
    "start_time": "2022-02-07T01:45:02.677Z"
   },
   {
    "duration": 442,
    "start_time": "2022-02-07T01:45:13.893Z"
   },
   {
    "duration": 20,
    "start_time": "2022-02-07T01:46:07.719Z"
   },
   {
    "duration": 20,
    "start_time": "2022-02-07T01:46:20.862Z"
   },
   {
    "duration": 20,
    "start_time": "2022-02-07T01:46:46.949Z"
   },
   {
    "duration": 22,
    "start_time": "2022-02-07T01:46:59.421Z"
   },
   {
    "duration": 450,
    "start_time": "2022-02-07T01:47:40.572Z"
   },
   {
    "duration": 441,
    "start_time": "2022-02-07T01:49:23.085Z"
   },
   {
    "duration": 18,
    "start_time": "2022-02-07T01:58:04.016Z"
   },
   {
    "duration": 1074,
    "start_time": "2022-02-07T01:59:41.306Z"
   },
   {
    "duration": 336,
    "start_time": "2022-02-07T02:16:08.991Z"
   },
   {
    "duration": 341,
    "start_time": "2022-02-07T02:16:17.383Z"
   },
   {
    "duration": 452,
    "start_time": "2022-02-07T02:16:45.038Z"
   },
   {
    "duration": 9,
    "start_time": "2022-02-07T03:55:32.628Z"
   },
   {
    "duration": 1602,
    "start_time": "2022-02-07T06:26:50.346Z"
   },
   {
    "duration": 26,
    "start_time": "2022-02-07T06:26:51.951Z"
   },
   {
    "duration": 24,
    "start_time": "2022-02-07T06:26:51.980Z"
   },
   {
    "duration": 10,
    "start_time": "2022-02-07T06:26:52.007Z"
   },
   {
    "duration": 100,
    "start_time": "2022-02-07T06:26:52.019Z"
   },
   {
    "duration": 6,
    "start_time": "2022-02-07T06:26:52.122Z"
   },
   {
    "duration": 6,
    "start_time": "2022-02-07T06:26:52.130Z"
   },
   {
    "duration": 30,
    "start_time": "2022-02-07T06:26:52.139Z"
   },
   {
    "duration": 18,
    "start_time": "2022-02-07T06:26:52.173Z"
   },
   {
    "duration": 8,
    "start_time": "2022-02-07T06:26:52.195Z"
   },
   {
    "duration": 12,
    "start_time": "2022-02-07T06:26:52.206Z"
   },
   {
    "duration": 76,
    "start_time": "2022-02-07T06:26:52.221Z"
   },
   {
    "duration": 25,
    "start_time": "2022-02-07T06:26:52.300Z"
   },
   {
    "duration": 4,
    "start_time": "2022-02-07T06:26:52.327Z"
   },
   {
    "duration": 39,
    "start_time": "2022-02-07T06:26:52.333Z"
   },
   {
    "duration": 5,
    "start_time": "2022-02-07T06:26:52.376Z"
   },
   {
    "duration": 657,
    "start_time": "2022-02-07T06:26:52.383Z"
   },
   {
    "duration": 655,
    "start_time": "2022-02-07T06:26:53.042Z"
   },
   {
    "duration": 769,
    "start_time": "2022-02-07T06:26:53.700Z"
   },
   {
    "duration": 17,
    "start_time": "2022-02-07T06:26:54.471Z"
   },
   {
    "duration": 437,
    "start_time": "2022-02-07T06:26:54.491Z"
   },
   {
    "duration": 23,
    "start_time": "2022-02-07T06:26:54.931Z"
   },
   {
    "duration": 1755,
    "start_time": "2022-02-07T06:26:54.970Z"
   },
   {
    "duration": 14,
    "start_time": "2022-02-07T06:26:56.727Z"
   },
   {
    "duration": 28,
    "start_time": "2022-02-07T06:26:56.744Z"
   },
   {
    "duration": 9,
    "start_time": "2022-02-07T06:26:56.775Z"
   },
   {
    "duration": 5,
    "start_time": "2022-02-07T06:26:56.791Z"
   },
   {
    "duration": 7,
    "start_time": "2022-02-07T06:26:56.800Z"
   },
   {
    "duration": 4,
    "start_time": "2022-02-07T06:26:56.810Z"
   },
   {
    "duration": 99,
    "start_time": "2022-02-07T06:26:56.816Z"
   },
   {
    "duration": 445,
    "start_time": "2022-02-07T06:26:56.918Z"
   },
   {
    "duration": 7,
    "start_time": "2022-02-07T06:26:57.365Z"
   },
   {
    "duration": 63,
    "start_time": "2022-02-07T06:26:57.375Z"
   },
   {
    "duration": 37,
    "start_time": "2022-02-07T06:26:57.440Z"
   },
   {
    "duration": 12,
    "start_time": "2022-02-07T06:26:57.479Z"
   },
   {
    "duration": 10,
    "start_time": "2022-02-07T06:26:57.494Z"
   },
   {
    "duration": 862,
    "start_time": "2022-02-07T06:26:57.507Z"
   },
   {
    "duration": 150605,
    "start_time": "2022-02-07T06:26:58.372Z"
   },
   {
    "duration": 3,
    "start_time": "2022-02-07T06:29:28.979Z"
   },
   {
    "duration": 1908,
    "start_time": "2022-02-07T06:29:28.985Z"
   },
   {
    "duration": 5,
    "start_time": "2022-02-07T06:29:30.895Z"
   },
   {
    "duration": 17,
    "start_time": "2022-02-07T06:29:30.902Z"
   },
   {
    "duration": 73,
    "start_time": "2022-02-07T06:29:30.921Z"
   },
   {
    "duration": 19,
    "start_time": "2022-02-07T06:29:30.997Z"
   },
   {
    "duration": 61,
    "start_time": "2022-02-07T06:29:31.018Z"
   },
   {
    "duration": 470,
    "start_time": "2022-02-07T06:29:31.082Z"
   },
   {
    "duration": 25,
    "start_time": "2022-02-07T06:29:31.555Z"
   },
   {
    "duration": 1116,
    "start_time": "2022-02-07T06:29:31.582Z"
   },
   {
    "duration": 1085,
    "start_time": "2022-02-07T06:29:32.701Z"
   },
   {
    "duration": 29,
    "start_time": "2022-02-07T06:29:33.789Z"
   },
   {
    "duration": 8,
    "start_time": "2022-02-07T06:29:33.821Z"
   },
   {
    "duration": 4,
    "start_time": "2022-02-07T06:32:41.727Z"
   },
   {
    "duration": 1734,
    "start_time": "2022-02-07T06:32:58.637Z"
   },
   {
    "duration": 4,
    "start_time": "2022-02-07T06:33:00.959Z"
   },
   {
    "duration": 9,
    "start_time": "2022-02-07T06:33:03.734Z"
   },
   {
    "duration": 24,
    "start_time": "2022-02-07T06:33:11.734Z"
   },
   {
    "duration": 4,
    "start_time": "2022-02-07T06:36:36.461Z"
   },
   {
    "duration": 1891,
    "start_time": "2022-02-07T06:36:38.092Z"
   },
   {
    "duration": 5,
    "start_time": "2022-02-07T06:36:58.620Z"
   },
   {
    "duration": 8,
    "start_time": "2022-02-07T06:37:02.172Z"
   },
   {
    "duration": 24,
    "start_time": "2022-02-07T06:37:04.091Z"
   },
   {
    "duration": 4,
    "start_time": "2022-02-07T06:39:38.835Z"
   },
   {
    "duration": 1847,
    "start_time": "2022-02-07T06:39:40.434Z"
   },
   {
    "duration": 4,
    "start_time": "2022-02-07T06:39:42.746Z"
   },
   {
    "duration": 8,
    "start_time": "2022-02-07T06:39:45.530Z"
   },
   {
    "duration": 25,
    "start_time": "2022-02-07T06:39:48.339Z"
   },
   {
    "duration": 8,
    "start_time": "2022-02-07T06:40:28.443Z"
   },
   {
    "duration": 806,
    "start_time": "2022-02-07T06:40:30.986Z"
   },
   {
    "duration": 3,
    "start_time": "2022-02-07T06:40:33.554Z"
   },
   {
    "duration": 3,
    "start_time": "2022-02-07T06:40:36.818Z"
   },
   {
    "duration": 1826,
    "start_time": "2022-02-07T06:40:38.346Z"
   },
   {
    "duration": 5,
    "start_time": "2022-02-07T06:40:40.705Z"
   },
   {
    "duration": 8,
    "start_time": "2022-02-07T06:40:43.441Z"
   },
   {
    "duration": 409,
    "start_time": "2022-02-07T06:41:03.783Z"
   },
   {
    "duration": 8,
    "start_time": "2022-02-07T06:41:42.340Z"
   },
   {
    "duration": 884,
    "start_time": "2022-02-07T06:41:51.306Z"
   },
   {
    "duration": 3,
    "start_time": "2022-02-07T06:41:54.643Z"
   },
   {
    "duration": 1782,
    "start_time": "2022-02-07T06:41:55.697Z"
   },
   {
    "duration": 3,
    "start_time": "2022-02-07T06:41:57.482Z"
   },
   {
    "duration": 8,
    "start_time": "2022-02-07T06:42:06.426Z"
   },
   {
    "duration": 4,
    "start_time": "2022-02-07T06:42:33.449Z"
   },
   {
    "duration": 1992,
    "start_time": "2022-02-07T06:42:34.977Z"
   },
   {
    "duration": 5,
    "start_time": "2022-02-07T06:42:37.488Z"
   },
   {
    "duration": 8,
    "start_time": "2022-02-07T06:42:43.209Z"
   },
   {
    "duration": 4,
    "start_time": "2022-02-07T06:42:59.305Z"
   },
   {
    "duration": 1813,
    "start_time": "2022-02-07T06:43:00.856Z"
   },
   {
    "duration": 4,
    "start_time": "2022-02-07T06:43:03.193Z"
   },
   {
    "duration": 9,
    "start_time": "2022-02-07T06:43:06.000Z"
   },
   {
    "duration": 4,
    "start_time": "2022-02-07T06:43:29.176Z"
   },
   {
    "duration": 1872,
    "start_time": "2022-02-07T06:43:30.697Z"
   },
   {
    "duration": 5,
    "start_time": "2022-02-07T06:43:33.079Z"
   },
   {
    "duration": 8,
    "start_time": "2022-02-07T06:43:40.360Z"
   },
   {
    "duration": 25,
    "start_time": "2022-02-07T06:43:55.721Z"
   },
   {
    "duration": 19,
    "start_time": "2022-02-07T06:44:12.201Z"
   },
   {
    "duration": 21,
    "start_time": "2022-02-07T06:44:14.105Z"
   },
   {
    "duration": 442,
    "start_time": "2022-02-07T06:44:14.920Z"
   },
   {
    "duration": 16,
    "start_time": "2022-02-07T06:44:27.744Z"
   },
   {
    "duration": 1063,
    "start_time": "2022-02-07T06:44:28.441Z"
   },
   {
    "duration": 1089,
    "start_time": "2022-02-07T06:44:29.507Z"
   },
   {
    "duration": 34,
    "start_time": "2022-02-07T06:44:33.642Z"
   },
   {
    "duration": 9,
    "start_time": "2022-02-07T06:44:34.208Z"
   },
   {
    "duration": 1676,
    "start_time": "2022-02-07T06:45:03.203Z"
   },
   {
    "duration": 25,
    "start_time": "2022-02-07T06:45:04.881Z"
   },
   {
    "duration": 25,
    "start_time": "2022-02-07T06:45:04.909Z"
   },
   {
    "duration": 11,
    "start_time": "2022-02-07T06:45:04.937Z"
   },
   {
    "duration": 76,
    "start_time": "2022-02-07T06:45:04.950Z"
   },
   {
    "duration": 6,
    "start_time": "2022-02-07T06:45:05.028Z"
   },
   {
    "duration": 10,
    "start_time": "2022-02-07T06:45:05.036Z"
   },
   {
    "duration": 10,
    "start_time": "2022-02-07T06:45:05.050Z"
   },
   {
    "duration": 19,
    "start_time": "2022-02-07T06:45:05.063Z"
   },
   {
    "duration": 12,
    "start_time": "2022-02-07T06:45:05.084Z"
   },
   {
    "duration": 13,
    "start_time": "2022-02-07T06:45:05.099Z"
   },
   {
    "duration": 40,
    "start_time": "2022-02-07T06:45:05.114Z"
   },
   {
    "duration": 34,
    "start_time": "2022-02-07T06:45:05.157Z"
   },
   {
    "duration": 4,
    "start_time": "2022-02-07T06:45:05.193Z"
   },
   {
    "duration": 15,
    "start_time": "2022-02-07T06:45:05.199Z"
   },
   {
    "duration": 10,
    "start_time": "2022-02-07T06:45:05.216Z"
   },
   {
    "duration": 835,
    "start_time": "2022-02-07T06:45:05.229Z"
   },
   {
    "duration": 731,
    "start_time": "2022-02-07T06:45:06.069Z"
   },
   {
    "duration": 751,
    "start_time": "2022-02-07T06:45:06.802Z"
   },
   {
    "duration": 24,
    "start_time": "2022-02-07T06:45:07.556Z"
   },
   {
    "duration": 416,
    "start_time": "2022-02-07T06:45:07.582Z"
   },
   {
    "duration": 22,
    "start_time": "2022-02-07T06:45:08.001Z"
   },
   {
    "duration": 1736,
    "start_time": "2022-02-07T06:45:08.028Z"
   },
   {
    "duration": 13,
    "start_time": "2022-02-07T06:45:09.769Z"
   },
   {
    "duration": 8,
    "start_time": "2022-02-07T06:45:09.785Z"
   },
   {
    "duration": 8,
    "start_time": "2022-02-07T06:45:09.795Z"
   },
   {
    "duration": 5,
    "start_time": "2022-02-07T06:45:09.806Z"
   },
   {
    "duration": 10,
    "start_time": "2022-02-07T06:45:09.813Z"
   },
   {
    "duration": 46,
    "start_time": "2022-02-07T06:45:09.825Z"
   },
   {
    "duration": 51,
    "start_time": "2022-02-07T06:45:09.873Z"
   },
   {
    "duration": 457,
    "start_time": "2022-02-07T06:45:09.927Z"
   },
   {
    "duration": 7,
    "start_time": "2022-02-07T06:45:10.386Z"
   },
   {
    "duration": 78,
    "start_time": "2022-02-07T06:45:10.395Z"
   },
   {
    "duration": 10,
    "start_time": "2022-02-07T06:45:10.476Z"
   },
   {
    "duration": 10,
    "start_time": "2022-02-07T06:45:10.489Z"
   },
   {
    "duration": 18,
    "start_time": "2022-02-07T06:45:10.502Z"
   },
   {
    "duration": 819,
    "start_time": "2022-02-07T06:45:10.522Z"
   },
   {
    "duration": 4,
    "start_time": "2022-02-07T06:45:11.344Z"
   },
   {
    "duration": 20,
    "start_time": "2022-02-07T06:45:11.351Z"
   },
   {
    "duration": 1697,
    "start_time": "2022-02-07T06:45:11.373Z"
   },
   {
    "duration": 6,
    "start_time": "2022-02-07T06:45:13.073Z"
   },
   {
    "duration": 32,
    "start_time": "2022-02-07T06:45:13.082Z"
   },
   {
    "duration": 19,
    "start_time": "2022-02-07T06:45:13.117Z"
   },
   {
    "duration": 54,
    "start_time": "2022-02-07T06:45:13.139Z"
   },
   {
    "duration": 19,
    "start_time": "2022-02-07T06:45:13.196Z"
   },
   {
    "duration": 26,
    "start_time": "2022-02-07T06:45:13.218Z"
   },
   {
    "duration": 467,
    "start_time": "2022-02-07T06:45:13.246Z"
   },
   {
    "duration": 17,
    "start_time": "2022-02-07T06:45:13.715Z"
   },
   {
    "duration": 1022,
    "start_time": "2022-02-07T06:45:13.734Z"
   },
   {
    "duration": 1132,
    "start_time": "2022-02-07T06:45:14.758Z"
   },
   {
    "duration": 31,
    "start_time": "2022-02-07T06:45:15.893Z"
   },
   {
    "duration": 9,
    "start_time": "2022-02-07T06:45:15.926Z"
   },
   {
    "duration": 1531,
    "start_time": "2022-02-07T06:56:05.406Z"
   },
   {
    "duration": 24,
    "start_time": "2022-02-07T06:56:06.940Z"
   },
   {
    "duration": 22,
    "start_time": "2022-02-07T06:56:06.967Z"
   },
   {
    "duration": 28,
    "start_time": "2022-02-07T06:56:06.992Z"
   },
   {
    "duration": 85,
    "start_time": "2022-02-07T06:56:07.022Z"
   },
   {
    "duration": 6,
    "start_time": "2022-02-07T06:56:07.109Z"
   },
   {
    "duration": 6,
    "start_time": "2022-02-07T06:56:07.117Z"
   },
   {
    "duration": 6,
    "start_time": "2022-02-07T06:56:07.127Z"
   },
   {
    "duration": 45,
    "start_time": "2022-02-07T06:56:07.136Z"
   },
   {
    "duration": 8,
    "start_time": "2022-02-07T06:56:07.184Z"
   },
   {
    "duration": 13,
    "start_time": "2022-02-07T06:56:07.194Z"
   },
   {
    "duration": 77,
    "start_time": "2022-02-07T06:56:07.209Z"
   },
   {
    "duration": 24,
    "start_time": "2022-02-07T06:56:07.288Z"
   },
   {
    "duration": 4,
    "start_time": "2022-02-07T06:56:07.314Z"
   },
   {
    "duration": 7,
    "start_time": "2022-02-07T06:56:07.320Z"
   },
   {
    "duration": 39,
    "start_time": "2022-02-07T06:56:07.330Z"
   },
   {
    "duration": 665,
    "start_time": "2022-02-07T06:56:07.371Z"
   },
   {
    "duration": 652,
    "start_time": "2022-02-07T06:56:08.038Z"
   },
   {
    "duration": 761,
    "start_time": "2022-02-07T06:56:08.693Z"
   },
   {
    "duration": 25,
    "start_time": "2022-02-07T06:56:09.456Z"
   },
   {
    "duration": 437,
    "start_time": "2022-02-07T06:56:09.484Z"
   },
   {
    "duration": 23,
    "start_time": "2022-02-07T06:56:09.923Z"
   },
   {
    "duration": 1876,
    "start_time": "2022-02-07T06:56:09.952Z"
   },
   {
    "duration": 14,
    "start_time": "2022-02-07T06:56:11.831Z"
   },
   {
    "duration": 9,
    "start_time": "2022-02-07T06:56:11.870Z"
   },
   {
    "duration": 8,
    "start_time": "2022-02-07T06:56:11.881Z"
   },
   {
    "duration": 7,
    "start_time": "2022-02-07T06:56:11.891Z"
   },
   {
    "duration": 9,
    "start_time": "2022-02-07T06:56:11.901Z"
   },
   {
    "duration": 5,
    "start_time": "2022-02-07T06:56:11.913Z"
   },
   {
    "duration": 97,
    "start_time": "2022-02-07T06:56:11.921Z"
   },
   {
    "duration": 457,
    "start_time": "2022-02-07T06:56:12.021Z"
   },
   {
    "duration": 7,
    "start_time": "2022-02-07T06:56:12.481Z"
   },
   {
    "duration": 81,
    "start_time": "2022-02-07T06:56:12.490Z"
   },
   {
    "duration": 12,
    "start_time": "2022-02-07T06:56:12.574Z"
   },
   {
    "duration": 12,
    "start_time": "2022-02-07T06:56:12.588Z"
   },
   {
    "duration": 8,
    "start_time": "2022-02-07T06:56:12.602Z"
   },
   {
    "duration": 824,
    "start_time": "2022-02-07T06:56:12.613Z"
   },
   {
    "duration": 147258,
    "start_time": "2022-02-07T06:56:13.440Z"
   },
   {
    "duration": 4,
    "start_time": "2022-02-07T06:58:40.700Z"
   },
   {
    "duration": 1762,
    "start_time": "2022-02-07T06:58:40.707Z"
   },
   {
    "duration": 5,
    "start_time": "2022-02-07T06:58:42.472Z"
   },
   {
    "duration": 11,
    "start_time": "2022-02-07T06:58:42.479Z"
   },
   {
    "duration": 24,
    "start_time": "2022-02-07T06:58:42.492Z"
   },
   {
    "duration": 53,
    "start_time": "2022-02-07T06:58:42.518Z"
   },
   {
    "duration": 19,
    "start_time": "2022-02-07T06:58:42.575Z"
   },
   {
    "duration": 480,
    "start_time": "2022-02-07T06:58:42.597Z"
   },
   {
    "duration": 17,
    "start_time": "2022-02-07T06:58:43.079Z"
   },
   {
    "duration": 1059,
    "start_time": "2022-02-07T06:58:43.098Z"
   },
   {
    "duration": 1085,
    "start_time": "2022-02-07T06:58:44.159Z"
   },
   {
    "duration": 42,
    "start_time": "2022-02-07T06:58:45.247Z"
   },
   {
    "duration": 9,
    "start_time": "2022-02-07T06:58:45.291Z"
   },
   {
    "duration": 2071,
    "start_time": "2022-02-07T18:13:28.709Z"
   },
   {
    "duration": 99,
    "start_time": "2022-02-07T18:13:30.783Z"
   },
   {
    "duration": 25,
    "start_time": "2022-02-07T18:13:30.885Z"
   },
   {
    "duration": 20,
    "start_time": "2022-02-07T18:13:30.912Z"
   },
   {
    "duration": 80,
    "start_time": "2022-02-07T18:13:30.934Z"
   },
   {
    "duration": 6,
    "start_time": "2022-02-07T18:13:31.017Z"
   },
   {
    "duration": 15,
    "start_time": "2022-02-07T18:13:31.026Z"
   },
   {
    "duration": 19,
    "start_time": "2022-02-07T18:13:31.045Z"
   },
   {
    "duration": 18,
    "start_time": "2022-02-07T18:13:31.068Z"
   },
   {
    "duration": 9,
    "start_time": "2022-02-07T18:13:31.088Z"
   },
   {
    "duration": 13,
    "start_time": "2022-02-07T18:13:31.100Z"
   },
   {
    "duration": 78,
    "start_time": "2022-02-07T18:13:31.115Z"
   },
   {
    "duration": 24,
    "start_time": "2022-02-07T18:13:31.196Z"
   },
   {
    "duration": 4,
    "start_time": "2022-02-07T18:13:31.222Z"
   },
   {
    "duration": 7,
    "start_time": "2022-02-07T18:13:31.261Z"
   },
   {
    "duration": 6,
    "start_time": "2022-02-07T18:13:31.270Z"
   },
   {
    "duration": 655,
    "start_time": "2022-02-07T18:13:31.278Z"
   },
   {
    "duration": 640,
    "start_time": "2022-02-07T18:13:31.935Z"
   },
   {
    "duration": 819,
    "start_time": "2022-02-07T18:13:32.578Z"
   },
   {
    "duration": 16,
    "start_time": "2022-02-07T18:13:33.400Z"
   },
   {
    "duration": 419,
    "start_time": "2022-02-07T18:13:33.418Z"
   },
   {
    "duration": 38,
    "start_time": "2022-02-07T18:13:33.840Z"
   },
   {
    "duration": 1774,
    "start_time": "2022-02-07T18:13:33.885Z"
   },
   {
    "duration": 14,
    "start_time": "2022-02-07T18:13:35.663Z"
   },
   {
    "duration": 21,
    "start_time": "2022-02-07T18:13:35.680Z"
   },
   {
    "duration": 8,
    "start_time": "2022-02-07T18:13:35.704Z"
   },
   {
    "duration": 15,
    "start_time": "2022-02-07T18:13:35.715Z"
   },
   {
    "duration": 7,
    "start_time": "2022-02-07T18:13:35.760Z"
   },
   {
    "duration": 8,
    "start_time": "2022-02-07T18:13:35.770Z"
   },
   {
    "duration": 55,
    "start_time": "2022-02-07T18:13:35.781Z"
   },
   {
    "duration": 463,
    "start_time": "2022-02-07T18:13:35.838Z"
   },
   {
    "duration": 7,
    "start_time": "2022-02-07T18:13:36.304Z"
   },
   {
    "duration": 84,
    "start_time": "2022-02-07T18:13:36.313Z"
   },
   {
    "duration": 12,
    "start_time": "2022-02-07T18:13:36.400Z"
   },
   {
    "duration": 12,
    "start_time": "2022-02-07T18:13:36.414Z"
   },
   {
    "duration": 36,
    "start_time": "2022-02-07T18:13:36.428Z"
   },
   {
    "duration": 788,
    "start_time": "2022-02-07T18:13:36.466Z"
   },
   {
    "duration": 144013,
    "start_time": "2022-02-07T18:13:37.259Z"
   },
   {
    "duration": 5,
    "start_time": "2022-02-07T18:16:01.275Z"
   },
   {
    "duration": 1778,
    "start_time": "2022-02-07T18:16:01.282Z"
   },
   {
    "duration": 5,
    "start_time": "2022-02-07T18:16:03.063Z"
   },
   {
    "duration": 12,
    "start_time": "2022-02-07T18:16:03.071Z"
   },
   {
    "duration": 26,
    "start_time": "2022-02-07T18:16:03.086Z"
   },
   {
    "duration": 58,
    "start_time": "2022-02-07T18:16:03.115Z"
   },
   {
    "duration": 21,
    "start_time": "2022-02-07T18:16:03.176Z"
   },
   {
    "duration": 601,
    "start_time": "2022-02-07T18:16:03.200Z"
   },
   {
    "duration": 16,
    "start_time": "2022-02-07T18:16:03.804Z"
   },
   {
    "duration": 1194,
    "start_time": "2022-02-07T18:16:03.822Z"
   },
   {
    "duration": 1077,
    "start_time": "2022-02-07T18:16:05.018Z"
   },
   {
    "duration": 29,
    "start_time": "2022-02-07T18:16:06.097Z"
   },
   {
    "duration": 31,
    "start_time": "2022-02-07T18:16:06.129Z"
   },
   {
    "duration": 57,
    "start_time": "2022-02-08T09:47:18.688Z"
   },
   {
    "duration": 56,
    "start_time": "2022-02-08T09:49:02.565Z"
   },
   {
    "duration": 208,
    "start_time": "2022-02-08T09:58:49.025Z"
   },
   {
    "duration": 1282,
    "start_time": "2022-02-08T09:59:03.460Z"
   },
   {
    "duration": 22,
    "start_time": "2022-02-08T09:59:04.744Z"
   },
   {
    "duration": 26,
    "start_time": "2022-02-08T09:59:04.768Z"
   },
   {
    "duration": 7,
    "start_time": "2022-02-08T09:59:04.795Z"
   },
   {
    "duration": 49,
    "start_time": "2022-02-08T09:59:04.804Z"
   },
   {
    "duration": 5,
    "start_time": "2022-02-08T09:59:04.859Z"
   },
   {
    "duration": 6,
    "start_time": "2022-02-08T09:59:04.866Z"
   },
   {
    "duration": 5,
    "start_time": "2022-02-08T09:59:04.875Z"
   },
   {
    "duration": 12,
    "start_time": "2022-02-08T09:59:04.882Z"
   },
   {
    "duration": 6,
    "start_time": "2022-02-08T09:59:04.895Z"
   },
   {
    "duration": 9,
    "start_time": "2022-02-08T09:59:04.903Z"
   },
   {
    "duration": 66,
    "start_time": "2022-02-08T09:59:04.914Z"
   },
   {
    "duration": 16,
    "start_time": "2022-02-08T09:59:04.982Z"
   },
   {
    "duration": 3,
    "start_time": "2022-02-08T09:59:05.000Z"
   },
   {
    "duration": 6,
    "start_time": "2022-02-08T09:59:05.005Z"
   },
   {
    "duration": 5,
    "start_time": "2022-02-08T09:59:05.013Z"
   },
   {
    "duration": 439,
    "start_time": "2022-02-08T09:59:05.020Z"
   },
   {
    "duration": 394,
    "start_time": "2022-02-08T09:59:05.461Z"
   },
   {
    "duration": 494,
    "start_time": "2022-02-08T09:59:05.858Z"
   },
   {
    "duration": 13,
    "start_time": "2022-02-08T09:59:06.354Z"
   },
   {
    "duration": 290,
    "start_time": "2022-02-08T09:59:06.368Z"
   },
   {
    "duration": 14,
    "start_time": "2022-02-08T09:59:06.660Z"
   },
   {
    "duration": 1131,
    "start_time": "2022-02-08T09:59:06.677Z"
   },
   {
    "duration": 10,
    "start_time": "2022-02-08T09:59:10.872Z"
   },
   {
    "duration": 8,
    "start_time": "2022-02-08T09:59:32.617Z"
   },
   {
    "duration": 11,
    "start_time": "2022-02-08T10:01:22.127Z"
   },
   {
    "duration": 18,
    "start_time": "2022-02-08T10:02:14.187Z"
   },
   {
    "duration": 6,
    "start_time": "2022-02-08T10:02:29.133Z"
   },
   {
    "duration": 361,
    "start_time": "2022-02-08T10:02:47.718Z"
   },
   {
    "duration": 10,
    "start_time": "2022-02-08T10:02:50.615Z"
   },
   {
    "duration": 6,
    "start_time": "2022-02-08T10:02:51.287Z"
   },
   {
    "duration": 6,
    "start_time": "2022-02-08T10:03:32.684Z"
   },
   {
    "duration": 9,
    "start_time": "2022-02-08T10:03:33.276Z"
   },
   {
    "duration": 7,
    "start_time": "2022-02-08T10:03:34.003Z"
   },
   {
    "duration": 5,
    "start_time": "2022-02-08T10:15:17.173Z"
   },
   {
    "duration": 26,
    "start_time": "2022-02-08T10:15:17.180Z"
   },
   {
    "duration": 20,
    "start_time": "2022-02-08T10:15:17.208Z"
   },
   {
    "duration": 26,
    "start_time": "2022-02-08T10:15:17.229Z"
   },
   {
    "duration": 56,
    "start_time": "2022-02-08T10:15:17.256Z"
   },
   {
    "duration": 5,
    "start_time": "2022-02-08T10:15:17.313Z"
   },
   {
    "duration": 14,
    "start_time": "2022-02-08T10:15:17.322Z"
   },
   {
    "duration": 7,
    "start_time": "2022-02-08T10:15:17.338Z"
   },
   {
    "duration": 31,
    "start_time": "2022-02-08T10:15:17.347Z"
   },
   {
    "duration": 16,
    "start_time": "2022-02-08T10:15:17.380Z"
   },
   {
    "duration": 28,
    "start_time": "2022-02-08T10:15:17.397Z"
   },
   {
    "duration": 33,
    "start_time": "2022-02-08T10:15:17.427Z"
   },
   {
    "duration": 15,
    "start_time": "2022-02-08T10:15:17.462Z"
   },
   {
    "duration": 3,
    "start_time": "2022-02-08T10:15:17.479Z"
   },
   {
    "duration": 13,
    "start_time": "2022-02-08T10:15:17.484Z"
   },
   {
    "duration": 20,
    "start_time": "2022-02-08T10:15:17.499Z"
   },
   {
    "duration": 431,
    "start_time": "2022-02-08T10:15:17.521Z"
   },
   {
    "duration": 415,
    "start_time": "2022-02-08T10:15:17.954Z"
   },
   {
    "duration": 598,
    "start_time": "2022-02-08T10:15:18.372Z"
   },
   {
    "duration": 13,
    "start_time": "2022-02-08T10:15:18.973Z"
   },
   {
    "duration": 230,
    "start_time": "2022-02-08T10:15:18.988Z"
   },
   {
    "duration": 12,
    "start_time": "2022-02-08T10:15:19.219Z"
   },
   {
    "duration": 1263,
    "start_time": "2022-02-08T10:15:19.232Z"
   },
   {
    "duration": 6,
    "start_time": "2022-02-08T10:15:20.497Z"
   },
   {
    "duration": 32,
    "start_time": "2022-02-08T10:15:20.504Z"
   },
   {
    "duration": 11,
    "start_time": "2022-02-08T10:15:20.538Z"
   },
   {
    "duration": 13,
    "start_time": "2022-02-08T10:15:20.551Z"
   },
   {
    "duration": 4,
    "start_time": "2022-02-08T10:15:22.873Z"
   },
   {
    "duration": 8,
    "start_time": "2022-02-08T10:15:23.512Z"
   },
   {
    "duration": 3,
    "start_time": "2022-02-08T10:15:27.449Z"
   },
   {
    "duration": 23,
    "start_time": "2022-02-08T10:15:28.297Z"
   },
   {
    "duration": 258,
    "start_time": "2022-02-08T10:15:28.785Z"
   },
   {
    "duration": 5,
    "start_time": "2022-02-08T10:15:30.953Z"
   },
   {
    "duration": 40,
    "start_time": "2022-02-08T10:15:31.395Z"
   },
   {
    "duration": 8,
    "start_time": "2022-02-08T10:15:33.618Z"
   },
   {
    "duration": 9,
    "start_time": "2022-02-08T10:15:34.489Z"
   },
   {
    "duration": 9,
    "start_time": "2022-02-08T10:16:18.607Z"
   },
   {
    "duration": 3,
    "start_time": "2022-02-08T10:16:21.467Z"
   },
   {
    "duration": 26,
    "start_time": "2022-02-08T10:16:22.155Z"
   },
   {
    "duration": 283,
    "start_time": "2022-02-08T10:16:22.435Z"
   },
   {
    "duration": 5,
    "start_time": "2022-02-08T10:16:24.635Z"
   },
   {
    "duration": 40,
    "start_time": "2022-02-08T10:16:25.138Z"
   },
   {
    "duration": 8,
    "start_time": "2022-02-08T10:16:26.315Z"
   },
   {
    "duration": 8,
    "start_time": "2022-02-08T10:16:27.778Z"
   },
   {
    "duration": 1191,
    "start_time": "2022-02-08T10:26:35.247Z"
   },
   {
    "duration": 21,
    "start_time": "2022-02-08T10:26:36.440Z"
   },
   {
    "duration": 15,
    "start_time": "2022-02-08T10:26:36.464Z"
   },
   {
    "duration": 6,
    "start_time": "2022-02-08T10:26:36.481Z"
   },
   {
    "duration": 48,
    "start_time": "2022-02-08T10:26:36.488Z"
   },
   {
    "duration": 4,
    "start_time": "2022-02-08T10:26:36.538Z"
   },
   {
    "duration": 4,
    "start_time": "2022-02-08T10:26:36.559Z"
   },
   {
    "duration": 8,
    "start_time": "2022-02-08T10:26:36.566Z"
   },
   {
    "duration": 18,
    "start_time": "2022-02-08T10:26:36.576Z"
   },
   {
    "duration": 7,
    "start_time": "2022-02-08T10:26:36.596Z"
   },
   {
    "duration": 13,
    "start_time": "2022-02-08T10:26:36.605Z"
   },
   {
    "duration": 40,
    "start_time": "2022-02-08T10:26:36.619Z"
   },
   {
    "duration": 17,
    "start_time": "2022-02-08T10:26:36.660Z"
   },
   {
    "duration": 3,
    "start_time": "2022-02-08T10:26:36.678Z"
   },
   {
    "duration": 9,
    "start_time": "2022-02-08T10:26:36.683Z"
   },
   {
    "duration": 8,
    "start_time": "2022-02-08T10:26:36.693Z"
   },
   {
    "duration": 414,
    "start_time": "2022-02-08T10:26:36.702Z"
   },
   {
    "duration": 402,
    "start_time": "2022-02-08T10:26:37.117Z"
   },
   {
    "duration": 542,
    "start_time": "2022-02-08T10:26:37.521Z"
   },
   {
    "duration": 11,
    "start_time": "2022-02-08T10:26:38.065Z"
   },
   {
    "duration": 301,
    "start_time": "2022-02-08T10:26:38.077Z"
   },
   {
    "duration": 13,
    "start_time": "2022-02-08T10:26:38.379Z"
   },
   {
    "duration": 1073,
    "start_time": "2022-02-08T10:26:38.395Z"
   },
   {
    "duration": 5,
    "start_time": "2022-02-08T10:26:39.470Z"
   },
   {
    "duration": 11,
    "start_time": "2022-02-08T10:26:39.477Z"
   },
   {
    "duration": 5,
    "start_time": "2022-02-08T10:26:39.489Z"
   },
   {
    "duration": 6,
    "start_time": "2022-02-08T10:26:39.495Z"
   },
   {
    "duration": 7,
    "start_time": "2022-02-08T10:26:39.502Z"
   },
   {
    "duration": 9,
    "start_time": "2022-02-08T10:26:39.510Z"
   },
   {
    "duration": 2,
    "start_time": "2022-02-08T10:26:39.521Z"
   },
   {
    "duration": 56,
    "start_time": "2022-02-08T10:26:39.524Z"
   },
   {
    "duration": 282,
    "start_time": "2022-02-08T10:26:39.581Z"
   },
   {
    "duration": 5,
    "start_time": "2022-02-08T10:26:39.864Z"
   },
   {
    "duration": 43,
    "start_time": "2022-02-08T10:26:39.870Z"
   },
   {
    "duration": 7,
    "start_time": "2022-02-08T10:26:39.914Z"
   },
   {
    "duration": 9,
    "start_time": "2022-02-08T10:26:39.922Z"
   },
   {
    "duration": 5,
    "start_time": "2022-02-08T10:26:39.933Z"
   },
   {
    "duration": 606,
    "start_time": "2022-02-08T10:26:39.939Z"
   },
   {
    "duration": 86043,
    "start_time": "2022-02-08T10:26:40.547Z"
   },
   {
    "duration": 2,
    "start_time": "2022-02-08T10:28:06.592Z"
   },
   {
    "duration": 1463,
    "start_time": "2022-02-08T10:28:06.596Z"
   },
   {
    "duration": 6,
    "start_time": "2022-02-08T10:28:08.061Z"
   },
   {
    "duration": 94,
    "start_time": "2022-02-08T10:28:08.069Z"
   },
   {
    "duration": 17,
    "start_time": "2022-02-08T10:28:08.164Z"
   },
   {
    "duration": 12,
    "start_time": "2022-02-08T10:28:08.182Z"
   },
   {
    "duration": 15,
    "start_time": "2022-02-08T10:28:08.195Z"
   },
   {
    "duration": 301,
    "start_time": "2022-02-08T10:28:08.211Z"
   },
   {
    "duration": 10,
    "start_time": "2022-02-08T10:28:08.514Z"
   },
   {
    "duration": 587,
    "start_time": "2022-02-08T10:28:08.526Z"
   },
   {
    "duration": 601,
    "start_time": "2022-02-08T10:28:09.115Z"
   },
   {
    "duration": 20,
    "start_time": "2022-02-08T10:28:09.718Z"
   },
   {
    "duration": 22,
    "start_time": "2022-02-08T10:28:09.739Z"
   }
  ],
  "kernelspec": {
   "display_name": "Python 3",
   "language": "python",
   "name": "python3"
  },
  "language_info": {
   "codemirror_mode": {
    "name": "ipython",
    "version": 3
   },
   "file_extension": ".py",
   "mimetype": "text/x-python",
   "name": "python",
   "nbconvert_exporter": "python",
   "pygments_lexer": "ipython3",
   "version": "3.7.8"
  },
  "toc": {
   "base_numbering": 1,
   "nav_menu": {},
   "number_sections": true,
   "sideBar": true,
   "skip_h1_title": true,
   "title_cell": "Содержание",
   "title_sidebar": "Содержание",
   "toc_cell": true,
   "toc_position": {},
   "toc_section_display": true,
   "toc_window_display": false
  }
 },
 "nbformat": 4,
 "nbformat_minor": 2
}
